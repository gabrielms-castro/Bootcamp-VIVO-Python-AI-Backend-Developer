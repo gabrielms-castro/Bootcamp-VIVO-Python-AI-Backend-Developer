{
 "cells": [
  {
   "cell_type": "markdown",
   "metadata": {},
   "source": [
    "# **Boas Práticas ao Manusear Arquivos**\n",
    "\n",
    "Abaixo estão as principais boas práticas ao manipular arquivos utilizando Python:"
   ]
  },
  {
   "cell_type": "markdown",
   "metadata": {},
   "source": [
    "### **Gerenciamento de Contexto**\n",
    "\n",
    "Use o gerenciamento de contexto (*context manager*) com a declaração ```with```. É uma forma de **automatizar** o fechamento do arquivo após sua utilização\n",
    "\n",
    "Isso garante a segurança ao trabalhar com arquivos e que eles sejam fechados corretamente, evitando desperdício de recursos computacionais no servidor.\n",
    "\n",
    "Deixar um arquivo aberto desperdiça recursos operacionais no servidor e abre brechas de segurança.\n",
    "\n",
    "**Obs:** Com o gerenciamento de contexto pelo ``with``, caso ocorra algum erro, ele garante que o arquivo seja fechado."
   ]
  },
  {
   "cell_type": "code",
   "execution_count": 2,
   "metadata": {},
   "outputs": [
    {
     "name": "stdout",
     "output_type": "stream",
     "text": [
      "linha 1: Hello, World!\n",
      "linha 2: Este Ã© um arquivo teste!\n",
      "linha 3: Boa sorte!\n"
     ]
    }
   ],
   "source": [
    "with open ('teste.txt', 'r') as arquivo:\n",
    "    # Fazer algo com o arquivo\n",
    "    print(arquivo.read())"
   ]
  },
  {
   "cell_type": "markdown",
   "metadata": {},
   "source": [
    "### **Tratamento de Exceções (Try e Except)**\n",
    "\n",
    "Adicione camadas de verificação e tratativas de erros para verificar se o arquivo foi aberto corretamente antes de manipulá-lo "
   ]
  },
  {
   "cell_type": "code",
   "execution_count": 4,
   "metadata": {},
   "outputs": [
    {
     "name": "stdout",
     "output_type": "stream",
     "text": [
      "Erro ao abrir o arquivo: [Errno 2] No such file or directory: 'test.txt'\n"
     ]
    }
   ],
   "source": [
    "try:\n",
    "    with open('test.txt', 'r') as arquivo:\n",
    "        print(arquivo.read())\n",
    "except IOError as err:\n",
    "    print(f\"Erro ao abrir o arquivo: {err}\")\n",
    "except Exception as err:\n",
    "    print(f\"Erro inesperado: {err}\")"
   ]
  },
  {
   "cell_type": "markdown",
   "metadata": {},
   "source": [
    "### **Use a Codificação Correta**\n",
    "\n",
    "Use a codificação correta ao ler ou gravar um arquivo pelo parâmetro ``encoding`` dentro da função ``open()``."
   ]
  },
  {
   "cell_type": "code",
   "execution_count": 6,
   "metadata": {},
   "outputs": [
    {
     "name": "stdout",
     "output_type": "stream",
     "text": [
      "linha 1: Hello, World!\n",
      "linha 2: Este é um arquivo teste!\n",
      "linha 3: Boa sorte!\n"
     ]
    }
   ],
   "source": [
    "try:\n",
    "    with open('teste.txt', 'r', encoding='utf-8') as arquivo:\n",
    "        print(arquivo.read())\n",
    "except IOError as err:\n",
    "    print(f\"Erro ao abrir o arquivo: {err}\")\n",
    "except Exception as err:\n",
    "    print(f\"Erro inesperado: {err}\")"
   ]
  },
  {
   "cell_type": "code",
   "execution_count": null,
   "metadata": {},
   "outputs": [],
   "source": []
  }
 ],
 "metadata": {
  "kernelspec": {
   "display_name": "Python 3",
   "language": "python",
   "name": "python3"
  },
  "language_info": {
   "codemirror_mode": {
    "name": "ipython",
    "version": 3
   },
   "file_extension": ".py",
   "mimetype": "text/x-python",
   "name": "python",
   "nbconvert_exporter": "python",
   "pygments_lexer": "ipython3",
   "version": "3.12.4"
  }
 },
 "nbformat": 4,
 "nbformat_minor": 2
}
