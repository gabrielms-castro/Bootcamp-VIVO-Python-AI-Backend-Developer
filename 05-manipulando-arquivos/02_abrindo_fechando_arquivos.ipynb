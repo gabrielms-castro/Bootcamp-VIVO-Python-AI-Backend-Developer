{
 "cells": [
  {
   "cell_type": "markdown",
   "metadata": {},
   "source": [
    "## **Abrindo e Fechando Arquivos**\n",
    "\n",
    "Para **abrir** um arquivo, utilizamos a função ``open()`` e para **fechar** um arquivo, a função ``close()``.\n",
    "\n",
    "**Boas Práticas**\n",
    "<br>É muito importante fechar um arquivo após sua manipulação para liberar recursos computacionais (e isso vale para qualquer linguagem de programação).\n",
    "<br>Quando você deixa um arquivo aberto sem necessidade, há um desperdício de capacidade computacional, fazendo seu programa \"gastar\" mais de forma desnecessária."
   ]
  },
  {
   "cell_type": "markdown",
   "metadata": {},
   "source": [
    "### **Modos de Abertura de Arquivo**\n",
    "\n",
    "Existem diferentes modos de abertura de um arquivo na função ``open()``\n",
    "\n",
    "```python\n",
    "open('nome_do_arquivo', 'modo_de_abertura') \n",
    "```\n",
    "\n",
    "* **Somente Leitura**:  'r' de *read*\n",
    "* **Gravação**:         'w' de *write* (Irá SOBRESCREVER o conteúdo do arquivo existente)\n",
    "* **Anexar**:           'a' de *append* (Irá ANEXAR o novo conteúdo ao conteúdo do arquivo existente)\n",
    "* **Criar**:            'x'\n",
    "\n",
    "Você pode combinar os modos acima com os tipos abaixo para especificar como o arquivo deve ser tratado:\n",
    "* Como um arquivo de **texto**: 't'\n",
    "* Como um **binário**:          'b'\n",
    "\n",
    "**Exemplo:**\n",
    "```Python\n",
    "open('arquivo_exemplo.txt', 'rt' ) #Abrirá o arquivo para somente leitura e será tratado como um arquivo de texto\n",
    "```"
   ]
  },
  {
   "cell_type": "code",
   "execution_count": 7,
   "metadata": {},
   "outputs": [
    {
     "name": "stdout",
     "output_type": "stream",
     "text": [
      "Hello, World!\n",
      "\n"
     ]
    }
   ],
   "source": [
    "arquivo = open('teste.txt', 'rt') #abrimos o arquivo\n",
    "print(arquivo.read())             #fazemos algo com ele (no caso, mostrar o conteúdo dele)\n",
    "arquivo.close()                   #fechamos o arquivo"
   ]
  }
 ],
 "metadata": {
  "kernelspec": {
   "display_name": "Python 3",
   "language": "python",
   "name": "python3"
  },
  "language_info": {
   "codemirror_mode": {
    "name": "ipython",
    "version": 3
   },
   "file_extension": ".py",
   "mimetype": "text/x-python",
   "name": "python",
   "nbconvert_exporter": "python",
   "pygments_lexer": "ipython3",
   "version": "3.12.4"
  }
 },
 "nbformat": 4,
 "nbformat_minor": 2
}
