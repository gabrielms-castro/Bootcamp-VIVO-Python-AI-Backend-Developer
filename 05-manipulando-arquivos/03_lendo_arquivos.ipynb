{
 "cells": [
  {
   "cell_type": "markdown",
   "metadata": {},
   "source": [
    "## **Lendo um Arquivo**\n",
    "\n",
    "Há várias métodos para ler um arquivo:\n",
    "* ``read()`` - Retorna todo o conteúdo do arquivo.\n",
    "* ``readline()`` - Retorna uma linha por vez.\n",
    "* ``readlines()`` - Retorna uma ``list`` onde cada elemento desta lista é uma linha do arquivo."
   ]
  },
  {
   "cell_type": "code",
   "execution_count": 1,
   "metadata": {},
   "outputs": [
    {
     "name": "stdout",
     "output_type": "stream",
     "text": [
      "linha 1: Hello, World!\n",
      "linha 2: Este Ã© um arquivo teste!\n",
      "linha 3: Boa sorte!\n"
     ]
    }
   ],
   "source": [
    "arquivo = open('teste.txt', 'r')\n",
    "\n",
    "print(arquivo.read())\n",
    "\n",
    "arquivo.close()"
   ]
  },
  {
   "cell_type": "code",
   "execution_count": 2,
   "metadata": {},
   "outputs": [
    {
     "name": "stdout",
     "output_type": "stream",
     "text": [
      "linha 1: Hello, World!\n",
      "\n",
      "linha 2: Este Ã© um arquivo teste!\n",
      "\n"
     ]
    }
   ],
   "source": [
    "arquivo = open('teste.txt', 'r')\n",
    "\n",
    "print(arquivo.readline()) #Chamar uma vez retorna a primeira linha\n",
    "print(arquivo.readline()) #Chamar a segunda vez retorna a segunda linha\n",
    "\n",
    "arquivo.close()"
   ]
  },
  {
   "cell_type": "code",
   "execution_count": 3,
   "metadata": {},
   "outputs": [
    {
     "data": {
      "text/plain": [
       "['linha 1: Hello, World!\\n',\n",
       " 'linha 2: Este Ã© um arquivo teste!\\n',\n",
       " 'linha 3: Boa sorte!']"
      ]
     },
     "execution_count": 3,
     "metadata": {},
     "output_type": "execute_result"
    }
   ],
   "source": [
    "#Cada linha do arquivo como um elemento de uma lista\n",
    "#Por ser uma linha, podemos usar todos os conceitos de tal estrutura\n",
    "arquivo = open('teste.txt', 'r')\n",
    "\n",
    "arquivo.readlines()"
   ]
  },
  {
   "cell_type": "code",
   "execution_count": 4,
   "metadata": {},
   "outputs": [
    {
     "name": "stdout",
     "output_type": "stream",
     "text": [
      "linha 1: Hello, World!\n",
      "\n",
      "linha 2: Este Ã© um arquivo teste!\n",
      "\n",
      "linha 3: Boa sorte!\n"
     ]
    }
   ],
   "source": [
    "arquivo = open('teste.txt', 'r')\n",
    "for linha in arquivo.readlines():\n",
    "    print(linha)\n",
    "arquivo.close()"
   ]
  },
  {
   "cell_type": "code",
   "execution_count": 5,
   "metadata": {},
   "outputs": [
    {
     "name": "stdout",
     "output_type": "stream",
     "text": [
      "linha 1: Hello, World!\n",
      "\n",
      "linha 2: Este Ã© um arquivo teste!\n",
      "\n",
      "linha 3: Boa sorte!\n"
     ]
    }
   ],
   "source": [
    "#Iterando com readline. Utilize para ler um arquivo grande linha por linha\n",
    "# OBS: O ideal seria fazer um  Gerador para isso.\n",
    "arquivo = open('teste.txt', 'r')\n",
    "\n",
    "while len(linha := arquivo.readline()):\n",
    "    print(linha)\n",
    "    \n",
    "arquivo.close()"
   ]
  },
  {
   "cell_type": "markdown",
   "metadata": {},
   "source": [
    "**Para  manipular arquivos grandes, lembre-se de criar um gerador para isso.**"
   ]
  },
  {
   "cell_type": "code",
   "execution_count": 6,
   "metadata": {},
   "outputs": [
    {
     "name": "stdout",
     "output_type": "stream",
     "text": [
      "linha 1: Hello, World!\n",
      "linha 2: Este Ã© um arquivo teste!\n",
      "linha 3: Boa sorte!"
     ]
    }
   ],
   "source": [
    "#Criando um gerador para ler um arquivo:\n",
    "def gerador_de_arquivo(arquivo):\n",
    "    while True:\n",
    "        linha = arquivo.readline()\n",
    "        \n",
    "        if not linha:\n",
    "            break\n",
    "        \n",
    "        yield linha\n",
    "\n",
    "#Criando o Gerador\n",
    "arquivo = gerador_de_arquivo(arquivo=open('teste.txt', 'r'))\n",
    "\n",
    "#Iterando com o Gerador\n",
    "for linha in arquivo:\n",
    "    print(linha, end='')"
   ]
  }
 ],
 "metadata": {
  "kernelspec": {
   "display_name": "Python 3",
   "language": "python",
   "name": "python3"
  },
  "language_info": {
   "codemirror_mode": {
    "name": "ipython",
    "version": 3
   },
   "file_extension": ".py",
   "mimetype": "text/x-python",
   "name": "python",
   "nbconvert_exporter": "python",
   "pygments_lexer": "ipython3",
   "version": "3.12.4"
  }
 },
 "nbformat": 4,
 "nbformat_minor": 2
}
