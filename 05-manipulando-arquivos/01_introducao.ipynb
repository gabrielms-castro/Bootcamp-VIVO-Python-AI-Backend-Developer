{
 "cells": [
  {
   "cell_type": "markdown",
   "metadata": {},
   "source": [
    "### **Por Que Manipular Arquivos é Importante?**\n",
    "\n",
    "Quanto temos um programa que não salva seus dados em algum lugar, perdendo todo conteúdo após sua finalização, estamos diante de um programa **Não Persistente**.\n",
    "\n",
    "Ao aprender a manipular arquivos, temos uma forma de gravar os dados do programa nestes arquivos e tornar o programa **Persistente**, sendo portanto, uma forma de **persistir os dados** por meio de arquivos.\n",
    "\n",
    "Arquivos são uma forma de armazenar e recuperar dados, persistindo-os além da vida útil de um programa"
   ]
  },
  {
   "cell_type": "markdown",
   "metadata": {},
   "source": [
    "### **O que é um Arquivo?**\n",
    "\n",
    "É um **Container** onde as informações são salvas em formato digital. Existem 02 tipos de arquivos que podemos manipular em Python\n",
    "\n",
    "1. Arquivos de Texto;\n",
    "2. Arquivos Binários"
   ]
  }
 ],
 "metadata": {
  "language_info": {
   "name": "python"
  }
 },
 "nbformat": 4,
 "nbformat_minor": 2
}
