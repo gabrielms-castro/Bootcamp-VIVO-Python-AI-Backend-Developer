{
 "cells": [
  {
   "cell_type": "markdown",
   "metadata": {},
   "source": [
    "## **Gerenciando Arquivos e Diretórios**\n",
    "\n",
    "É possível criar, renomear e excluir arquivos utilizando os módulos ``os`` e ``shutil``\n"
   ]
  },
  {
   "cell_type": "code",
   "execution_count": 1,
   "metadata": {},
   "outputs": [
    {
     "data": {
      "text/plain": [
       "'D:\\\\DIO\\\\dio-python-ai-backend-developer\\\\05-manipulando-arquivos\\\\move.txt'"
      ]
     },
     "execution_count": 1,
     "metadata": {},
     "output_type": "execute_result"
    }
   ],
   "source": [
    "import os\n",
    "import shutil\n",
    "\n",
    "#Cria um arquivo ou uma pasta\n",
    "os.mkdir(\"Exemplo\")\n",
    "\n",
    "#Renomeia um arquivo\n",
    "os.rename(\n",
    "    \"arquivo_exemplo.txt\", #Nome do arquivo\n",
    "    \"escrevendo_arquivos.txt\" #Novo nome\n",
    "    )\n",
    "\n",
    "#Deleta um arquivo\n",
    "os.remove('teste2.txt')\n",
    "\n",
    "shutil.move(\n",
    "    \"C:\\\\Users\\\\gabri\\\\Desktop\\\\move.txt\", #Onde esta o arquivo\n",
    "    \"D:\\\\DIO\\\\dio-python-ai-backend-developer\\\\05-manipulando-arquivos\\\\move.txt\" #Para onde quer mover\n",
    "    ) \n"
   ]
  },
  {
   "cell_type": "markdown",
   "metadata": {},
   "source": [
    "#### **Dica: Caminhos**\n",
    "\n",
    "Quando lidamos com a execução do programa de maneira remota, os caminhos dos arquivos se tornam dinâmicos. Para lidar com isso, importe o objeto ``Path`` do módulo ``pathlib``\n",
    "\n",
    "Com isso, você pegará o caminho de forma automática de onde seu programa está sendo executado.\n",
    "\n",
    "OBS: O código não será executado por estar dentro de um Jupyter Notebook, pois este ambiente não define a variável ``__file__`` (que identifica o caminho do script)"
   ]
  },
  {
   "cell_type": "code",
   "execution_count": null,
   "metadata": {},
   "outputs": [],
   "source": [
    "from pathlib import Path\n",
    "\n",
    "#exemplo de como seria utilizar o Path\n",
    "ROOT_PATH = Path(__file__).parent #Pega o caminho da pasta pai de onde o script está sendo executado\n",
    "\n",
    "os.mkdir(ROOT_PATH/'Nova Pasta')\n",
    "\n",
    "os.rename(ROOT_PATH/'move.txt',\n",
    "          ROOT_PATH/'move_renomeado.txt')\n"
   ]
  }
 ],
 "metadata": {
  "kernelspec": {
   "display_name": "Python 3",
   "language": "python",
   "name": "python3"
  },
  "language_info": {
   "codemirror_mode": {
    "name": "ipython",
    "version": 3
   },
   "file_extension": ".py",
   "mimetype": "text/x-python",
   "name": "python",
   "nbconvert_exporter": "python",
   "pygments_lexer": "ipython3",
   "version": "3.12.4"
  }
 },
 "nbformat": 4,
 "nbformat_minor": 2
}
