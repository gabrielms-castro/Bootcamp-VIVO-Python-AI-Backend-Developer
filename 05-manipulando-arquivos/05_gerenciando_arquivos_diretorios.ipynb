{
 "cells": [
  {
   "cell_type": "markdown",
   "metadata": {},
   "source": [
    "## **Gerenciando Arquivos e Diretórios**\n",
    "\n",
    "É possível criar, renomear e excluir arquivos utilizando os módulos ``os`` e ``shutil``\n"
   ]
  },
  {
   "cell_type": "code",
   "execution_count": 1,
   "metadata": {},
   "outputs": [
    {
     "data": {
      "text/plain": [
       "'D:\\\\DIO\\\\dio-python-ai-backend-developer\\\\05-manipulando-arquivos\\\\move.txt'"
      ]
     },
     "execution_count": 1,
     "metadata": {},
     "output_type": "execute_result"
    }
   ],
   "source": [
    "import os\n",
    "import shutil\n",
    "\n",
    "#Cria um arquivo ou uma pasta\n",
    "os.mkdir(\"Exemplo\")\n",
    "\n",
    "#Renomeia um arquivo\n",
    "os.rename(\n",
    "    \"arquivo_exemplo.txt\", #Nome do arquivo\n",
    "    \"escrevendo_arquivos.txt\" #Novo nome\n",
    "    )\n",
    "\n",
    "#Deleta um arquivo\n",
    "os.remove('teste2.txt')\n",
    "\n",
    "shutil.move(\n",
    "    \"C:\\\\Users\\\\gabri\\\\Desktop\\\\move.txt\", #Onde esta o arquivo\n",
    "    \"D:\\\\DIO\\\\dio-python-ai-backend-developer\\\\05-manipulando-arquivos\\\\move.txt\" #Para onde quer mover\n",
    "    ) \n"
   ]
  },
  {
   "cell_type": "code",
   "execution_count": null,
   "metadata": {},
   "outputs": [],
   "source": []
  }
 ],
 "metadata": {
  "kernelspec": {
   "display_name": "Python 3",
   "language": "python",
   "name": "python3"
  },
  "language_info": {
   "codemirror_mode": {
    "name": "ipython",
    "version": 3
   },
   "file_extension": ".py",
   "mimetype": "text/x-python",
   "name": "python",
   "nbconvert_exporter": "python",
   "pygments_lexer": "ipython3",
   "version": "3.12.4"
  }
 },
 "nbformat": 4,
 "nbformat_minor": 2
}
