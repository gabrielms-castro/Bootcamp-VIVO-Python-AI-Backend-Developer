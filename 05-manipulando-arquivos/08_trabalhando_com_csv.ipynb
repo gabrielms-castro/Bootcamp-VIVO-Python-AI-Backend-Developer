{
 "cells": [
  {
   "cell_type": "markdown",
   "metadata": {},
   "source": [
    "# **Trabalhando com Arquivos CSV**\n",
    "\n",
    "Arquivo csv é um arquivo de texto utilizando para armazenar dados em formato tabular.\n",
    "csv significa *comma separated values* (valores separados por vírgula), mas não necessariamente precisa ser vírgula, pode ser outros **delimitadores**"
   ]
  },
  {
   "cell_type": "code",
   "execution_count": 1,
   "metadata": {},
   "outputs": [
    {
     "name": "stdout",
     "output_type": "stream",
     "text": [
      "['\\ufeffData;Status;Tipo de Caso;Equipe']\n",
      "['03/05/2024;Ativo;Procon;Equipe Celeste']\n",
      "['09/05/2024;Ativo;Cível;Equipe Turquesa']\n",
      "['03/05/2024;Ativo;Procon;Equipe Verde']\n",
      "<class '_csv.reader'>\n"
     ]
    }
   ],
   "source": [
    "import csv\n",
    "with open('arquivo_csv.csv', 'r', encoding='utf-8') as csv_file:\n",
    "    reader = csv.reader(csv_file)\n",
    "    for linha in reader:\n",
    "        print(linha)\n",
    "        \n",
    "print(type(reader))"
   ]
  },
  {
   "cell_type": "markdown",
   "metadata": {},
   "source": [
    "#### **Escrevendo e Lendo um Arquivo CSV**\n",
    "\n",
    "Ao escrever um arquivo ```.csv```, o modo de abertura ```w```deve ser utilizado dentro do método ``òpen()```, além de passar o parâmetro ```newline=''`` também.\n",
    "\n",
    "Para **ler**, é necessário passar o modo de abertura ```r``` e utilizar o método ```reader()``` e depois iterar linha a linha o arquivo."
   ]
  },
  {
   "cell_type": "code",
   "execution_count": 2,
   "metadata": {},
   "outputs": [
    {
     "name": "stdout",
     "output_type": "stream",
     "text": [
      "['primeira_coluna', 'segunda_coluna', 'terceira_coluna']\n",
      "['valor1', 'valor2', 'valor3']\n",
      "['valor4', 'valor5', 'valor6']\n"
     ]
    }
   ],
   "source": [
    "import csv\n",
    "\n",
    "# escrevendo um arquivo csv\n",
    "try:\n",
    "    with open(\"arquivo_csv_novo.csv\", \"w\", newline=\"\") as csv_file:\n",
    "        writer = csv.writer(csv_file)\n",
    "        writer.writerow([\"primeira_coluna\", \"segunda_coluna\", \"terceira_coluna\"])\n",
    "        writer.writerow([\"valor1\", \"valor2\", \"valor3\"])\n",
    "        writer.writerow([\"valor4\", \"valor5\", \"valor6\"])\n",
    "except IOError as err:\n",
    "    print(f\"Erro ao criar o arquivo: {err}\")\n",
    "\n",
    "# lendo o arquivo que foi criado\n",
    "try:\n",
    "    with open(\"arquivo_csv_novo.csv\", \"r\") as csv_file:\n",
    "        reader = csv.reader(csv_file)\n",
    "        for linha in reader:\n",
    "            print(linha)\n",
    "except IOError as err:\n",
    "    print(f\"Erro ao ler o arquivo: {err}\")\n"
   ]
  },
  {
   "cell_type": "markdown",
   "metadata": {},
   "source": [
    "#### **Práticas Recomendadas**\n",
    "\n",
    "* Use ``csv.reader()`` e ``csv.writer()`` para ler e escrever arquivos ``.csv`` respectivamente.\n",
    "* Trate corretamete as exceções\n",
    "* Utilize o parâmetro ``newline=''`` no método ``open()`` quando for escrever um arquivo ``.csv``"
   ]
  },
  {
   "cell_type": "markdown",
   "metadata": {},
   "source": [
    "#### **Especificando Colunas a serem Lidas**\n",
    "\n",
    "Como cada linha do csv será tratado como uma lista, é possível especificar **constantes** com o índice de cada elemento dessa lista e acessá-los quando quiser."
   ]
  },
  {
   "cell_type": "code",
   "execution_count": 3,
   "metadata": {},
   "outputs": [],
   "source": [
    "# Criando um novo arquivo csv\n",
    "try:\n",
    "    with open(\"dados_clientes.csv\", \"w\", newline=\"\") as csv_file:\n",
    "        gravador = csv.writer(csv_file)\n",
    "        gravador.writerow([\"Nome\", \"Idade\", \"Profissão\", \"Renda\", \"Cidade\"])\n",
    "        gravador.writerow([\"Marcos\", \"48\", \"Eng. Software\", 180_000, \"São Paulo\"])\n",
    "        gravador.writerow([\"Paula\", \"37\", \"Analista de BI\", 75_400, \"Guarulhos\"])\n",
    "        gravador.writerow([\"Hermes\", \"72\", \"Aposentado\", 60_000, \"Campinas\"])\n",
    "except IOError as err:\n",
    "    print(f\"Erro ao criar o arquivo: {err}\")\n"
   ]
  },
  {
   "cell_type": "code",
   "execution_count": 4,
   "metadata": {},
   "outputs": [
    {
     "name": "stdout",
     "output_type": "stream",
     "text": [
      "Nome \tIdade \tProfissão \tRenda \tCidade\n",
      "Marcos \t48 \tEng. Software \t180000 \tSão Paulo\n",
      "Paula \t37 \tAnalista de BI \t75400 \tGuarulhos\n",
      "Hermes \t72 \tAposentado \t60000 \tCampinas\n"
     ]
    }
   ],
   "source": [
    "# Definindo CONSTANTES que serão usadas como índices das colunas\n",
    "NOME = 0\n",
    "IDADE = 1\n",
    "PROFISSAO = 2\n",
    "RENDA_ANUAL = 3\n",
    "CIDADE = 4\n",
    "\n",
    "# Lendo arquivo CSV\n",
    "try:\n",
    "    with open(\"dados_clientes.csv\", \"r\") as csv_file:\n",
    "        leitor = csv.reader(csv_file)\n",
    "        for linha in leitor:\n",
    "            print(\n",
    "                f\"{linha[NOME]} \\t{linha[IDADE]} \\t{linha[PROFISSAO]} \\t{linha[RENDA_ANUAL]} \\t{linha[CIDADE]}\"\n",
    "            )\n",
    "except IOError as err:\n",
    "    print(f\"Erro ao ler o arquivo: {err}\")\n"
   ]
  },
  {
   "cell_type": "markdown",
   "metadata": {},
   "source": [
    "Outro meio de fazer isso pegando somente os valores sem os cabeçalhos é utilizando o ``DictReader()`` que já entende quais são os valores do cabeçalho do csv"
   ]
  },
  {
   "cell_type": "code",
   "execution_count": 5,
   "metadata": {},
   "outputs": [
    {
     "name": "stdout",
     "output_type": "stream",
     "text": [
      "Marcos \t48 \tEng. Software \t180000 \tSão Paulo\n",
      "Paula \t37 \tAnalista de BI \t75400 \tGuarulhos\n",
      "Hermes \t72 \tAposentado \t60000 \tCampinas\n"
     ]
    }
   ],
   "source": [
    "try:\n",
    "    with open(\"dados_clientes.csv\", \"r\") as csv_file:\n",
    "        leitor = csv.DictReader(csv_file)\n",
    "        for i, linha in enumerate(leitor):\n",
    "            print(\n",
    "                f\"{linha['Nome']} \\t{linha['Idade']} \\t{linha['Profissão']} \\t{linha['Renda']} \\t{linha['Cidade']}\"\n",
    "            )\n",
    "except IOError as err:\n",
    "    print(f\"Erro ao ler o arquivo: {err}\")\n"
   ]
  }
 ],
 "metadata": {
  "kernelspec": {
   "display_name": "Python 3",
   "language": "python",
   "name": "python3"
  },
  "language_info": {
   "codemirror_mode": {
    "name": "ipython",
    "version": 3
   },
   "file_extension": ".py",
   "mimetype": "text/x-python",
   "name": "python",
   "nbconvert_exporter": "python",
   "pygments_lexer": "ipython3",
   "version": "3.12.4"
  }
 },
 "nbformat": 4,
 "nbformat_minor": 2
}
