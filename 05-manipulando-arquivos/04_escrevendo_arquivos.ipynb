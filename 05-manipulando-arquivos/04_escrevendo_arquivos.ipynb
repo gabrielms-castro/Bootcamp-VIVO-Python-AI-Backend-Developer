{
 "cells": [
  {
   "cell_type": "markdown",
   "metadata": {},
   "source": [
    "## Escrevendo Arquivos\n",
    "\n",
    "Para escrever arquivos é preciso abri-los no modo *write* ou no modo *append* e utilizar depois o método ``write()`` ou ``writelines()``"
   ]
  },
  {
   "cell_type": "code",
   "execution_count": 3,
   "metadata": {},
   "outputs": [],
   "source": [
    "arquivo = open('arquivo_exemplo.txt', 'w')\n",
    "arquivo.write(\"Ola, mundo! Eu fui escrito a partir de código Python\") #acesse o arquivo depois para ver o que foi escrito\n",
    "arquivo.close()"
   ]
  },
  {
   "cell_type": "markdown",
   "metadata": {},
   "source": [
    "#### **Lembre-se!**\n",
    "* O modo *write* ``w`` sobrescreve todo o conteúdo do arquivo;\n",
    "* O modo *append* ``a`` adiciona conteúdo ao arquivo"
   ]
  },
  {
   "cell_type": "code",
   "execution_count": 4,
   "metadata": {},
   "outputs": [],
   "source": [
    "arquivo_alterado = open('arquivo_exemplo.txt', 'w')\n",
    "arquivo_alterado.write(\"Todo o texto anterior foi sobrescrito!\")\n",
    "arquivo_alterado.close()"
   ]
  },
  {
   "cell_type": "code",
   "execution_count": 6,
   "metadata": {},
   "outputs": [],
   "source": [
    "arquivo_alterado_2 = open('arquivo_exemplo.txt', 'w')\n",
    "arquivo_alterado_2.write('\\nAdicionando conteúdo ao arquivo')\n",
    "arquivo_alterado_2.writelines(['\\nAdicionando nova linha ao arquivo!'])\n",
    "arquivo_alterado_2.close()"
   ]
  },
  {
   "cell_type": "markdown",
   "metadata": {},
   "source": [
    "Se precisar escrever a partir de um iterável, utilize ``writelines()``"
   ]
  },
  {
   "cell_type": "code",
   "execution_count": 3,
   "metadata": {},
   "outputs": [],
   "source": [
    "arquivo_alterado_2 = open('arquivo_exemplo.txt', 'w')\n",
    "arquivo_alterado_2.writelines(['\\nAdicionando nova linha ao arquivo!'])\n",
    "arquivo_alterado_2.close()"
   ]
  }
 ],
 "metadata": {
  "kernelspec": {
   "display_name": "Python 3",
   "language": "python",
   "name": "python3"
  },
  "language_info": {
   "codemirror_mode": {
    "name": "ipython",
    "version": 3
   },
   "file_extension": ".py",
   "mimetype": "text/x-python",
   "name": "python",
   "nbconvert_exporter": "python",
   "pygments_lexer": "ipython3",
   "version": "3.12.4"
  }
 },
 "nbformat": 4,
 "nbformat_minor": 2
}
