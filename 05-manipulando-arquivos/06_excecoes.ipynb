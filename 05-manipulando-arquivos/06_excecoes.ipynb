{
 "cells": [
  {
   "cell_type": "markdown",
   "metadata": {},
   "source": [
    "# **Tratamento de Exceções em Manipulação de Arquivos**\n",
    "\n",
    "Tratar erros é uma parte muito importante na hora de desenvolver algo e durante a manipulação de arquivos, não é diferente. Existem uma variedade de exceções no Python:\n",
    "\n",
    "## **Exceções mais Comuns**\n",
    "* **FileNotFoundError:** Arquivo a ser aberto não foi encontrado no diretório especificado.\n",
    "* **PermissionError:** Lançada quando tenta abrir/ler/gravar um arquivo sem as permissões necessárias.\n",
    "* **IOError:** Erro de entrada/saída (falta de memória, espaçoem disco, permissão etc).\n",
    "* **UnicodeDecodeError:** Quando se tenta decodificar um arquivo de texto para leitura usando codificação inadequada.\n",
    "* **UnicodeEncodeError:** Quando se tenta codificar um arquivo de texto usando codificação inadequada.\n",
    "* **IsADirectoryError:** Quando se tenta abrir um diretório em vez de um arquivo de texto\n"
   ]
  },
  {
   "cell_type": "markdown",
   "metadata": {},
   "source": [
    "Para tratar exceções utilizamos a sintaxe ``try/except``, onde em \"*try*\" é incluído a tentativa do que é para ser feito no código e em \"*except*\" o que fazer caso a tentativa falhe"
   ]
  },
  {
   "cell_type": "code",
   "execution_count": 1,
   "metadata": {},
   "outputs": [
    {
     "name": "stdout",
     "output_type": "stream",
     "text": [
      "Arquivo inexistente\n",
      "[Errno 2] No such file or directory: 'arquivo_inexistente.txt'\n"
     ]
    }
   ],
   "source": [
    "try:\n",
    "    file = open('arquivo_inexistente.txt', 'r')\n",
    "except FileNotFoundError as erro:\n",
    "    print('Arquivo inexistente')\n",
    "    print(erro)"
   ]
  },
  {
   "cell_type": "markdown",
   "metadata": {},
   "source": [
    "É possível utilizar mais de uma exceção no bloco de try/except\n",
    "\n",
    "**Observação:** Use a exceção ``Exception`` como última instância, já que não é possível prever todos os erros, mas como **boa prática** não use somente ele, pois é uma exceção muito genérica."
   ]
  },
  {
   "cell_type": "code",
   "execution_count": null,
   "metadata": {},
   "outputs": [],
   "source": [
    "from pathlib import Path\n",
    "ROOT_PATH = Path(__file__).parent\n",
    "\n",
    "try:\n",
    "    arquivo = open(ROOT_PATH/\"Exemplo\")\n",
    "except FileNotFoundError as err:\n",
    "    print('Arquivo Não Encontrado')\n",
    "    print(err)\n",
    "except IsADirectoryError as err:\n",
    "    print(f'Não foi possível abrir o arquivo:{err}')\n",
    "except IOError as err:\n",
    "    print(f\"Erro ao abrir o arquivo: {err}\")\n",
    "except Exception as err:\n",
    "    print(f\"Algum problema ocorreu: {err}\")\n",
    "    "
   ]
  }
 ],
 "metadata": {
  "kernelspec": {
   "display_name": "Python 3",
   "language": "python",
   "name": "python3"
  },
  "language_info": {
   "codemirror_mode": {
    "name": "ipython",
    "version": 3
   },
   "file_extension": ".py",
   "mimetype": "text/x-python",
   "name": "python",
   "nbconvert_exporter": "python",
   "pygments_lexer": "ipython3",
   "version": "3.12.4"
  }
 },
 "nbformat": 4,
 "nbformat_minor": 2
}
