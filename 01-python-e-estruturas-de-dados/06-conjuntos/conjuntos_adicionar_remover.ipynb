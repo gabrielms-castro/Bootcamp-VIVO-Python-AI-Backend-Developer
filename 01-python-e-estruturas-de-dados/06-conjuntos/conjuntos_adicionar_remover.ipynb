{
 "cells": [
  {
   "cell_type": "markdown",
   "metadata": {},
   "source": [
    "# Conjuntos\n",
    "Também conhecido como \"sets\", são coleções que **Não possuem objetos repetidos**, não admitindo valores duplicados.<br>\n",
    "**Pro Tip**: Converta um determinado array em set para remover valores duplicados\n",
    "\n",
    "<hr>\n",
    "\n",
    "## Características:\n",
    "\n",
    "- **São Imutáveis** <br>Uma vez definidos, não podem ser alterados<br>\n",
    "\n",
    "- **Não possuem valores duplicados** <br>Sets não admitem valores repetidos, por isso são utilizados para remover duplicados de objetos iteráveis.<br>\n",
    "**Observações**: Num set, ``False`` e ``0`` possuem o mesmo valor, sendo assim, não serão repetidos. O mesmo vale para ``True`` e ``1``\n",
    "\n",
    "- **Não admite** **indexação**:<br>Isso significa que não é possível acessar por índice e fatiar diretamente<br>É possível transformá-lo em uma lista, acessar o item e depois alterá-lo para um set de novo\n",
    "\n",
    "- **Múltiplos** **tipos de dados**:<br>Uma tupla pode conter dados do tipo int,float,str,bool e até mesmo outras estruturas como list,tuple,dict etc\n",
    "\n",
    "\n",
    "<hr>\n",
    "\n",
    "## Criando um Set:\n",
    "\n",
    "É possível criar por meio do construtor ``set()`` ou pelo uso de chaves ``{}``. O Formato é o mesmo da lista ou da tupla, separando valores por vírgula.<br>\n",
    "**Exemplo:**<br>\n",
    "```python\n",
    "meu_set = {\"carros\",\"motos\",\"caminhões\"}\n",
    "\n",
    "marcas_carro = set((\"ford\",\"fiesta\",\"volkswagen\",\"chevrolet\")) #perceba que para utilizar o construtor é necessário parentesis duplo\n",
    "```"
   ]
  },
  {
   "cell_type": "markdown",
   "metadata": {},
   "source": [
    "<hr>\n",
    "\n",
    "## Operações:\n",
    "\n",
    "#### **Adicionar Items**:\n",
    "Não é possível alterar os itens existentes, mas é possível **adicionar** novos itens<br>\n",
    "Você pode adicionar outros sets ou colecções utilizando ``.update()`` <br>\n",
    "Se for adicionar apenas um item ao conjunto, utilize ``.add()``\n"
   ]
  },
  {
   "cell_type": "code",
   "execution_count": 1,
   "metadata": {},
   "outputs": [
    {
     "name": "stdout",
     "output_type": "stream",
     "text": [
      "{'abacate', 'mamão', 'banana', 'maçã', 'kiwi'}\n"
     ]
    }
   ],
   "source": [
    "frutas = {\"maçã\",\"banana\",\"mamão\"}\n",
    "frutas_2 = {\"kiwi\",\"abacate\"}\n",
    "\n",
    "frutas.update(frutas_2)\n",
    "print(frutas)"
   ]
  },
  {
   "cell_type": "code",
   "execution_count": 2,
   "metadata": {},
   "outputs": [
    {
     "name": "stdout",
     "output_type": "stream",
     "text": [
      "{'melão', 'abacate', 'kiwi'}\n"
     ]
    }
   ],
   "source": [
    "frutas_2.add(\"melão\")\n",
    "print(frutas_2)"
   ]
  },
  {
   "cell_type": "markdown",
   "metadata": {},
   "source": [
    "<hr>\n",
    "\n",
    "#### **Remover Items**:\n",
    "Para remover itens de um set, use os métodos ``.remove()``, ``discard()`` ou ``pop()``\n",
    "\n",
    "1. **.remove()**"
   ]
  },
  {
   "cell_type": "code",
   "execution_count": 3,
   "metadata": {},
   "outputs": [
    {
     "name": "stdout",
     "output_type": "stream",
     "text": [
      "{'banana', 'mamão'}\n"
     ]
    }
   ],
   "source": [
    "frutas = {\"maçã\",\"banana\",\"mamão\"}\n",
    "frutas.remove(\"maçã\")\n",
    "print(frutas)"
   ]
  },
  {
   "cell_type": "markdown",
   "metadata": {},
   "source": [
    "<font color=\"red\">Importante dizer que pelo método ``.remove()``, tentar remover um item que não existe retornará um erro<font>"
   ]
  },
  {
   "cell_type": "code",
   "execution_count": 4,
   "metadata": {},
   "outputs": [
    {
     "ename": "KeyError",
     "evalue": "'abacate'",
     "output_type": "error",
     "traceback": [
      "\u001b[1;31m---------------------------------------------------------------------------\u001b[0m",
      "\u001b[1;31mKeyError\u001b[0m                                  Traceback (most recent call last)",
      "Cell \u001b[1;32mIn[4], line 2\u001b[0m\n\u001b[0;32m      1\u001b[0m frutas \u001b[38;5;241m=\u001b[39m {\u001b[38;5;124m\"\u001b[39m\u001b[38;5;124mmaçã\u001b[39m\u001b[38;5;124m\"\u001b[39m,\u001b[38;5;124m\"\u001b[39m\u001b[38;5;124mbanana\u001b[39m\u001b[38;5;124m\"\u001b[39m,\u001b[38;5;124m\"\u001b[39m\u001b[38;5;124mmamão\u001b[39m\u001b[38;5;124m\"\u001b[39m}\n\u001b[1;32m----> 2\u001b[0m \u001b[43mfrutas\u001b[49m\u001b[38;5;241;43m.\u001b[39;49m\u001b[43mremove\u001b[49m\u001b[43m(\u001b[49m\u001b[38;5;124;43m\"\u001b[39;49m\u001b[38;5;124;43mabacate\u001b[39;49m\u001b[38;5;124;43m\"\u001b[39;49m\u001b[43m)\u001b[49m\n\u001b[0;32m      3\u001b[0m \u001b[38;5;28mprint\u001b[39m(frutas)\n",
      "\u001b[1;31mKeyError\u001b[0m: 'abacate'"
     ]
    }
   ],
   "source": [
    "frutas = {\"maçã\",\"banana\",\"mamão\"}\n",
    "frutas.remove(\"abacate\")\n",
    "print(frutas)"
   ]
  },
  {
   "cell_type": "markdown",
   "metadata": {},
   "source": [
    "2. **.discard()**<br>\n",
    "Pelo método ``.discard()``, ao tentar remover um item que não existe, **NÃO** será retornado um erro. Considere as vantagens de ambos os métodos para sua aplicação"
   ]
  },
  {
   "cell_type": "code",
   "execution_count": null,
   "metadata": {},
   "outputs": [],
   "source": [
    "frutas = {\"maçã\",\"banana\",\"mamão\"}\n",
    "frutas.discard(\"maçã\")\n",
    "print(frutas)"
   ]
  },
  {
   "cell_type": "code",
   "execution_count": null,
   "metadata": {},
   "outputs": [],
   "source": [
    "frutas = {\"maçã\",\"banana\",\"mamão\"}\n",
    "frutas.discard(\"abacate\") #fruta que não está no set. Retornará o set inteiro sem nenhum erro\n",
    "print(frutas)"
   ]
  },
  {
   "cell_type": "markdown",
   "metadata": {},
   "source": [
    "Também é possível limpar um set pelo método ``.clear()`` ou deletar a variável inteira com a keyword ``del``"
   ]
  },
  {
   "cell_type": "code",
   "execution_count": null,
   "metadata": {},
   "outputs": [],
   "source": [
    "tribunais = {\"TJSP\",\"TJRJ\",\"TJRS\"}\n",
    "\n",
    "tribunais.clear()\n",
    "\n",
    "print(tribunais)"
   ]
  },
  {
   "cell_type": "code",
   "execution_count": null,
   "metadata": {},
   "outputs": [],
   "source": [
    "sistemas_judiciais = {\"ESAJ\",\"PROJUDI\",\"PJE\",\"E-PROC\"}\n",
    "\n",
    "del sistemas_judiciais\n",
    "\n",
    "print(sistemas_judiciais) #Retornará erro porque deletamos o set 'sistemas_judiciais' e, portanto, não existe."
   ]
  }
 ],
 "metadata": {
  "kernelspec": {
   "display_name": "Python 3",
   "language": "python",
   "name": "python3"
  },
  "language_info": {
   "codemirror_mode": {
    "name": "ipython",
    "version": 3
   },
   "file_extension": ".py",
   "mimetype": "text/x-python",
   "name": "python",
   "nbconvert_exporter": "python",
   "pygments_lexer": "ipython3",
   "version": "3.12.3"
  }
 },
 "nbformat": 4,
 "nbformat_minor": 2
}
