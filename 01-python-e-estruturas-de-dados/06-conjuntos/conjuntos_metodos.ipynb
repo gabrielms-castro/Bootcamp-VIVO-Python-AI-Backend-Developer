{
 "cells": [
  {
   "cell_type": "markdown",
   "metadata": {},
   "source": [
    "## Junções(Join Sets):\n",
    "Métodos de junção lembram muitos sobre conjuntos em matemática ([**Aula sobre Conjuntos - Khan Academy**](https://pt.khanacademy.org/math/statistics-probability/probability-library/basic-set-ops/v/intersection-and-union-of-sets))\n",
    "\n",
    "Também lembra muito o ``JOIN`` para aqueles que sabem SQL.\n",
    "\n",
    "#### **.union()** e **.update()**:\n",
    "\n",
    "Une todos os itens de dois ou mais sets\n",
    "\n",
    "Você também pode utilizar ``|`` para unir todos os itens de dois conjuntos.\n",
    "\n",
    "\n",
    "<img src = \"https://raw.githubusercontent.com/gabrielms-castro/dio-python-ai-backend-developer/main/img/outer_join.png\">\n",
    "\n",
    "\n"
   ]
  },
  {
   "cell_type": "code",
   "execution_count": 1,
   "metadata": {},
   "outputs": [
    {
     "name": "stdout",
     "output_type": "stream",
     "text": [
      "{1, 2, 'b', 3, 'c', 'a'}\n"
     ]
    }
   ],
   "source": [
    "set1 = {\"a\", \"b\", \"c\"}\n",
    "set2 = {1, 2, 3}\n",
    "\n",
    "set3 = set1.union(set2)\n",
    "print(set3)"
   ]
  },
  {
   "cell_type": "code",
   "execution_count": 2,
   "metadata": {},
   "outputs": [
    {
     "name": "stdout",
     "output_type": "stream",
     "text": [
      "{'3a', 52, 'd', 11, 'g', 'f'}\n"
     ]
    }
   ],
   "source": [
    "set1 = {\"d\", \"f\", \"g\"}\n",
    "set2 = {11, 52, \"3a\"}\n",
    "\n",
    "set3 = set1 | set2\n",
    "print(set3)"
   ]
  },
  {
   "cell_type": "markdown",
   "metadata": {},
   "source": [
    "``.update()`` insere os itens de um set em outro, ele não retorna um set novo"
   ]
  },
  {
   "cell_type": "code",
   "execution_count": 3,
   "metadata": {},
   "outputs": [
    {
     "name": "stdout",
     "output_type": "stream",
     "text": [
      "{'elefante', 'pássaro', 589, 153, 'gaiola', '4aaa'}\n"
     ]
    }
   ],
   "source": [
    "#utilizando .update() para atualizar o set1:\n",
    "set1 = {153, \"pássaro\", \"gaiola\"}\n",
    "set2 = {589, \"elefante\", \"4aaa\"}\n",
    "\n",
    "set1.update(set2)\n",
    "\n",
    "print(set1)"
   ]
  },
  {
   "cell_type": "code",
   "execution_count": 4,
   "metadata": {},
   "outputs": [
    {
     "name": "stdout",
     "output_type": "stream",
     "text": [
      "{1, 2, 'b', 3, 'c', 'a'}\n"
     ]
    }
   ],
   "source": [
    "set1 = {\"a\", \"b\", \"c\"}\n",
    "set2 = {1, 2, 3}\n",
    "\n",
    "set1 = set1.union(set2)\n",
    "print(set1)"
   ]
  },
  {
   "cell_type": "markdown",
   "metadata": {},
   "source": [
    "<hr>\n",
    "\n",
    "#### **.intersection()**:\n",
    "\n",
    "Retorna os itens que estão em ambos os sets (**valores duplicados**).\n",
    "\n",
    "Parecido com um ``INNER JOIN`` do SQL\n",
    "\n",
    "Você também pode utilizar ``&`` para retornar os itens que estão em ambos os conjuntos.\n",
    "\n",
    "<img src = \"https://raw.githubusercontent.com/gabrielms-castro/dio-python-ai-backend-developer/main/img/inner_join.png\">"
   ]
  },
  {
   "cell_type": "code",
   "execution_count": 5,
   "metadata": {},
   "outputs": [
    {
     "name": "stdout",
     "output_type": "stream",
     "text": [
      "{'oracle', 'apple'}\n"
     ]
    }
   ],
   "source": [
    "set1 = {\"apple\", \"azure\", \"oracle\"}\n",
    "set2 = {\"google\", \"microsoft\", \"apple\",\"oracle\"}\n",
    "\n",
    "set3 = set1.intersection(set2)\n",
    "print(set3)"
   ]
  },
  {
   "cell_type": "code",
   "execution_count": 7,
   "metadata": {},
   "outputs": [
    {
     "name": "stdout",
     "output_type": "stream",
     "text": [
      "{'oracle', 'apple'}\n"
     ]
    }
   ],
   "source": [
    "set1 = {\"apple\", \"azure\", \"oracle\"}\n",
    "set2 = {\"google\", \"microsoft\", \"apple\",\"oracle\"}\n",
    "\n",
    "set3 = set1 & set2\n",
    "print(set3)"
   ]
  },
  {
   "cell_type": "markdown",
   "metadata": {},
   "source": [
    "<hr>\n",
    "\n",
    "#### **.difference()**:\n",
    "\n",
    "Retorna os itens que estão em um set, mas não estão em outro.\n",
    "\n",
    "Você também pode utilizar ``-`` para retornar os itens que estão em um set, mas não estão em outro.\n",
    "\n",
    "<img src = \"https://raw.githubusercontent.com/gabrielms-castro/dio-python-ai-backend-developer/main/img/difference.png\">"
   ]
  },
  {
   "cell_type": "code",
   "execution_count": 3,
   "metadata": {},
   "outputs": [
    {
     "name": "stdout",
     "output_type": "stream",
     "text": [
      "{5, 6}\n"
     ]
    }
   ],
   "source": [
    "A = {1,2,3,4}\n",
    "B = {1,3,4,5,6}\n",
    "C = B.difference(A)\n",
    "print(C)"
   ]
  },
  {
   "cell_type": "code",
   "execution_count": 10,
   "metadata": {},
   "outputs": [
    {
     "name": "stdout",
     "output_type": "stream",
     "text": [
      "Itens que estão no set1, mas não no set2:  {'azure'}\n",
      "Itens que estão no set2, mas não no set1:  {'google', 'microsoft'}\n"
     ]
    }
   ],
   "source": [
    "set1 = {\"apple\", \"azure\", \"oracle\"}\n",
    "set2 = {\"google\", \"microsoft\", \"apple\",\"oracle\"}\n",
    "\n",
    "set3 = set1.difference(set2)\n",
    "\n",
    "set4 = set2.difference(set1)\n",
    "\n",
    "print(\"Itens que estão no set1, mas não no set2: \",set3)\n",
    "print(\"Itens que estão no set2, mas não no set1: \",set4)"
   ]
  },
  {
   "cell_type": "markdown",
   "metadata": {},
   "source": [
    "<hr>\n",
    "\n",
    "#### **.symmetric_difference()**:\n",
    "\n",
    "Retorna apenas os itens únicos de cada set. Parecido com um ``OUTER JOIN`` em SQL\n",
    "\n",
    "Você também pode utilizar ``^``.\n",
    "\n",
    "<img src = \"https://raw.githubusercontent.com/gabrielms-castro/dio-python-ai-backend-developer/main/img/outer_exclude_join.png\">"
   ]
  },
  {
   "cell_type": "code",
   "execution_count": 12,
   "metadata": {},
   "outputs": [
    {
     "name": "stdout",
     "output_type": "stream",
     "text": [
      "{'google', 'azure', 'microsoft'}\n"
     ]
    }
   ],
   "source": [
    "set1 = {\"apple\", \"azure\", \"oracle\"}\n",
    "set2 = {\"google\", \"microsoft\", \"apple\",\"oracle\"}\n",
    "\n",
    "set3 = set1.symmetric_difference(set2)\n",
    "\n",
    "print(set3)"
   ]
  },
  {
   "cell_type": "markdown",
   "metadata": {},
   "source": [
    "Para conhecer mais métodos da classe ``set``, acesse os seguintes links:\n",
    "\n",
    "[W3Schools - Sets](https://www.w3schools.com/python/python_sets_methods.asp)\n",
    "\n",
    "[GeeksforGeeks - Sets](https://www.geeksforgeeks.org/python-set-methods/)\n",
    "\n",
    "\n",
    "\n",
    "\n",
    "[Slide DIO](https://academiapme-my.sharepoint.com/:p:/g/personal/nubia_dio_me/EWxVjZ3N_-5OmGYkDrdEQkoB0NuroEV5wvMavMOA9-nI2Q?rtime=SeeJZfZm3Eg)\n",
    "\n"
   ]
  }
 ],
 "metadata": {
  "kernelspec": {
   "display_name": "Python 3",
   "language": "python",
   "name": "python3"
  },
  "language_info": {
   "codemirror_mode": {
    "name": "ipython",
    "version": 3
   },
   "file_extension": ".py",
   "mimetype": "text/x-python",
   "name": "python",
   "nbconvert_exporter": "python",
   "pygments_lexer": "ipython3",
   "version": "3.12.3"
  }
 },
 "nbformat": 4,
 "nbformat_minor": 2
}
