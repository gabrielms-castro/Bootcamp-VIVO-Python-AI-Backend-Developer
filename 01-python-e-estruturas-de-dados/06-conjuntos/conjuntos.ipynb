{
 "cells": [
  {
   "cell_type": "markdown",
   "metadata": {},
   "source": [
    "# Conjuntos\n",
    "Também conhecido como \"sets\", são coleções que **Não possuem objetos repetidos**, não admitindo valores duplicados.<br>\n",
    "**Pro Tip**: Converta um determinado array em set para remover valores duplicados\n",
    "\n",
    "<hr>\n",
    "\n",
    "## Características:\n",
    "\n",
    "- **São Imutáveis** <br>Uma vez definidos, não podem ser alterados<br>\n",
    "\n",
    "- **Não possuem valores duplicados** <br>Sets não admitem valores repetidos, por isso são utilizados para remover duplicados de objetos iteráveis.<br>\n",
    "**Observações**: Num set, ``False`` e ``0`` possuem o mesmo valor, sendo assim, não serão repetidos. O mesmo vale para ``True`` e ``1``\n",
    "\n",
    "- **Não admite** **indexação**:<br>Isso significa que não é possível acessar por índice e fatiar diretamente<br>É possível transformá-lo em uma lista, acessar o item e depois alterá-lo para um set de novo\n",
    "\n",
    "- **Múltiplos** **tipos de dados**:<br>Uma tupla pode conter dados do tipo int,float,str,bool e até mesmo outras estruturas como list,tuple,dict etc\n",
    "\n",
    "\n",
    "<hr>\n",
    "\n",
    "## Criando um Set:\n",
    "\n",
    "É possível criar por meio do construtor ``set()`` ou pelo uso de chaves ``{}``. O Formato é o mesmo da lista ou da tupla, separando valores por vírgula.<br>\n",
    "**Exemplo:**<br>\n",
    "```python\n",
    "meu_set = {\"carros\",\"motos\",\"caminhões\"}\n",
    "\n",
    "marcas_carro = set((\"ford\",\"fiesta\",\"volkswagen\",\"chevrolet\")) #perceba que para utilizar o construtor é necessário parentesis duplo\n",
    "```"
   ]
  },
  {
   "cell_type": "markdown",
   "metadata": {},
   "source": [
    "<hr>\n",
    "\n",
    "## Operações:\n",
    "\n",
    "#### **Adicionar Items**:\n",
    "Não é possível alterar os itens existentes, mas é possível **adicionar** novos itens<br>\n",
    "Você pode adicionar outros sets ou colecções utilizando ``.update()`` <br>\n",
    "Se for adicionar apenas um item ao conjunto, utilize ``.add()``\n"
   ]
  },
  {
   "cell_type": "code",
   "execution_count": 1,
   "metadata": {},
   "outputs": [
    {
     "name": "stdout",
     "output_type": "stream",
     "text": [
      "{'abacate', 'mamão', 'banana', 'maçã', 'kiwi'}\n"
     ]
    }
   ],
   "source": [
    "frutas = {\"maçã\",\"banana\",\"mamão\"}\n",
    "frutas_2 = {\"kiwi\",\"abacate\"}\n",
    "\n",
    "frutas.update(frutas_2)\n",
    "print(frutas)"
   ]
  },
  {
   "cell_type": "code",
   "execution_count": 2,
   "metadata": {},
   "outputs": [
    {
     "name": "stdout",
     "output_type": "stream",
     "text": [
      "{'abacate', 'kiwi', 'melão'}\n"
     ]
    }
   ],
   "source": [
    "frutas_2.add(\"melão\")\n",
    "print(frutas_2)"
   ]
  },
  {
   "cell_type": "markdown",
   "metadata": {},
   "source": [
    "#### **Remover Items**:\n",
    "Para remover itens de um set, use os métodos ``.remove()``, ``discard()`` ou ``pop()``"
   ]
  },
  {
   "cell_type": "code",
   "execution_count": null,
   "metadata": {},
   "outputs": [],
   "source": []
  },
  {
   "cell_type": "markdown",
   "metadata": {},
   "source": []
  },
  {
   "cell_type": "code",
   "execution_count": null,
   "metadata": {},
   "outputs": [],
   "source": []
  }
 ],
 "metadata": {
  "kernelspec": {
   "display_name": "Python 3",
   "language": "python",
   "name": "python3"
  },
  "language_info": {
   "codemirror_mode": {
    "name": "ipython",
    "version": 3
   },
   "file_extension": ".py",
   "mimetype": "text/x-python",
   "name": "python",
   "nbconvert_exporter": "python",
   "pygments_lexer": "ipython3",
   "version": "3.12.3"
  }
 },
 "nbformat": 4,
 "nbformat_minor": 2
}
