{
 "cells": [
  {
   "cell_type": "markdown",
   "metadata": {},
   "source": [
    "## Métodos da Classe List\n",
    "\n",
    "### .append()\n",
    "### .clear()\n",
    "### .copy()\n",
    "### .copy()\n",
    "### .count()\n",
    "### .extend()\n",
    "### .index()\n",
    "### .pop()\n",
    "listas por padrão vêm organizadas como uma 'pilha'. Por pilha, entenda como algo empilhado. Assim, listas são estruturas de dados empilhadas\n",
    "\n",
    "### .remove()\n",
    "### .reverse()\n",
    "### .sort()\n",
    "### .len()\n",
    "### .sorted()\n"
   ]
  },
  {
   "cell_type": "code",
   "execution_count": 1,
   "metadata": {},
   "outputs": [
    {
     "name": "stdout",
     "output_type": "stream",
     "text": [
      "False\n"
     ]
    }
   ],
   "source": [
    "carros = (\"gol\")\n",
    "print(isinstance(carros, tuple))"
   ]
  },
  {
   "cell_type": "code",
   "execution_count": null,
   "metadata": {},
   "outputs": [],
   "source": []
  }
 ],
 "metadata": {
  "kernelspec": {
   "display_name": "Python 3",
   "language": "python",
   "name": "python3"
  },
  "language_info": {
   "codemirror_mode": {
    "name": "ipython",
    "version": 3
   },
   "file_extension": ".py",
   "mimetype": "text/x-python",
   "name": "python",
   "nbconvert_exporter": "python",
   "pygments_lexer": "ipython3",
   "version": "3.12.3"
  }
 },
 "nbformat": 4,
 "nbformat_minor": 2
}
