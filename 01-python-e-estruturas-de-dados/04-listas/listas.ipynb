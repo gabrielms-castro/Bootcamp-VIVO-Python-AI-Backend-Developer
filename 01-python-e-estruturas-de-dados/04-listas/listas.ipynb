{
 "cells": [
  {
   "cell_type": "markdown",
   "metadata": {},
   "source": [
    "# Listas\n",
    "\n",
    "Listas é um tipo de estrutura de dados em python;\n",
    "Com ela é possível armazenar diversos valores dentro de uma única variável, de maneira sequencial.\n",
    "\n",
    "## Características:\n",
    "1. **Ordenada** (a ordem dos itens no momento de sua definição serão mantidos)<br>\n",
    "\n",
    "|<font color='red'>Obs: Ao adicionar um item numa lista, este item será adicionado **ao final** dessa lista</font>|\n",
    "|-|\n",
    "\n",
    "2. **Mutável**\n",
    "<br>Podemos alterar, adicionar e remover itens\n",
    "\n",
    "3. **Permite valores duplicados**\n",
    "<br>Listas permitem itens que possuam o mesmo valor(duplicados). \n",
    "\n",
    "4. **Múltiplos tipos de dados**\n",
    "<br>É possível misturar tipos de dados diferentes na mesma lista (int, str, bool, float, dict, list etc)\n",
    "<br>Inclusive, é possível criar uma lista de listas (**lista aninhada**)\n",
    "\n",
    "|<font color='red'>Obs: Escolher o tipo de dado correto pode significar um grande impacto no seu código e na criação de algoritmos, por isso é importante conhecer as características de cada um</font>|\n",
    "|-|\n",
    "\n",
    "\n",
    "## Formas de Declaração\n",
    "\n",
    "Uma lista pode ser declarada de duas formas: utilizando colchetes ``[]`` ou o construtor ``list()``"
   ]
  },
  {
   "cell_type": "code",
   "execution_count": 1,
   "metadata": {},
   "outputs": [
    {
     "name": "stdout",
     "output_type": "stream",
     "text": [
      "[]\n",
      "['ford', 'chevrolet', 'renault', 'volkswagen', 'fiat']\n"
     ]
    }
   ],
   "source": [
    "#utilizando colchetes:\n",
    "lista_1 = [] #listas vazias\n",
    "lista_2 = ['ford','chevrolet','renault','volkswagen','fiat']\n",
    "\n",
    "print(lista_1)\n",
    "print(lista_2)"
   ]
  },
  {
   "cell_type": "code",
   "execution_count": 2,
   "metadata": {},
   "outputs": [
    {
     "name": "stdout",
     "output_type": "stream",
     "text": [
      "['f', 'o', 'r', 'd']\n",
      "['ford', 'chevrolet', 'renault', 'volkswagen', 'fiat']\n"
     ]
    }
   ],
   "source": [
    "#utilizando construtor list()\n",
    "lista_3 = list(\"ford\")\n",
    "lista_4 = list(('ford','chevrolet','renault','volkswagen','fiat')) \n",
    "\n",
    "print(lista_3)\n",
    "print(lista_4)\n"
   ]
  },
  {
   "cell_type": "markdown",
   "metadata": {},
   "source": [
    "## Acesso Direto\n",
    "\n",
    "Podemos acessar os itens de uma lista utilizando a notação de colchetes ``[]`` ou seja, utilizando índices.\n",
    "\n",
    "\n",
    "## Indexação Negativa\n",
    "Indexação negativa significa acessar de trás para frente. -1 será o último item, -2 será o penúltimo item e assim sucessivamente."
   ]
  },
  {
   "cell_type": "code",
   "execution_count": 3,
   "metadata": {},
   "outputs": [
    {
     "name": "stdout",
     "output_type": "stream",
     "text": [
      "ford\n",
      "chevrolet\n",
      "último item:  fiat\n",
      "penúltimo item:  volkswagen\n"
     ]
    }
   ],
   "source": [
    "lista = ['ford','chevrolet','renault','volkswagen','fiat']\n",
    "print(lista[0]) #imprime o primeiro item da lista\n",
    "print(lista[1]) #imprime o segundo item da lista\n",
    "\n",
    "print(\"último item: \", lista[-1]) #índices negativos começam dos últimos itens para os primeiros. -1 será sempre o último item da lista\n",
    "print(\"penúltimo item: \",lista[-2])"
   ]
  },
  {
   "cell_type": "markdown",
   "metadata": {},
   "source": [
    "## Listas Aninhadas\n",
    "Listas podem receber qualquer tipo de dado, inclusive outras listas. Armazenar listas dentro de listas pode ser feito para criar estruturas bidimensionais (matriz)"
   ]
  },
  {
   "cell_type": "code",
   "execution_count": 4,
   "metadata": {},
   "outputs": [
    {
     "name": "stdout",
     "output_type": "stream",
     "text": [
      "[1, 2, 3]\n",
      "1\n",
      "2\n",
      "8\n"
     ]
    }
   ],
   "source": [
    "matriz = [\n",
    "    [1,2,3],\n",
    "    [4,5,6],\n",
    "    [7,8,9]\n",
    "]\n",
    "\n",
    "print(matriz[0])\n",
    "print(matriz[0][0])\n",
    "print(matriz[0][1])\n",
    "print(matriz[2][1])"
   ]
  },
  {
   "cell_type": "markdown",
   "metadata": {},
   "source": [
    "## Iteração de Listas\n",
    "\n",
    "Podemos iterar sobre listas utilizando o laço ``for``\n"
   ]
  },
  {
   "cell_type": "code",
   "execution_count": 5,
   "metadata": {},
   "outputs": [
    {
     "name": "stdout",
     "output_type": "stream",
     "text": [
      "ford\n",
      "chevrolet\n",
      "renault\n",
      "volkswagen\n",
      "fiat\n"
     ]
    }
   ],
   "source": [
    "lista_carros = ['ford','chevrolet','renault','volkswagen','fiat']\n",
    "for item in lista:\n",
    "    print(item)"
   ]
  },
  {
   "cell_type": "code",
   "execution_count": 6,
   "metadata": {},
   "outputs": [
    {
     "name": "stdout",
     "output_type": "stream",
     "text": [
      "1\n",
      "4\n",
      "9\n",
      "16\n",
      "25\n",
      "36\n",
      "49\n",
      "64\n",
      "81\n",
      "100\n"
     ]
    }
   ],
   "source": [
    "sequencia = [1,2,3,4,5,6,7,8,9,10]\n",
    "\n",
    "for numero in sequencia:\n",
    "    print(numero ** 2)"
   ]
  },
  {
   "cell_type": "markdown",
   "metadata": {},
   "source": [
    "\n",
    "### Função Enumerate()\n",
    "Com essa função é possível visualizar qual o índice do objeto que estamos percorrendo no laço."
   ]
  },
  {
   "cell_type": "code",
   "execution_count": 7,
   "metadata": {},
   "outputs": [
    {
     "name": "stdout",
     "output_type": "stream",
     "text": [
      "0 ford\n",
      "1 chevrolet\n",
      "2 renault\n",
      "3 volkswagen\n",
      "4 fiat\n"
     ]
    }
   ],
   "source": [
    "for indice, carro in enumerate(lista_carros):\n",
    "    print(indice, carro)"
   ]
  },
  {
   "cell_type": "markdown",
   "metadata": {},
   "source": [
    "<hr>\n",
    "\n",
    "### List Comprehension (Compreensão de Listas)\n",
    "Oferece uma sintaxe mais curta e performática quando você deseja criar uma nova lista baseado em uma existente\n",
    "\n",
    "**Sintaxe**\n",
    "```Python\n",
    "newlist = [expressão for item in lista if condição == True]\n",
    "```\n",
    "``expressão``: o que você quer que retorne (output)<br>\n",
    "``item``: o item da lista que você está percorrendo<br>\n",
    "``lista``: a lista que você está percorrendo<br>\n",
    "``condição``(opcional): a condição que deve ser atendida para que o item seja adicionado na nova lista``\n"
   ]
  },
  {
   "cell_type": "code",
   "execution_count": 8,
   "metadata": {},
   "outputs": [
    {
     "name": "stdout",
     "output_type": "stream",
     "text": [
      "['maçã', 'banana', 'manga', 'jabuticaba']\n"
     ]
    }
   ],
   "source": [
    "#Digamos que você tenha uma lista de frutas e deseja criar uma lista a partir dela (filtrar) apenas pelas frutas que contenham a letra \"a\"\n",
    "\n",
    "frutas = [\"maçã\",\"banana\",\"manga\",\"kiwi\",\"jabuticaba\"]\n",
    "\n",
    "frutas_letra_a = [fruta for fruta in frutas if \"a\" in fruta]\n",
    "\n",
    "print(frutas_letra_a)"
   ]
  },
  {
   "cell_type": "markdown",
   "metadata": {},
   "source": [
    "Confuso? Isso foi o mesmo que escrever o seguinte:\n",
    "\n",
    "```python\n",
    "frutas_letra_a = []\n",
    "for fruta in frutas:\n",
    "    if \"a\" in fruta:\n",
    "        frutas_letra_a.append(fruta)\n",
    "```\n",
    "Perceba que a compreensão de listas é uma técnica muito mais avançada porém mais prática depois que pega o jeito"
   ]
  }
 ],
 "metadata": {
  "kernelspec": {
   "display_name": "Python 3",
   "language": "python",
   "name": "python3"
  },
  "language_info": {
   "codemirror_mode": {
    "name": "ipython",
    "version": 3
   },
   "file_extension": ".py",
   "mimetype": "text/x-python",
   "name": "python",
   "nbconvert_exporter": "python",
   "pygments_lexer": "ipython3",
   "version": "3.12.3"
  }
 },
 "nbformat": 4,
 "nbformat_minor": 2
}
