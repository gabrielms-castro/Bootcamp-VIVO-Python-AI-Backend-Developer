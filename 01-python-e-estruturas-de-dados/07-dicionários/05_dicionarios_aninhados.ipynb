{
 "cells": [
  {
   "cell_type": "markdown",
   "metadata": {},
   "source": [
    "## Dicionários Aninhados:\n",
    "\n",
    "Uma estrutura aninhada é quando ela possui outras estruturas dentro dela. Logo, um dicionário aninhado é composto de outros dicionários.\n"
   ]
  },
  {
   "cell_type": "code",
   "execution_count": 3,
   "metadata": {},
   "outputs": [
    {
     "name": "stdout",
     "output_type": "stream",
     "text": [
      "{'pai': {'nome': 'João', 'idade': 42}, 'mãe': {'nome': 'Maria', 'idade': 38}, 'filho': {'nome': 'Enzo', 'idade': 12}, 'filha': {'nome': 'Valentina', 'idade': 10}}\n"
     ]
    }
   ],
   "source": [
    "\n",
    "familia = {\n",
    "    'pai': {\n",
    "        'nome': 'João',\n",
    "        'idade': 42\n",
    "    },\n",
    "    'mãe': {\n",
    "        'nome': 'Maria',\n",
    "        'idade': 38\n",
    "    },\n",
    "    'filho': {\n",
    "        'nome': 'Enzo',\n",
    "        'idade': 12\n",
    "    },\n",
    "    'filha': {\n",
    "        'nome': 'Valentina',\n",
    "        'idade': 10\n",
    "    }\n",
    "}\n",
    "\n",
    "print(familia)\n",
    "\n"
   ]
  },
  {
   "cell_type": "markdown",
   "metadata": {},
   "source": [
    "Isso é a mesma coisa que criar 4 dicionários e depois criar um 5º dicionário com esses últimos como valor.\n"
   ]
  },
  {
   "cell_type": "code",
   "execution_count": 4,
   "metadata": {},
   "outputs": [
    {
     "name": "stdout",
     "output_type": "stream",
     "text": [
      "{'pai': {'nome': 'João', 'idade': 42}, 'mãe': {'nome': 'Maria', 'idade': 38}, 'filho': {'nome': 'Enzo', 'idade': 12}}\n"
     ]
    }
   ],
   "source": [
    "pai = {\n",
    "    'nome': 'João',\n",
    "    'idade': 42\n",
    "}\n",
    "\n",
    "mae = {\n",
    "    'nome': 'Maria',\n",
    "    'idade': 38\n",
    "}\n",
    "\n",
    "filho = {\n",
    "    'nome': 'Enzo',\n",
    "    'idade': 12\n",
    "}\n",
    "\n",
    "filha = {\n",
    "    'nome': 'Valentina',\n",
    "    'idade': 10\n",
    "}\n",
    "\n",
    "familia2 = {\n",
    "    'pai': pai,\n",
    "    'mãe': mae,\n",
    "    'filho': filho,\n",
    "}\n",
    "\n",
    "\n",
    "print(familia2)"
   ]
  },
  {
   "cell_type": "markdown",
   "metadata": {},
   "source": [
    "<hr>\n",
    "\n",
    "### Acessando Itens em um Dicionário Aninhado:\n",
    "\n",
    "Para acessar os itens de um dicionário aninhado, utilizamos a seguinte sintaxe:\n",
    "\n",
    "``dicionário_aninhado[chave_superior][chave_interna]``\n",
    "\n",
    "**OBS**: Ao acessar um item de um dicionário aninhado, o Python retornará um dicionário."
   ]
  },
  {
   "cell_type": "code",
   "execution_count": 5,
   "metadata": {},
   "outputs": [
    {
     "name": "stdout",
     "output_type": "stream",
     "text": [
      "Valentina\n"
     ]
    }
   ],
   "source": [
    "print(familia[\"filha\"][\"nome\"])"
   ]
  },
  {
   "cell_type": "markdown",
   "metadata": {},
   "source": [
    "<hr>\n",
    "\n",
    "### Loop em um Dicionário Aninhado:\n",
    "\n",
    "Use o método ``.items()`` para iterar pelo dicionário. Será necessário dois laços de repetição ``for`` para iterar entre os itens. "
   ]
  },
  {
   "cell_type": "code",
   "execution_count": 6,
   "metadata": {},
   "outputs": [
    {
     "name": "stdout",
     "output_type": "stream",
     "text": [
      "==========\n",
      " pai\n",
      "nome:  João\n",
      "idade:  42\n",
      "==========\n",
      " mãe\n",
      "nome:  Maria\n",
      "idade:  38\n",
      "==========\n",
      " filho\n",
      "nome:  Enzo\n",
      "idade:  12\n",
      "==========\n",
      " filha\n",
      "nome:  Valentina\n",
      "idade:  10\n"
     ]
    }
   ],
   "source": [
    "for chave_superior, dict_interno in familia.items():\n",
    "    print(\"==========\\n\",chave_superior)\n",
    "\n",
    "    for chave_interna in dict_interno:\n",
    "        print(f\"{chave_interna}:  {dict_interno[chave_interna]}\")\n"
   ]
  },
  {
   "cell_type": "markdown",
   "metadata": {},
   "source": [
    "#### Compreendendo o código acima:\n",
    "\n",
    "#Se iterarmos entre um dicionário aninhado, devemos passar dois parâmetros para nosso loop: a chave ``chave_superior`` e o valor, que no caso é composto de outro dicionário ``dict_interno``"
   ]
  },
  {
   "cell_type": "code",
   "execution_count": 7,
   "metadata": {},
   "outputs": [
    {
     "name": "stdout",
     "output_type": "stream",
     "text": [
      "pai\n",
      "mãe\n",
      "filho\n",
      "filha\n"
     ]
    }
   ],
   "source": [
    "for chave_superior, dict_interno in familia.items():\n",
    "    print(chave_superior)"
   ]
  },
  {
   "cell_type": "markdown",
   "metadata": {},
   "source": [
    "Se utilizarmos a função ```print(dict_interno)```, obteríamos o nosso dicionário interno do nosso dict aninhado"
   ]
  },
  {
   "cell_type": "code",
   "execution_count": 8,
   "metadata": {},
   "outputs": [
    {
     "name": "stdout",
     "output_type": "stream",
     "text": [
      "{'nome': 'João', 'idade': 42}\n",
      "{'nome': 'Maria', 'idade': 38}\n",
      "{'nome': 'Enzo', 'idade': 12}\n",
      "{'nome': 'Valentina', 'idade': 10}\n"
     ]
    }
   ],
   "source": [
    "for chave_superior, dict_interno in familia.items():\n",
    "    print(dict_interno)"
   ]
  },
  {
   "cell_type": "markdown",
   "metadata": {},
   "source": [
    "**Como acessamos um valor dentro de um dicionário?** Chamando o nome do dicionário (que no caso é nosso ```dict_interno```) e colocando o nome da chave em colchetes ```[]```.\n",
    "<br>Ficaria da seguinte forma: ```dicionário[chave]```. Isso retornará o valor referente à chave dada como parâmetro.\n",
    "<br>Dessa forma, acrescentamos uma linha de ```for```,aninhando nosso loop e definindo o dicionário interno (que nada mais é do que o valor do dicionário principal)"
   ]
  },
  {
   "cell_type": "code",
   "execution_count": 9,
   "metadata": {},
   "outputs": [
    {
     "name": "stdout",
     "output_type": "stream",
     "text": [
      "pai\n",
      "nome:  João\n",
      "idade:  42\n",
      "mãe\n",
      "nome:  Maria\n",
      "idade:  38\n",
      "filho\n",
      "nome:  Enzo\n",
      "idade:  12\n",
      "filha\n",
      "nome:  Valentina\n",
      "idade:  10\n"
     ]
    }
   ],
   "source": [
    "for chave_superior, dict_interno in familia.items():\n",
    "    print(chave_superior)\n",
    "    for chave_interna in dict_interno:\n",
    "        print(f\"{chave_interna}:  {dict_interno[chave_interna]}\")\n",
    "    "
   ]
  }
 ],
 "metadata": {
  "kernelspec": {
   "display_name": "Python 3",
   "language": "python",
   "name": "python3"
  },
  "language_info": {
   "codemirror_mode": {
    "name": "ipython",
    "version": 3
   },
   "file_extension": ".py",
   "mimetype": "text/x-python",
   "name": "python",
   "nbconvert_exporter": "python",
   "pygments_lexer": "ipython3",
   "version": "3.12.3"
  }
 },
 "nbformat": 4,
 "nbformat_minor": 2
}
