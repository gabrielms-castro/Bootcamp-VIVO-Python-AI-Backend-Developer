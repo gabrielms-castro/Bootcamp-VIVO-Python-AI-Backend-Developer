{
 "cells": [
  {
   "cell_type": "markdown",
   "metadata": {},
   "source": [
    "## Iterando em Dicionários\n",
    "\n",
    "É possível iterar entre os itens de um ```dict``` utilizando um laço de repetição ```for```.\n",
    "\n",
    "O retorno de uma iteração será a ```chave``` do dicionário, mas é possível retornar o ```valor``` utilizando a sintaxe para acessar os itens de um dict: ```dict[chave]```\n"
   ]
  },
  {
   "cell_type": "code",
   "execution_count": 1,
   "metadata": {},
   "outputs": [
    {
     "name": "stdout",
     "output_type": "stream",
     "text": [
      "Linguagem\n",
      "Tipo\n",
      "Execução\n",
      "Paradigma\n",
      "Abstração\n"
     ]
    }
   ],
   "source": [
    "dict = {\n",
    "    \"Linguagem\":\"Python\",\n",
    "    \"Tipo\":\"Dinâmica e Tipagem Forte\",\n",
    "    \"Execução\":\"Interpretada\",\n",
    "    \"Paradigma\":\"Multiparadigma (Procedural e Orientada a Objetos)\",\n",
    "    \"Abstração\":\"Alta\"\n",
    "}\n",
    "\n",
    "#retornando apenas chave\n",
    "for chave in dict:\n",
    "    print(chave)"
   ]
  },
  {
   "cell_type": "code",
   "execution_count": 2,
   "metadata": {},
   "outputs": [
    {
     "name": "stdout",
     "output_type": "stream",
     "text": [
      "Python\n",
      "Dinâmica e Tipagem Forte\n",
      "Interpretada\n",
      "Multiparadigma (Procedural e Orientada a Objetos)\n",
      "Alta\n"
     ]
    }
   ],
   "source": [
    "#retornando apenas valor\n",
    "for chave in dict:\n",
    "    print(dict[chave])"
   ]
  },
  {
   "cell_type": "code",
   "execution_count": 3,
   "metadata": {},
   "outputs": [
    {
     "name": "stdout",
     "output_type": "stream",
     "text": [
      "Linguagem : Python\n",
      "Tipo      : Dinâmica e Tipagem Forte\n",
      "Execução  : Interpretada\n",
      "Paradigma : Multiparadigma (Procedural e Orientada a Objetos)\n",
      "Abstração : Alta\n"
     ]
    }
   ],
   "source": [
    "#retornando chave e valor:\n",
    "for chave in dict:\n",
    "    print(f\"{chave:<{10}}: {dict[chave]}\")"
   ]
  },
  {
   "cell_type": "markdown",
   "metadata": {},
   "source": [
    "<hr>\n",
    "\n",
    "Dependendo do que você está tentando fazer, você pode precisar iterar **especificamente** nas ```chaves``` ou nos ```valores``` ou, inclusive, no par completo de ```chave:valor```\n",
    "\n",
    "### Iterando Chaves\n",
    "Para iterar especificamente em **chaves** de um dicionário, de modo expresso, utilize o método ```.keys()```"
   ]
  },
  {
   "cell_type": "code",
   "execution_count": 4,
   "metadata": {},
   "outputs": [
    {
     "name": "stdout",
     "output_type": "stream",
     "text": [
      "Linguagem\n",
      "Tipo\n",
      "Execução\n",
      "Paradigma\n",
      "Abstração\n"
     ]
    }
   ],
   "source": [
    "for i in dict.keys():\n",
    "    print(i)"
   ]
  },
  {
   "cell_type": "markdown",
   "metadata": {},
   "source": [
    "### Iterando Valores\n",
    "Para iterar especificamente em **valores** de um dicionário, de modo expresso, utilize o método ```.values()```"
   ]
  },
  {
   "cell_type": "code",
   "execution_count": 5,
   "metadata": {},
   "outputs": [
    {
     "name": "stdout",
     "output_type": "stream",
     "text": [
      "Python\n",
      "Dinâmica e Tipagem Forte\n",
      "Interpretada\n",
      "Multiparadigma (Procedural e Orientada a Objetos)\n",
      "Alta\n"
     ]
    }
   ],
   "source": [
    "for i in dict.values():\n",
    "    print(i)"
   ]
  },
  {
   "cell_type": "markdown",
   "metadata": {},
   "source": [
    "### Iterando Itens\n",
    "Para iterar especificamente em **itens**(par de chave e valor) de um dicionário, de modo expresso, utilize o método ```.items()```\n",
    "\n",
    "Obs: Como você estará iterando em chaves **e** valor, será necessário passar dois parâmetros no loop ```for```"
   ]
  },
  {
   "cell_type": "code",
   "execution_count": 6,
   "metadata": {},
   "outputs": [
    {
     "name": "stdout",
     "output_type": "stream",
     "text": [
      "Linguagem : Python\n",
      "Tipo      : Dinâmica e Tipagem Forte\n",
      "Execução  : Interpretada\n",
      "Paradigma : Multiparadigma (Procedural e Orientada a Objetos)\n",
      "Abstração : Alta\n"
     ]
    }
   ],
   "source": [
    "for x, y in dict.items():\n",
    "    print(f\"{x:<{10}}: {y}\")    "
   ]
  },
  {
   "cell_type": "markdown",
   "metadata": {},
   "source": [
    "O método ```.items()``` basicamente te entrega o dicionário completo. Porém, o output será cada item num formato de tupla e tudo dentro de uma lista\n",
    "\n",
    "Note também que ele possui sua própria classe: ```dict_items```"
   ]
  },
  {
   "cell_type": "code",
   "execution_count": 9,
   "metadata": {},
   "outputs": [
    {
     "name": "stdout",
     "output_type": "stream",
     "text": [
      "dict_items([('Linguagem', 'Python'), ('Tipo', 'Dinâmica e Tipagem Forte'), ('Execução', 'Interpretada'), ('Paradigma', 'Multiparadigma (Procedural e Orientada a Objetos)'), ('Abstração', 'Alta')])\n",
      "<class 'dict_items'>\n"
     ]
    }
   ],
   "source": [
    "print(dict.items())\n",
    "print(type(dict.items()))"
   ]
  }
 ],
 "metadata": {
  "kernelspec": {
   "display_name": "Python 3",
   "language": "python",
   "name": "python3"
  },
  "language_info": {
   "codemirror_mode": {
    "name": "ipython",
    "version": 3
   },
   "file_extension": ".py",
   "mimetype": "text/x-python",
   "name": "python",
   "nbconvert_exporter": "python",
   "pygments_lexer": "ipython3",
   "version": "3.12.3"
  }
 },
 "nbformat": 4,
 "nbformat_minor": 2
}
