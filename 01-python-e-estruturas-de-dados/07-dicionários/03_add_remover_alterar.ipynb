{
 "cells": [
  {
   "cell_type": "markdown",
   "metadata": {},
   "source": [
    "## Adicionar, Remover e Alterar itens em um Dicionário\n",
    "\n",
    "### Adicionar\n",
    "Utilizamos a sintaxe ```dicionario[chave] = valor``` para adicionar um novo item a um dicionário existente"
   ]
  },
  {
   "cell_type": "code",
   "execution_count": 1,
   "metadata": {},
   "outputs": [
    {
     "name": "stdout",
     "output_type": "stream",
     "text": [
      "{'chave1': 'valor1', 'chave2': 'valor2', 'chave3': 'valor3', 'chave4': 'valor4'}\n"
     ]
    }
   ],
   "source": [
    "dict1 = {\n",
    "    \"chave1\": \"valor1\",\n",
    "    \"chave2\": \"valor2\",\n",
    "    \"chave3\": \"valor3\"\n",
    "}\n",
    "\n",
    "dict1[\"chave4\"] = \"valor4\"\n",
    "\n",
    "print(dict1)"
   ]
  },
  {
   "cell_type": "markdown",
   "metadata": {},
   "source": [
    "Há também o método ```.update()``` para adicionar itens a um dict. O argumento deste metódo deve ser um dicionário ```dict.update({chave:valor})```"
   ]
  },
  {
   "cell_type": "code",
   "execution_count": 2,
   "metadata": {},
   "outputs": [
    {
     "name": "stdout",
     "output_type": "stream",
     "text": [
      "{'chave1': 'valor1', 'chave2': 'valor2', 'chave3': 'valor3', 'chave4': 'valor4', 'chave5': 'valor5'}\n"
     ]
    }
   ],
   "source": [
    "dict1.update(\n",
    "    {\n",
    "        \"chave4\": \"valor4\",\n",
    "        \"chave5\": \"valor5\"\n",
    "    }\n",
    ")\n",
    "\n",
    "print(dict1)"
   ]
  },
  {
   "cell_type": "markdown",
   "metadata": {},
   "source": [
    "<hr>\n",
    "\n",
    "### Remover\n",
    "\n",
    "Existem alguns métodos que podem ser utilizados para remover itens de um dicionários:\n",
    "\n",
    "- ```.pop(chave)```\n",
    "\n",
    "- ```.popitem()```\n",
    "\n",
    "- ```.clear()```\n",
    "\n",
    "- ```del dicionario[chave]```\n",
    "\n",
    "- ```del dicionario```\n",
    "\n",
    "####   **.pop(chave)**\n",
    "Remove uma chave específica"
   ]
  },
  {
   "cell_type": "code",
   "execution_count": 3,
   "metadata": {},
   "outputs": [
    {
     "name": "stdout",
     "output_type": "stream",
     "text": [
      "{'chave1': 'valor1', 'chave2': 'valor2', 'chave3': 'valor3', 'chave4': 'valor4'}\n"
     ]
    }
   ],
   "source": [
    "dict1.pop(\"chave5\")\n",
    "print(dict1)"
   ]
  },
  {
   "cell_type": "markdown",
   "metadata": {},
   "source": [
    "####   **.popitem(chave)**\n",
    "Remove o último item inserido no dicionário"
   ]
  },
  {
   "cell_type": "code",
   "execution_count": 4,
   "metadata": {},
   "outputs": [
    {
     "name": "stdout",
     "output_type": "stream",
     "text": [
      "{'chave1': 'valor1', 'chave2': 'valor2', 'chave3': 'valor3'}\n"
     ]
    }
   ],
   "source": [
    "dict1.popitem() #último item inserido foi o par chave6:valor6\n",
    "print(dict1)"
   ]
  },
  {
   "cell_type": "markdown",
   "metadata": {},
   "source": [
    "####   **.clear()**\n",
    "Limpa o dicionário selecionado, deixando em branco"
   ]
  },
  {
   "cell_type": "code",
   "execution_count": 5,
   "metadata": {},
   "outputs": [
    {
     "name": "stdout",
     "output_type": "stream",
     "text": [
      "{}\n"
     ]
    }
   ],
   "source": [
    "dict1.clear()\n",
    "print(dict1)"
   ]
  },
  {
   "cell_type": "markdown",
   "metadata": {},
   "source": [
    "####   **del**\n",
    "A palavra chave ```del``` pode tanto **deletar um item específico** pelo formato ```del dict[chave]``` quando **deletar um dicionário inteiro** usando a sintaxe ```del dict``` onde ```dict``` é o nome do seu dicionário."
   ]
  },
  {
   "cell_type": "code",
   "execution_count": 6,
   "metadata": {},
   "outputs": [
    {
     "name": "stdout",
     "output_type": "stream",
     "text": [
      "Antes de utilizar 'del':  {'marca': 'Ford', 'modelo': 'Mustang', 'ano': 1964, 'cor': 'vermelho'}\n",
      "Após utilizar 'del':  {'marca': 'Ford', 'ano': 1964, 'cor': 'vermelho'}\n"
     ]
    }
   ],
   "source": [
    "dict2 =  {\n",
    "  \"marca\": \"Ford\",\n",
    "  \"modelo\": \"Mustang\",\n",
    "  \"ano\": 1964,\n",
    "  \"cor\": \"vermelho\"\n",
    "}\n",
    "\n",
    "print(\"Antes de utilizar 'del': \", dict2)\n",
    "\n",
    "del dict2[\"modelo\"]\n",
    "\n",
    "print(\"Após utilizar 'del': \", dict2)"
   ]
  },
  {
   "cell_type": "markdown",
   "metadata": {},
   "source": [
    "<hr>\n",
    "\n",
    "### Alterar\n",
    "\n",
    "Para alterar um item de um dicionário utilizamos a sintaxe ```dict[chave] = novo_valor```\n",
    "\n",
    "Da mesma forma, podemos utilizar o método ```.update()```, passando como argumento uma chave já existente.\n"
   ]
  },
  {
   "cell_type": "code",
   "execution_count": 7,
   "metadata": {},
   "outputs": [
    {
     "name": "stdout",
     "output_type": "stream",
     "text": [
      "{'chave1': 'novo valor', 'chave2': 'valor2', 'chave3': 'valor3'}\n"
     ]
    }
   ],
   "source": [
    "dict1 = {\n",
    "    \"chave1\": \"valor1\",\n",
    "    \"chave2\": \"valor2\",\n",
    "    \"chave3\": \"valor3\"\n",
    "}\n",
    "\n",
    "dict1[\"chave1\"] = \"novo valor\"\n",
    "\n",
    "print(dict1)"
   ]
  },
  {
   "cell_type": "code",
   "execution_count": 8,
   "metadata": {},
   "outputs": [
    {
     "name": "stdout",
     "output_type": "stream",
     "text": [
      "chave1 : novo valor\n",
      "chave2 : este valor foi alterado pelo update\n",
      "chave3 : valor3\n"
     ]
    }
   ],
   "source": [
    "dict1.update({'chave2':'este valor foi alterado pelo update'})\n",
    "for chave, valor in dict1.items():\n",
    "    print(chave, \":\", valor)"
   ]
  }
 ],
 "metadata": {
  "kernelspec": {
   "display_name": "Python 3",
   "language": "python",
   "name": "python3"
  },
  "language_info": {
   "codemirror_mode": {
    "name": "ipython",
    "version": 3
   },
   "file_extension": ".py",
   "mimetype": "text/x-python",
   "name": "python",
   "nbconvert_exporter": "python",
   "pygments_lexer": "ipython3",
   "version": "3.12.3"
  }
 },
 "nbformat": 4,
 "nbformat_minor": 2
}
