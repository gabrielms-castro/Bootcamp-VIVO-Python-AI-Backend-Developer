{
 "cells": [
  {
   "cell_type": "markdown",
   "metadata": {},
   "source": [
    "# Dicionários (dict)\n",
    "\n",
    "Dicionários são pares de ``chave:valor`` ou ``key:value`` . Essa combinação é chamada de ``itens``.\n",
    "\n",
    "É um conjunto usado para armazenar dados **Ordernados**, **Mutáveis** e **Não-duplicados**\n",
    "\n",
    "**OBS**: Dicionários se tornaram ordenados a partir da versão 3.7 do Python."
   ]
  },
  {
   "cell_type": "markdown",
   "metadata": {},
   "source": [
    "## Criando um dicionário:\n",
    "\n",
    "Para criar um dicionário utilizamos chaves ``{}`` ou o construtor ``dict``.\n",
    "\n",
    "É obrigatório que a ```chave``` seja um objeto **IMUTÁVEL**(String ou Números). Já o ```valor``` pode ser qualquer tipo de dados - mutável ou não."
   ]
  },
  {
   "cell_type": "code",
   "execution_count": 1,
   "metadata": {},
   "outputs": [
    {
     "name": "stdout",
     "output_type": "stream",
     "text": [
      "{'chave1': 'valor1', 'chave2': 'valor2', 'chave3': 'valor3'}\n"
     ]
    }
   ],
   "source": [
    "#Utilizando colchetes, os itens são definidos pela sintaxe {chave : valor}\n",
    "dict1 = {\n",
    "    'chave1': 'valor1',\n",
    "    'chave2': 'valor2',\n",
    "    'chave3': 'valor3'\n",
    "}\n",
    "print(dict1)"
   ]
  }
 ],
 "metadata": {
  "kernelspec": {
   "display_name": "Python 3",
   "language": "python",
   "name": "python3"
  },
  "language_info": {
   "codemirror_mode": {
    "name": "ipython",
    "version": 3
   },
   "file_extension": ".py",
   "mimetype": "text/x-python",
   "name": "python",
   "nbconvert_exporter": "python",
   "pygments_lexer": "ipython3",
   "version": "3.12.3"
  }
 },
 "nbformat": 4,
 "nbformat_minor": 2
}
