{
 "cells": [
  {
   "cell_type": "markdown",
   "metadata": {},
   "source": [
    "## Acessando um dicionário:\n",
    "\n",
    "Podemos acessar os itens de um dicionário (lembrando que um item é o conjunto par ```chave:valor```) colocando a ``chave`` dentro de colchetes da seguinte forma ```dicionario[chave]````\n",
    "\n",
    "**Obs:** Não acessamos itens de dicionários pela indexação como fizemos nos outros conjuntos, comonas listas. "
   ]
  },
  {
   "cell_type": "code",
   "execution_count": 1,
   "metadata": {},
   "outputs": [
    {
     "name": "stdout",
     "output_type": "stream",
     "text": [
      "cachorro\n",
      "rottweiller\n"
     ]
    }
   ],
   "source": [
    "dicionario1 = {\n",
    "    'animal':'cachorro',\n",
    "    'idade':2,\n",
    "    'cor':'preto',\n",
    "    'raca':'rottweiller'\n",
    "}\n",
    "\n",
    "print(dicionario1['animal'])\n",
    "print(dicionario1['raca'])"
   ]
  },
  {
   "cell_type": "markdown",
   "metadata": {},
   "source": [
    "Porém, se utilizarmos essa forma quando não existe a chave especificada, será retornar um ```KeyError```"
   ]
  },
  {
   "cell_type": "code",
   "execution_count": 2,
   "metadata": {},
   "outputs": [
    {
     "ename": "KeyError",
     "evalue": "'nome'",
     "output_type": "error",
     "traceback": [
      "\u001b[1;31m---------------------------------------------------------------------------\u001b[0m",
      "\u001b[1;31mKeyError\u001b[0m                                  Traceback (most recent call last)",
      "Cell \u001b[1;32mIn[2], line 1\u001b[0m\n\u001b[1;32m----> 1\u001b[0m \u001b[38;5;28mprint\u001b[39m(\u001b[43mdicionario1\u001b[49m\u001b[43m[\u001b[49m\u001b[38;5;124;43m'\u001b[39;49m\u001b[38;5;124;43mnome\u001b[39;49m\u001b[38;5;124;43m'\u001b[39;49m\u001b[43m]\u001b[49m)\n",
      "\u001b[1;31mKeyError\u001b[0m: 'nome'"
     ]
    }
   ],
   "source": [
    "print(dicionario1['nome'])"
   ]
  },
  {
   "cell_type": "markdown",
   "metadata": {},
   "source": [
    "### O Método .get()\n",
    "\n",
    "Para contornarmos o ```KeyError``` acima, podemos utilizar o método ```.get()```, uma vez que ele não retorna erro quando a chave especificada não existe, retornando um ```None``` no lugar do erro."
   ]
  },
  {
   "cell_type": "code",
   "execution_count": null,
   "metadata": {},
   "outputs": [
    {
     "name": "stdout",
     "output_type": "stream",
     "text": [
      "rottweiller\n",
      "None\n"
     ]
    }
   ],
   "source": [
    "print(dicionario1.get('raca'))\n",
    "print(dicionario1.get('nome')) #retornará None porque não existe essa chave"
   ]
  },
  {
   "cell_type": "markdown",
   "metadata": {},
   "source": [
    "### Verificando se uma chave existe:\n",
    "\n",
    "Use um operador de associação ```ìn``` para checar de determinada chave existe no dicionário"
   ]
  },
  {
   "cell_type": "code",
   "execution_count": null,
   "metadata": {},
   "outputs": [
    {
     "data": {
      "text/plain": [
       "True"
      ]
     },
     "execution_count": 9,
     "metadata": {},
     "output_type": "execute_result"
    }
   ],
   "source": [
    "'cor' in dicionario1"
   ]
  },
  {
   "cell_type": "code",
   "execution_count": null,
   "metadata": {},
   "outputs": [
    {
     "name": "stdout",
     "output_type": "stream",
     "text": [
      "O cachorro é da cor preto\n"
     ]
    }
   ],
   "source": [
    "if 'cor' in dicionario1:\n",
    "    print(f\"O cachorro é da cor {dicionario1['cor']}\")"
   ]
  }
 ],
 "metadata": {
  "kernelspec": {
   "display_name": "Python 3",
   "language": "python",
   "name": "python3"
  },
  "language_info": {
   "codemirror_mode": {
    "name": "ipython",
    "version": 3
   },
   "file_extension": ".py",
   "mimetype": "text/x-python",
   "name": "python",
   "nbconvert_exporter": "python",
   "pygments_lexer": "ipython3",
   "version": "3.12.3"
  }
 },
 "nbformat": 4,
 "nbformat_minor": 2
}
