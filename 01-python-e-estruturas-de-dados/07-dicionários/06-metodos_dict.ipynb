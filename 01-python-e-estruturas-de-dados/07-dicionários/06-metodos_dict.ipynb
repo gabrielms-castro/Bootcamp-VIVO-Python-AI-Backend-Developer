{
 "cells": [
  {
   "cell_type": "markdown",
   "metadata": {},
   "source": [
    "## Métodos Dicionários:\n",
    "\n",
    "Alguns dos principais métodos utilizados em ```dict```\n",
    "\n",
    "### .copy()\n",
    "\n",
    "Utilizado para clonar um dicionário existente. \n",
    "\n",
    "Use quando você quiser fazer alterações no dicionário sem alterá-lo."
   ]
  },
  {
   "cell_type": "code",
   "execution_count": 1,
   "metadata": {},
   "outputs": [
    {
     "name": "stdout",
     "output_type": "stream",
     "text": [
      "{'marca': 'Ford', 'modelo': 'Mustang', 'ano': 1964, 'cor': 'vermelho'}\n",
      "{'marca': 'Ford', 'modelo': 'Mustang', 'ano': 1964, 'cor': 'azul'}\n"
     ]
    }
   ],
   "source": [
    "#dicionário principal\n",
    "dict = {\n",
    "  \"marca\": \"Ford\",\n",
    "  \"modelo\": \"Mustang\",\n",
    "  \"ano\": 1964,\n",
    "  \"cor\": \"vermelho\"\n",
    "}\n",
    "\n",
    "#cópia do dicionário\n",
    "dict2 = dict.copy()\n",
    "\n",
    "#alterando o dicionário principal\n",
    "\n",
    "dict2[\"cor\"] = \"azul\"\n",
    "\n",
    "print(dict)\n",
    "print(dict2)\n"
   ]
  },
  {
   "cell_type": "markdown",
   "metadata": {},
   "source": [
    "### .fromkeys()\n",
    "\n",
    "Cria chaves de maneira fácil.\n",
    "\n",
    "**Quanto utilizar?**\n",
    "<br>Use o método ```.fromkeys()``` quando você quiser criar um conjunto de chaves com um **valor padrão** ou nenhum valor (```None```)\n",
    "\n",
    "**Sintaxe:**\n",
    "<br>```dict.fromkeys(chave,valor)```\n",
    "\n",
    "* a ```chave``` pode ser uma variável ou uma lista\n",
    "\n",
    "* o ```valor``` definirá o valor para todas as chaves. Quando nenhum valor é passado como segundo argumento para o método ```.fromkeys()```, ele atribui ```None``` como valor padrão para todas as chaves no dicionário "
   ]
  },
  {
   "cell_type": "code",
   "execution_count": 2,
   "metadata": {},
   "outputs": [
    {
     "name": "stdout",
     "output_type": "stream",
     "text": [
      "{'nome': 'Em branco', 'email': 'Em branco', 'telefone': 'Em branco', 'endereço': 'Em branco'}\n"
     ]
    }
   ],
   "source": [
    "lista_telefonica = {}\n",
    "\n",
    "x = lista_telefonica.fromkeys([\"nome\",\"email\",\"telefone\",\"endereço\"], \"Em branco\")\n",
    "\n",
    "print(x)"
   ]
  },
  {
   "cell_type": "code",
   "execution_count": 3,
   "metadata": {},
   "outputs": [
    {
     "name": "stdout",
     "output_type": "stream",
     "text": [
      "{'nome': None, 'email': None, 'telefone': None, 'endereço': None}\n"
     ]
    }
   ],
   "source": [
    "lista_telefonica = {}\n",
    "\n",
    "y = lista_telefonica.fromkeys([\"nome\",\"email\",\"telefone\",\"endereço\"], ) #Sem passar o segundo argumento, ele atribuirá None como padrão para todas as chaves\n",
    "\n",
    "print(y)"
   ]
  }
 ],
 "metadata": {
  "kernelspec": {
   "display_name": "Python 3",
   "language": "python",
   "name": "python3"
  },
  "language_info": {
   "codemirror_mode": {
    "name": "ipython",
    "version": 3
   },
   "file_extension": ".py",
   "mimetype": "text/x-python",
   "name": "python",
   "nbconvert_exporter": "python",
   "pygments_lexer": "ipython3",
   "version": "3.12.3"
  }
 },
 "nbformat": 4,
 "nbformat_minor": 2
}
