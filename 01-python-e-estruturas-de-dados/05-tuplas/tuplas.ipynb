{
 "cells": [
  {
   "cell_type": "markdown",
   "metadata": {},
   "source": [
    "# Tuplas\n",
    "\n",
    "Tuplas, assim como Listas, também são utilizadas para armazenar múltiplos itens dentro de uma única variável. Contudo, há algumas diferenças cruciais para esta estrutura de dado.\n",
    "\n",
    "1. São **imutáveis** <br>Diferentemente das Listas, não é possível alterar uma tupla já criada (a menos que você faça hard-coding e altere direto na fonte).\n",
    "\n",
    "2. Permitem **duplicatas**<br>Uma vez que tuplas possuem índices para identificar seus itens, é possível colocar mais de um item com o mesmo valor <br>O primeiro item de uma tupla possui índice ``[0]``, o segundo ``[1]`` e assim sucessivamente.\n",
    "\n",
    "3. É **ordenada**<br>A ordem dos itens definida no momento da criação da tupla não mudará, sempre mantendo a mesma ordem. \n",
    "\n",
    "4. Múltiplos **tipos de dados**<br>Uma tupla pode conter dados do tipo int,float,str,bool e até mesmo outras estruturas como list,tuple,dict etc\n",
    "\n",
    "## Definindo uma Tupla\n",
    "\n",
    "Uma tupla pode ser definida pelo construtor ``tuple()`` ou por utilizar parentesis ``()``"
   ]
  },
  {
   "cell_type": "code",
   "execution_count": 8,
   "metadata": {},
   "outputs": [
    {
     "name": "stdout",
     "output_type": "stream",
     "text": [
      "<class 'tuple'>\n",
      "('ford', 'ferrari', 'lamborghini')\n"
     ]
    }
   ],
   "source": [
    "tupla1 = tuple((\"ford\",\"ferrari\",\"lamborghini\")) #observe que o construtor tuple() necessita de DUPLO PARENTESIS, senão será retornado um erro\n",
    "print(type(tupla1))\n",
    "print(tupla1)"
   ]
  },
  {
   "cell_type": "code",
   "execution_count": 6,
   "metadata": {},
   "outputs": [
    {
     "name": "stdout",
     "output_type": "stream",
     "text": [
      "<class 'tuple'>\n",
      "('ford', 'ferrari', 'lamborghini')\n"
     ]
    }
   ],
   "source": [
    "tupla2 = (\"ford\",\"ferrari\",\"lamborghini\")\n",
    "print(type(tupla2))\n",
    "print(tupla2)"
   ]
  },
  {
   "cell_type": "code",
   "execution_count": 12,
   "metadata": {},
   "outputs": [
    {
     "name": "stdout",
     "output_type": "stream",
     "text": [
      "<class 'tuple'>\n",
      "<class 'str'>\n"
     ]
    }
   ],
   "source": [
    "#Se for criar uma tupla de um único item, é OBRIGATÓRIO utilizar vírgula \",\" após o item\n",
    "tupla_um_item = (\"maverick\",)\n",
    "print(type(tupla_um_item))\n",
    "\n",
    "#Sem a vírgula, não existe uma tupla, mas sim uma STRING\n",
    "not_tupla = (\"maverick\")\n",
    "print(type(not_tupla))"
   ]
  },
  {
   "cell_type": "markdown",
   "metadata": {},
   "source": [
    "* Assim como listas, é possível iterar cada item da tupla utilizando laços de repetição ``for`` e ``while``\n",
    "* Também é possível utilizar indexação para acessar itens de uma tupla\n"
   ]
  },
  {
   "cell_type": "markdown",
   "metadata": {},
   "source": [
    "## Alterando uma Tupla\n",
    "Embora não seja possível alterar diretamente uma tupla (utilizando ela justamente quando esse nível de restrição é necessário), é possível dar um pulo do gato para que essa alteração seja feita\n",
    "<br>**OBS:Não é recomendado, tampouco uma boa-prática fazer isso**\n",
    "<br><br>Uma técnica que pode ser feita é **transformar** a tupla existente em **lista**, fazer a alteração necessária e, depois, transformar e **tupla** novamente."
   ]
  },
  {
   "cell_type": "code",
   "execution_count": 15,
   "metadata": {},
   "outputs": [
    {
     "name": "stdout",
     "output_type": "stream",
     "text": [
      "('maçã', 'banana', 'mamão')\n",
      "('laranja', 'banana', 'mamão')\n"
     ]
    }
   ],
   "source": [
    "#Alterando um item de uma tupla\n",
    "tupla_frutas = (\"maçã\",\"banana\",\"mamão\")\n",
    "print(tupla_frutas)\n",
    "\n",
    "lista_frutas = list(tupla_frutas) #transforma a tupla em lista\n",
    "lista_frutas[0] = \"laranja\" #faz a alteração\n",
    "tupla_frutas = tuple(lista_frutas) #transforma a lista em tupla novamente\n",
    "\n",
    "print(tupla_frutas)"
   ]
  },
  {
   "cell_type": "code",
   "execution_count": 17,
   "metadata": {},
   "outputs": [
    {
     "name": "stdout",
     "output_type": "stream",
     "text": [
      "('maçã', 'banana', 'mamão')\n",
      "('banana', 'mamão')\n"
     ]
    }
   ],
   "source": [
    "#Removendo um item de uma tupla\n",
    "tupla_frutas = (\"maçã\",\"banana\",\"mamão\")\n",
    "print(tupla_frutas)\n",
    "\n",
    "lista_frutas = list(tupla_frutas) #transforma a tupla em lista\n",
    "lista_frutas.remove(\"maçã\") #faz a remoção\n",
    "tupla_frutas = tuple(lista_frutas) #transforma a lista em tupla novamente\n",
    "\n",
    "print(tupla_frutas)"
   ]
  },
  {
   "cell_type": "code",
   "execution_count": 18,
   "metadata": {},
   "outputs": [
    {
     "name": "stdout",
     "output_type": "stream",
     "text": [
      "('maçã', 'banana', 'mamão', 'melão', 'kiwi', 'laranja')\n"
     ]
    }
   ],
   "source": [
    "#Adicionando itens a uma tupla\n",
    "#Você pode efetuar uma operação de soma(tupla1 + tupla2). Os itens serão empilhados na última posição\n",
    "\n",
    "tupla_frutas = (\"maçã\",\"banana\",\"mamão\")\n",
    "tupla_add = (\"melão\",\"kiwi\",\"laranja\")\n",
    "\n",
    "tupla_frutas += tupla_add\n",
    "\n",
    "print(tupla_frutas)\n"
   ]
  },
  {
   "cell_type": "markdown",
   "metadata": {},
   "source": [
    "## Métodos da Tupla\n",
    "\n",
    "Existem dois métodos built-in no Python para usar com tuplas:\n",
    "1. **.count()**<br>Retorna o número de vezes que um valor específico ocorre dentro de uma tupla\n",
    "\n",
    "2. **.index()**<br>Retorna o primeiro índice de um valor específico dentro de uma tupla"
   ]
  },
  {
   "cell_type": "code",
   "execution_count": 21,
   "metadata": {},
   "outputs": [
    {
     "name": "stdout",
     "output_type": "stream",
     "text": [
      "3\n",
      "2\n"
     ]
    }
   ],
   "source": [
    "tupla_itens_motor = (\"carburador\",\"bomba de combustível\",\"bronzina\",\"pistão\",\"filtro de óleo\",\"bronzina\",\"virabrequim\",\"bronzina\",\"pistão\",\"cabeçote\")\n",
    "\n",
    "print(tupla_itens_motor.count(\"bronzina\")) #quantidade de itens existentes para o item buscado\n",
    "\n",
    "print(tupla_itens_motor.index(\"bronzina\")) #índice da primeira vez que aparece 'bronzina'"
   ]
  }
 ],
 "metadata": {
  "kernelspec": {
   "display_name": "Python 3",
   "language": "python",
   "name": "python3"
  },
  "language_info": {
   "codemirror_mode": {
    "name": "ipython",
    "version": 3
   },
   "file_extension": ".py",
   "mimetype": "text/x-python",
   "name": "python",
   "nbconvert_exporter": "python",
   "pygments_lexer": "ipython3",
   "version": "3.12.3"
  }
 },
 "nbformat": 4,
 "nbformat_minor": 2
}
