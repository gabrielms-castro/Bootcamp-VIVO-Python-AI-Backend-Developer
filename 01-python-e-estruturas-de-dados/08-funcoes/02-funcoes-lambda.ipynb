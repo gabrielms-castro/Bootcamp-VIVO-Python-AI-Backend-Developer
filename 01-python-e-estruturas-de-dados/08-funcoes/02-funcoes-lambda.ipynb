{
 "cells": [
  {
   "cell_type": "markdown",
   "metadata": {},
   "source": [
    "## Função Lambda    \n",
    "\n",
    "a função lambda é uma funçã anônima que pode receber inúmeros argumentos, mas podem receber **apenas uma expressão**\n",
    "```python\n",
    "lambda argumentos: expressão\n",
    "```"
   ]
  },
  {
   "cell_type": "code",
   "execution_count": 2,
   "metadata": {},
   "outputs": [
    {
     "name": "stdout",
     "output_type": "stream",
     "text": [
      "15\n"
     ]
    }
   ],
   "source": [
    "#Criando uma função lambda que soma x a um número específico:\n",
    "x = lambda a: a + 10\n",
    "\n",
    "# O Argumento 'a' será adicionado a '10', podendo a ser definido em x(a)\n",
    "print(x(5)) #aqui eu defini que 'a' será 5"
   ]
  },
  {
   "cell_type": "code",
   "execution_count": 4,
   "metadata": {},
   "outputs": [
    {
     "name": "stdout",
     "output_type": "stream",
     "text": [
      "30\n"
     ]
    }
   ],
   "source": [
    "# Criando uma função lambda que multiplica x por y:\n",
    "multiplicacao = lambda x, y: x * y\n",
    "\n",
    "print(multiplicacao(x=5, y=6))"
   ]
  },
  {
   "cell_type": "markdown",
   "metadata": {},
   "source": [
    "## Utilizando lambda detro de funções\n",
    "\n",
    "Utilizar funções lambda dentro de funções comuns é algo muito poderoso que pode melhorar a performance do código\n",
    "\n",
    "Imagine uma função que recebe um argumento e multiplica por um número ainda desconhecido. Use lambda:"
   ]
  },
  {
   "cell_type": "code",
   "execution_count": 5,
   "metadata": {},
   "outputs": [
    {
     "name": "stdout",
     "output_type": "stream",
     "text": [
      "10\n"
     ]
    }
   ],
   "source": [
    "def multi(n):\n",
    "    return lambda a: a * n\n",
    "\n",
    "# Agora defina que essa função sempre dobrará o valor de entrada\n",
    "dobrar =  multi(2)\n",
    "\n",
    "# Você agora tem um função chamada 'dobrar' que pode ser chamada normalmente e você a definiu numa variável 'dobrar'\n",
    "print(dobrar(a=5))"
   ]
  }
 ],
 "metadata": {
  "kernelspec": {
   "display_name": "Python 3",
   "language": "python",
   "name": "python3"
  },
  "language_info": {
   "codemirror_mode": {
    "name": "ipython",
    "version": 3
   },
   "file_extension": ".py",
   "mimetype": "text/x-python",
   "name": "python",
   "nbconvert_exporter": "python",
   "pygments_lexer": "ipython3",
   "version": "3.12.3"
  }
 },
 "nbformat": 4,
 "nbformat_minor": 2
}
