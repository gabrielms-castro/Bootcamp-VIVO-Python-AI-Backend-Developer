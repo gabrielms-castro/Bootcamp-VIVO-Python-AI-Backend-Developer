{
 "cells": [
  {
   "cell_type": "markdown",
   "metadata": {},
   "source": [
    "# Funções\n",
    "\n",
    "Funções são blocos de código que apenas são executados quando chamados **expressamente**\n",
    "\n",
    "Você pode passar dados a serem utilizados na sua função para torná-la mais dinâmica. Esses dados são conhecidos como **argumentos** ou **parâmetros**\n",
    "\n",
    "Para definir uma função em Python, você utiliza a palavra ```def```.\n",
    "\n",
    "A sintaxe completa é \n",
    "```python\n",
    "def nome_da_funcao(argumento)\n",
    "```\n"
   ]
  },
  {
   "cell_type": "code",
   "execution_count": 1,
   "metadata": {},
   "outputs": [
    {
     "name": "stdout",
     "output_type": "stream",
     "text": [
      "25\n",
      "4\n",
      "100\n"
     ]
    }
   ],
   "source": [
    "# Imagine uma função que recebe um número e retorna o quadrado desse número.\n",
    "def quadrado(num):\n",
    "    return num**2\n",
    "\n",
    "print(quadrado(5))\n",
    "print(quadrado(2))\n",
    "print(quadrado(10))\n"
   ]
  },
  {
   "cell_type": "code",
   "execution_count": 6,
   "metadata": {},
   "outputs": [
    {
     "name": "stdout",
     "output_type": "stream",
     "text": [
      "10\n",
      "5\n",
      "2\n"
     ]
    }
   ],
   "source": [
    "# Imagine uma função que recebe um número e retorna a raiz quadrada desse número.\n",
    "def raiz_quadrada(num):\n",
    "    return int(num**0.5)\n",
    "\n",
    "print(raiz_quadrada(100))\n",
    "print(raiz_quadrada(25))\n",
    "print(raiz_quadrada(4))\n",
    "\n",
    "\n"
   ]
  },
  {
   "cell_type": "markdown",
   "metadata": {},
   "source": [
    "<hr>\n",
    "\n",
    "### Recursão\n",
    "\n",
    "Recursão, ou função recursiva, é quando uma função chama a si mesma. Com isso, você pode criar um loop até chegar num resultado\n",
    "\n",
    "Uma função recursiva mal escrita pode levar a um **loop infinito**, comendo uma vasta quantia de memória ou processamento.\n",
    "\n",
    "Suponha que você queira calcular a fatorial de um número. A fatorial de um número é a multiplicação desse número por todos seus antecessores, com exceção de 0. \n",
    "Em outras palavras, a fatorial de 5 (5!) é 5 x 4 x 3 x 2 x 1 = 120.\n",
    "\n",
    "Agora vamos usar recursão para isso:"
   ]
  },
  {
   "cell_type": "code",
   "execution_count": 9,
   "metadata": {},
   "outputs": [
    {
     "name": "stdout",
     "output_type": "stream",
     "text": [
      "120\n"
     ]
    }
   ],
   "source": [
    "def fatorial(num):\n",
    "    if num == 1: #Enquanto o número não for 1, a função continuará chamando a si mesma no else, até chegar em 1 e consequentemente parar sua execução.\n",
    "        return 1\n",
    "    else:\n",
    "        return num * fatorial(num - 1)\n",
    "\n",
    "print(fatorial(5))"
   ]
  }
 ],
 "metadata": {
  "kernelspec": {
   "display_name": "Python 3",
   "language": "python",
   "name": "python3"
  },
  "language_info": {
   "codemirror_mode": {
    "name": "ipython",
    "version": 3
   },
   "file_extension": ".py",
   "mimetype": "text/x-python",
   "name": "python",
   "nbconvert_exporter": "python",
   "pygments_lexer": "ipython3",
   "version": "3.12.3"
  }
 },
 "nbformat": 4,
 "nbformat_minor": 2
}
