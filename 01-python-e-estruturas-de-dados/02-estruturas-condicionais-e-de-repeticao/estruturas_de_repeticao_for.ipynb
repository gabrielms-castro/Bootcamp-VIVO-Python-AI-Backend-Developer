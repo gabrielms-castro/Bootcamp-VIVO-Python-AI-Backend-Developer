{
 "cells": [
  {
   "cell_type": "markdown",
   "metadata": {},
   "source": [
    "# Estruturas de Repetição\n",
    "\n",
    "Em Python, existem duas estruturas de repetição: ``for`` loops e ``while`` loops.\n",
    "\n",
    "## 1. For\n",
    "\n",
    "Usado para **percorrer** um objeto iterável.\n",
    "\n",
    "**Quando usar?** Quando sabemos a quantidade de vezes que o código deve ser executado ou para percorrer um objeto iterável.\n",
    "\n",
    "<font color='red'>**OBS:**</font> Objetos iteráveis pode ser **listas, tuplas, dicionários, sets e strings**.\n",
    "\n",
    "**Como funciona?** com o laço de repetição ``for``, podemos determinar uma série de coisas a serem executadas, que será feito para cada item do objeto iterável.\n",
    "\n",
    "<font color='green'>**Exemplo:**\n",
    "    <br>\n",
    "    Imagine uma lista contendo números de 1 a 5.\n",
    "    <br>\n",
    "    Com o laço ``for``, posso ordenar que cada item deste objeto iterável (lista) seja multiplicado por.\n",
    "    <br>Confira o resultado:\n",
    "</font>"
   ]
  },
  {
   "cell_type": "code",
   "execution_count": 1,
   "metadata": {},
   "outputs": [
    {
     "name": "stdout",
     "output_type": "stream",
     "text": [
      "1: 2\n",
      "2: 4\n",
      "3: 6\n",
      "4: 8\n",
      "5: 10\n"
     ]
    }
   ],
   "source": [
    "minha_lista = [1,2,3,4,5]\n",
    "for n in minha_lista: # 'n' é de livre nomeação, ele apenas indica cada item do nosso objeto e aqui chamarei de 'n'\n",
    "    print(f'{n}: {n * 2}') #o que realmente importa aqui é nosso n*2. "
   ]
  },
  {
   "cell_type": "code",
   "execution_count": 2,
   "metadata": {},
   "outputs": [
    {
     "name": "stdout",
     "output_type": "stream",
     "text": [
      "b\n",
      "a\n",
      "n\n",
      "a\n",
      "n\n",
      "a\n"
     ]
    }
   ],
   "source": [
    "for letra in \"banana\":\n",
    "    print(letra)"
   ]
  },
  {
   "cell_type": "markdown",
   "metadata": {},
   "source": [
    "### 1.1. Else com For\n",
    "\n",
    "Podemos utilizar o ``else`` se quisermos que algo seja executado ao finalizar o laço ``for``\n",
    "\n",
    "<font color='red'>**Obs:**\n",
    "    <br>\n",
    "    O ``else`` não é executado quando o laço for interrompido por uma declaração ``break``\n",
    "</font>"
   ]
  },
  {
   "cell_type": "code",
   "execution_count": 3,
   "metadata": {},
   "outputs": [
    {
     "name": "stdout",
     "output_type": "stream",
     "text": [
      "0 1 2 3 4 5 \n",
      "\n",
      "Fim do laço\n"
     ]
    }
   ],
   "source": [
    "for x in range(6):\n",
    "    print(x,end=\" \")\n",
    "else:\n",
    "    print(\"\\n\\nFim do laço\")"
   ]
  },
  {
   "cell_type": "markdown",
   "metadata": {},
   "source": [
    "### 1.2. Break\n",
    "\n",
    "Podemos utilizar o ``break`` para interromper o laço ``for`` quando determinada condição for atendida.\n",
    "\n",
    "Aqui o código identificará o item maçã e não executará a partir dela. Onde você coloca sua declaração break faz toda diferença."
   ]
  },
  {
   "cell_type": "code",
   "execution_count": 4,
   "metadata": {},
   "outputs": [
    {
     "name": "stdout",
     "output_type": "stream",
     "text": [
      "laranja\n",
      "banana\n"
     ]
    }
   ],
   "source": [
    "frutas = ['laranja','banana','maçã','acerola']\n",
    "\n",
    "for fruta in frutas:\n",
    "    if fruta =='maçã':\n",
    "        break\n",
    "    print(fruta)"
   ]
  },
  {
   "cell_type": "markdown",
   "metadata": {},
   "source": [
    "Aqui o código executará até a maçã, nada além."
   ]
  },
  {
   "cell_type": "code",
   "execution_count": 5,
   "metadata": {},
   "outputs": [
    {
     "name": "stdout",
     "output_type": "stream",
     "text": [
      "laranja\n",
      "banana\n",
      "maçã\n"
     ]
    }
   ],
   "source": [
    "frutas = ['laranja','banana','maçã','acerola']\n",
    "\n",
    "for fruta in frutas:\n",
    "    print(fruta)\n",
    "    if fruta =='maçã':\n",
    "        break\n",
    "    "
   ]
  },
  {
   "cell_type": "markdown",
   "metadata": {},
   "source": [
    "### 1.2. Continue\n",
    "\n",
    "Use ``continue`` para pular determinado item do seu objeto iterável. Ele pausa a iteração corrente e pula para o próximo"
   ]
  },
  {
   "cell_type": "code",
   "execution_count": 6,
   "metadata": {},
   "outputs": [
    {
     "name": "stdout",
     "output_type": "stream",
     "text": [
      "apartamento\n",
      "sobrado\n",
      "condominio\n",
      "flat\n",
      "kitnet\n",
      "duplex\n",
      "triplex\n",
      "rancho\n",
      "\n",
      "Obseve que o laço pulou a iteração com o item 'casa' da nossa lista 'imoveis'.\n"
     ]
    }
   ],
   "source": [
    "imoveis  = ['apartamento','casa','sobrado','condominio','flat','kitnet','duplex','triplex','rancho']\n",
    "\n",
    "for imovel in imoveis:\n",
    "    if imovel == 'casa':\n",
    "        continue\n",
    "    print(imovel)\n",
    "else:\n",
    "    print(\"\\nObseve que o laço pulou a iteração com o item 'casa' da nossa lista 'imoveis'.\")"
   ]
  },
  {
   "cell_type": "markdown",
   "metadata": {},
   "source": [
    "### 1.3. Função range()\n",
    "\n",
    "Podemos usar a função ``range()`` para criar uma sequência de números inteiros.\n",
    "\n",
    "A função ``range()`` retorna uma sequência de números, começando do 0 (padrão), incrementando de 1 em 1(padrão) e finalizando em um número específico.\n",
    "\n",
    "**argumentos:** \n",
    "1. ``stop``: obrigatório, sempre será n-1 (se seu stop for 10, o contador irá de 0 a 9)\n",
    "2. ``start``: opcional, será 0 por padrão, podendo ser qualquer número.\n",
    "3. ``step``: opcional, será 1 por padrão, determina de quanto em quanto será incrementada sua sequência"
   ]
  },
  {
   "cell_type": "code",
   "execution_count": 7,
   "metadata": {},
   "outputs": [
    {
     "name": "stdout",
     "output_type": "stream",
     "text": [
      "0 1 2 3 4 5 6 7 8 9 "
     ]
    }
   ],
   "source": [
    "for x in range(10): #por padrão, apenas 1 argumento determinará seu stop. aqui ele não irá até o 10, porque o índice em python começa no 0\n",
    "    print(x, end=\" \")"
   ]
  },
  {
   "cell_type": "code",
   "execution_count": 8,
   "metadata": {},
   "outputs": [
    {
     "name": "stdout",
     "output_type": "stream",
     "text": [
      "5 6 7 8 9 10 "
     ]
    }
   ],
   "source": [
    "for x in range(5, 11): #start iniciando no 5 e terminando no 10 (lembre-se, 11-1=10)\n",
    "    print(x, end=\" \")"
   ]
  },
  {
   "cell_type": "code",
   "execution_count": 9,
   "metadata": {},
   "outputs": [
    {
     "name": "stdout",
     "output_type": "stream",
     "text": [
      "5 10 15 20 25 30 35 40 45 50 55 60 65 70 75 80 85 90 95 100 "
     ]
    }
   ],
   "source": [
    "for x in range(5, 101, 5):#iniciar no 5, ir até o 100, pulando de 5 em 5\n",
    "    print(x, end=\" \")"
   ]
  }
 ],
 "metadata": {
  "kernelspec": {
   "display_name": "Python 3",
   "language": "python",
   "name": "python3"
  },
  "language_info": {
   "codemirror_mode": {
    "name": "ipython",
    "version": 3
   },
   "file_extension": ".py",
   "mimetype": "text/x-python",
   "name": "python",
   "nbconvert_exporter": "python",
   "pygments_lexer": "ipython3",
   "version": "3.12.3"
  }
 },
 "nbformat": 4,
 "nbformat_minor": 2
}
