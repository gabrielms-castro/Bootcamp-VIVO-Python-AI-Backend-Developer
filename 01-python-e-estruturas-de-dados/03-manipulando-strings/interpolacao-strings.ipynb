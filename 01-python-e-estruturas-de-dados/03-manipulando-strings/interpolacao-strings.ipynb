{
 "cells": [
  {
   "cell_type": "markdown",
   "metadata": {},
   "source": [
    "# Interpolação de Variáveis em Strings\n",
    "\n",
    "Interpolar variáveis em strings nada mais é do que incorporar valores de variáveis em strings, de forma **dinâmica**.<br>Com a interpolação, você consegue criar strings com partes fixas e variáveis que mudam com a execução do programa.\n",
    "\n",
    "**Algumas maneiras:**\n",
    "1. Operador %\n",
    "2. Método str.format()\n",
    "3. f-strings"
   ]
  },
  {
   "cell_type": "markdown",
   "metadata": {},
   "source": [
    "<hr>\n",
    "\n",
    "### 1. Operador %\n",
    "Utilize o símbolo '%' como forma de identificar a variável, juntamente com um especificador de formato:\n",
    "\n",
    "* **%d**: Este é o especificador de formato para **números inteiros**. Quando usado, espera-se que o valor fornecido seja um número inteiro.\n",
    "* **%s**: Este é o especificador de formato para **strings**. Ele pode ser usado para inserir qualquer valor que possa ser representado como uma string.\n",
    "* **%f**: Este é o especificador de formato para **números de ponto flutuante (números decimais)**. Quando usado, espera-se que o valor fornecido seja um número de ponto flutuante.\n",
    "* **%x, %X**: Esses são especificadores de formato para **números inteiros representados em hexadecimal** (base 16). %x representa os números em letras minúsculas, enquanto %X os representa em letras maiúsculas.\n",
    "\n",
    "<font color='red'>Não é atualmente recomendado por dificultar a manutenabilidade do código.</font>\n",
    "\n",
    "\n",
    "\n",
    "**Exemplo:**"
   ]
  },
  {
   "cell_type": "code",
   "execution_count": 9,
   "metadata": {},
   "outputs": [
    {
     "name": "stdout",
     "output_type": "stream",
     "text": [
      "Nome: Alice, Idade: 30, Altura: 1.75 metros\n"
     ]
    }
   ],
   "source": [
    "nome = \"Alice\"\n",
    "idade = 30\n",
    "altura = 1.75\n",
    "\n",
    "frase = \"Nome: %s, Idade: %d, Altura: %.2f metros\" % (nome, idade, altura)\n",
    "print(frase)"
   ]
  },
  {
   "cell_type": "markdown",
   "metadata": {},
   "source": [
    "<hr>\n",
    "\n",
    "### 2. Método str.format()\n",
    "\n",
    "Este método permite inserir valores de variáveis em strings usando marcadores de posição '{ }'\n",
    "\n",
    "Há várias formas de se utilizar o ``.format()``. Veja algumas abaixo:"
   ]
  },
  {
   "cell_type": "code",
   "execution_count": 12,
   "metadata": {},
   "outputs": [
    {
     "name": "stdout",
     "output_type": "stream",
     "text": [
      "Olá, eu sou Bob e tenho 25 anos.\n"
     ]
    }
   ],
   "source": [
    "#a forma mais simples\n",
    "nome = \"Bob\"\n",
    "idade = 25\n",
    "frase = \"Olá, eu sou {} e tenho {} anos.\".format(nome, idade)\n",
    "print(frase)"
   ]
  },
  {
   "cell_type": "code",
   "execution_count": 13,
   "metadata": {},
   "outputs": [
    {
     "name": "stdout",
     "output_type": "stream",
     "text": [
      "Olá, eu sou Bob e tenho 25 anos.\n"
     ]
    }
   ],
   "source": [
    "#outra forma é nomear as variáveis para cada marcador\n",
    "#você pode nomear como quiser, aqui chame de name e age apenas para identificar melhor\n",
    "nome = \"Bob\"\n",
    "idade = 25\n",
    "frase = \"Olá, eu sou {name} e tenho {age} anos.\".format(name=nome, age=idade)\n",
    "print(frase)"
   ]
  },
  {
   "cell_type": "code",
   "execution_count": 14,
   "metadata": {},
   "outputs": [
    {
     "name": "stdout",
     "output_type": "stream",
     "text": [
      "Olá, eu sou Bob, tenho 25 anos e 1.75 de altura\n"
     ]
    }
   ],
   "source": [
    "#é possível utilizar juntamente com um dicionário usando \"**nome_do_dicionário\"\n",
    "\n",
    "#isso é um dicionário\n",
    "pessoa = {\n",
    "    \"nome\": \"Bob\",\n",
    "    \"idade\": 25,\n",
    "    \"altura\": 1.75\n",
    "}\n",
    "\n",
    "#é importante que a nomeação do marcador seja igual a chave do dicionário\n",
    "frase = \"Olá, eu sou {nome}, tenho {idade} anos e {altura} de altura\".format(**pessoa)\n",
    "\n",
    "print(frase)\n"
   ]
  },
  {
   "cell_type": "markdown",
   "metadata": {},
   "source": [
    "<hr>\n",
    "\n",
    "### 3. F-Strings\n",
    "\n",
    "Particularmente o método que eu mais utilizo no dia-a-dia e, portanto, meu preferido.\n",
    "\n",
    "Simplesmente coloque a letra ``f`` antes das aspas da string e você conseguirá utilizar esse método de interpolação"
   ]
  },
  {
   "cell_type": "code",
   "execution_count": 15,
   "metadata": {},
   "outputs": [
    {
     "name": "stdout",
     "output_type": "stream",
     "text": [
      "Olá, eu sou Carol e tenho 35 anos.\n"
     ]
    }
   ],
   "source": [
    "nome = \"Carol\"\n",
    "idade = 35\n",
    "frase = f\"Olá, eu sou {nome} e tenho {idade} anos.\"\n",
    "print(frase)"
   ]
  }
 ],
 "metadata": {
  "kernelspec": {
   "display_name": "Python 3",
   "language": "python",
   "name": "python3"
  },
  "language_info": {
   "codemirror_mode": {
    "name": "ipython",
    "version": 3
   },
   "file_extension": ".py",
   "mimetype": "text/x-python",
   "name": "python",
   "nbconvert_exporter": "python",
   "pygments_lexer": "ipython3",
   "version": "3.12.3"
  }
 },
 "nbformat": 4,
 "nbformat_minor": 2
}
