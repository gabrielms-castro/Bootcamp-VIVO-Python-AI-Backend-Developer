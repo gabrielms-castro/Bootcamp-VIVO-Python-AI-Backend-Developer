{
 "cells": [
  {
   "cell_type": "markdown",
   "metadata": {},
   "source": [
    "## Manipulando datas com timedelta\n",
    "\n",
    "É possível manipular os objetos date, time e datetime de diversas maneiras, inclusive adicionar duas datas ou encontrar a diferença entre elas\n",
    "\n",
    "### Objeto timedelta\n",
    "Representa a diferença entre duas instâncias ``datetime`` ou ``time``."
   ]
  },
  {
   "cell_type": "code",
   "execution_count": 1,
   "metadata": {},
   "outputs": [
    {
     "name": "stdout",
     "output_type": "stream",
     "text": [
      "2023-05-18 15:30:00\n",
      "2023-05-25 15:30:00\n"
     ]
    }
   ],
   "source": [
    "import datetime\n",
    "\n",
    "dia = datetime.datetime(2023, 5, 18, 15, 30, 00)\n",
    "print(dia)\n",
    "\n",
    "dia = dia + datetime.timedelta(weeks=1)\n",
    "print(dia) #Perceba a diferença de uma semana (7 dias a mais) no output"
   ]
  },
  {
   "cell_type": "markdown",
   "metadata": {},
   "source": [
    "Imagine que você deseja criar um programa para uma Estética Automotiva que calcula a entrada do carro no estúdio e informa a hora em que o dono poderia ir buscar.\n",
    "\n",
    "* Veículo Utilitário:     30 minutos\n",
    "* Veículo Médio :         45 minutos\n",
    "* Veículo Grande:         60 minutos   "
   ]
  },
  {
   "cell_type": "code",
   "execution_count": 2,
   "metadata": {},
   "outputs": [
    {
     "name": "stdout",
     "output_type": "stream",
     "text": [
      "Chegada do Veículo:\t\t2024-06-12 22:41:02.867619\n",
      "Tipo de Veículo:\t\tM\n",
      "Hora Estimada para Terminar:\t2024-06-12 23:26:02.867619\n"
     ]
    }
   ],
   "source": [
    "from datetime import datetime, timedelta\n",
    "tipo_carro = input(\"Qual o tamanho do veículo?(P/M/G)\\t\")\n",
    "carro_pequeno = 30\n",
    "carro_medio = 45\n",
    "carro_grande = 60\n",
    "data_atual = datetime.now()\n",
    "\n",
    "if tipo_carro.upper() == 'P':\n",
    "    hora_estimada = data_atual + timedelta(minutes=carro_pequeno) # Use timedelta para fazer o calculo desejado #\n",
    "    print(f\"Chegada do Veículo:\\t\\t{data_atual}\\nTipo de Veículo:\\t\\t{tipo_carro.upper()}\\nHora Estimada para Terminar:\\t{hora_estimada}\")\n",
    "\n",
    "elif tipo_carro.upper() == 'M':   \n",
    "    hora_estimada = data_atual + timedelta(minutes=carro_medio)\n",
    "    print(f\"Chegada do Veículo:\\t\\t{data_atual}\\nTipo de Veículo:\\t\\t{tipo_carro.upper()}\\nHora Estimada para Terminar:\\t{hora_estimada}\")\n",
    "\n",
    "else:\n",
    "    hora_estimada = data_atual + timedelta(minutes=carro_grande)\n",
    "    print(f\"Chegada do Veículo:\\t\\t{data_atual}\\nTipo de Veículo:\\t\\t{tipo_carro.upper()}\\nHora Estimada para Terminar:\\t{hora_estimada}\")\n",
    "\n"
   ]
  },
  {
   "cell_type": "markdown",
   "metadata": {},
   "source": [
    "Se Você tenta subtrair um objeto ``datetime`` de outro ``datetime``, o objeto retornado será um ``timedelta``"
   ]
  },
  {
   "cell_type": "code",
   "execution_count": 1,
   "metadata": {},
   "outputs": [
    {
     "name": "stdout",
     "output_type": "stream",
     "text": [
      "<class 'datetime.timedelta'>\n"
     ]
    }
   ],
   "source": [
    "import datetime\n",
    "a = datetime.datetime(2024, 6, 12, 21,16, 30, 100)\n",
    "b = datetime.datetime(2024, 5, 10, 21,16, 30, 100)\n",
    "\n",
    "print(type(a-b))"
   ]
  }
 ],
 "metadata": {
  "kernelspec": {
   "display_name": "Python 3",
   "language": "python",
   "name": "python3"
  },
  "language_info": {
   "codemirror_mode": {
    "name": "ipython",
    "version": 3
   },
   "file_extension": ".py",
   "mimetype": "text/x-python",
   "name": "python",
   "nbconvert_exporter": "python",
   "pygments_lexer": "ipython3",
   "version": "3.12.4"
  }
 },
 "nbformat": 4,
 "nbformat_minor": 2
}
