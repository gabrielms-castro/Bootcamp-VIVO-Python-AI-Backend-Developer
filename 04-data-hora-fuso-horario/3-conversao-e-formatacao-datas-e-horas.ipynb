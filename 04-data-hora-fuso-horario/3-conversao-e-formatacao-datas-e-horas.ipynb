{
 "cells": [
  {
   "cell_type": "markdown",
   "metadata": {},
   "source": [
    "## Conversão e Formatação com strftime strptime\n",
    "No link abaixo, você encontrará uma tabela com vários códigos de formatação\n",
    "<br>**Documentação strftime/strptime**: [Clique aqui](https://docs.python.org/pt-br/3/library/datetime.html#strftime-and-strptime-behavior)\n",
    "\n",
    "#### **strftime**\n",
    "Converte um objeto ``time``, ``datetime`` e ``time`` para um string conforme o formato fornecido.\n",
    "\n",
    "#### **strptime**\n",
    "Interpreta uma string como um objeto ``datetime``, ou seja, **CRIA** um objeto datetime a partir de uma string. "
   ]
  },
  {
   "cell_type": "code",
   "execution_count": 12,
   "metadata": {},
   "outputs": [
    {
     "name": "stdout",
     "output_type": "stream",
     "text": [
      "2024-06-13 17:18:05.599749\n",
      "13/06/24\n",
      "Thursday - 13/13/2024\n"
     ]
    }
   ],
   "source": [
    "import datetime\n",
    "\n",
    "d = datetime.datetime.now()\n",
    "print(d) #Data e hora atual. Observe o padrão no output\n",
    "\n",
    "d_formatada = d.strftime(\"%d/%m/%y\") #Agora você pode formatar como quiser\n",
    "print(d_formatada)\n",
    "\n",
    "d_formatada2 = d.strftime('%A - %d/%d/%Y')\n",
    "print(d_formatada2)\n"
   ]
  },
  {
   "cell_type": "code",
   "execution_count": 18,
   "metadata": {},
   "outputs": [
    {
     "name": "stdout",
     "output_type": "stream",
     "text": [
      "2024-06-15 15:30:00\n",
      "15/06/24\n"
     ]
    }
   ],
   "source": [
    "string_data = \"15/06/2024 15:30\"\n",
    "data_da_string = datetime.datetime.strptime(string_data, '%d/%m/%Y %H:%M') #O primeiro parâmetro é a string a ser convertida em dataO\n",
    "print(data_da_string)                                                      #O segundo parâmetro é o padrão, que deve seguir exatamente a ordem da string\n",
    "\n",
    "\n",
    "# Agora que um datetime foi criado a partir de um strptime(), podemos formatar como quisermos:\n",
    "print(data_da_string.strftime('%d/%m/%y'))\n"
   ]
  },
  {
   "cell_type": "code",
   "execution_count": null,
   "metadata": {},
   "outputs": [],
   "source": []
  }
 ],
 "metadata": {
  "kernelspec": {
   "display_name": "Python 3",
   "language": "python",
   "name": "python3"
  },
  "language_info": {
   "codemirror_mode": {
    "name": "ipython",
    "version": 3
   },
   "file_extension": ".py",
   "mimetype": "text/x-python",
   "name": "python",
   "nbconvert_exporter": "python",
   "pygments_lexer": "ipython3",
   "version": "3.12.4"
  }
 },
 "nbformat": 4,
 "nbformat_minor": 2
}
