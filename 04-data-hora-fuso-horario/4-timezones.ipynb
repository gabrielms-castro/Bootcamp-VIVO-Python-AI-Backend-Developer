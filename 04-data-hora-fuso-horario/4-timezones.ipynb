{
 "cells": [
  {
   "cell_type": "markdown",
   "metadata": {},
   "source": [
    "# Trabalhando com Timezones\n",
    "\n",
    "### Utilizando Biblioteca pytz\n",
    "Para lidar com fusos horários, o Python tem uma biblioteca chamada ``pytz``\n",
    "\n",
    "Na [Wikipedia](https://en.wikipedia.org/wiki/List_of_tz_database_time_zones) você encontra uma lista com os timezones existentes para utilizar no módulo pytz"
   ]
  },
  {
   "cell_type": "code",
   "execution_count": 7,
   "metadata": {},
   "outputs": [
    {
     "name": "stdout",
     "output_type": "stream",
     "text": [
      "Horário em São Paulo:\t18:33:03\n",
      "Horário em Bogotá:\t16:33:03\n"
     ]
    }
   ],
   "source": [
    "import datetime\n",
    "import pytz\n",
    "\n",
    "data = datetime.datetime.now(pytz.timezone('America/Sao_Paulo'))\n",
    "data2 = datetime.datetime.now(pytz.timezone('America/Bogota'))\n",
    "\n",
    "print(f\"Horário em São Paulo:\\t{data.strftime('%H:%M:%S')}\")\n",
    "print(f\"Horário em Bogotá:\\t{data2.strftime('%H:%M:%S')}\")"
   ]
  },
  {
   "cell_type": "markdown",
   "metadata": {},
   "source": [
    "### Utilizando a biblioteca datetime\n",
    "\n",
    "Também é possível trabalhar com timezones pelo ``datetime`` utilizando a subclasse ``timezone`` junto com ``timedelta``"
   ]
  },
  {
   "cell_type": "code",
   "execution_count": 9,
   "metadata": {},
   "outputs": [
    {
     "name": "stdout",
     "output_type": "stream",
     "text": [
      "2024-06-13 18:46:48.398863-03:00\n",
      "2024-06-14 05:46:48.398863+08:00\n"
     ]
    }
   ],
   "source": [
    "from datetime import datetime, timezone, timedelta\n",
    "\n",
    "data_sao_paulo = datetime.now(timezone(timedelta(hours=-3)))\n",
    "print(data_sao_paulo)\n",
    "\n",
    "data_hong_kong = datetime.now(timezone(timedelta(hours=8)))\n",
    "print(data_hong_kong)"
   ]
  }
 ],
 "metadata": {
  "kernelspec": {
   "display_name": "Python 3",
   "language": "python",
   "name": "python3"
  },
  "language_info": {
   "codemirror_mode": {
    "name": "ipython",
    "version": 3
   },
   "file_extension": ".py",
   "mimetype": "text/x-python",
   "name": "python",
   "nbconvert_exporter": "python",
   "pygments_lexer": "ipython3",
   "version": "3.12.4"
  }
 },
 "nbformat": 4,
 "nbformat_minor": 2
}
