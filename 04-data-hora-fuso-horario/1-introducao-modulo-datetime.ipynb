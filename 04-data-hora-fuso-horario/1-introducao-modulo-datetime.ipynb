{
 "cells": [
  {
   "cell_type": "markdown",
   "metadata": {},
   "source": [
    "# Introdução ao Módulo Datetime\n",
    "\n",
    "O módulo [datetime](https://docs.python.org/pt-br/3/library/datetime.html#module-datetime) é utilizado para lidar com datas e horas.\n",
    "\n",
    "Algumas classes úteis do módulo:\n",
    "* date\n",
    "* time\n",
    "* timedelta\n"
   ]
  },
  {
   "cell_type": "markdown",
   "metadata": {},
   "source": [
    "### Objetos date\n",
    "\n",
    "Usado para representar ano, mês e dia\n",
    "\n",
    "**Sintaxe**:\n",
    "```python\n",
    "class datetime.date(year, month, day)\n",
    "```\n",
    "\n"
   ]
  },
  {
   "cell_type": "code",
   "execution_count": 1,
   "metadata": {},
   "outputs": [],
   "source": [
    "import datetime"
   ]
  },
  {
   "cell_type": "code",
   "execution_count": 5,
   "metadata": {},
   "outputs": [
    {
     "name": "stdout",
     "output_type": "stream",
     "text": [
      "2020-04-20\n",
      "<class 'datetime.date'>\n"
     ]
    }
   ],
   "source": [
    "d = datetime.date(2020, 4, 20) #criando uma data utilizando a classe datetime.date\n",
    "print(d)\n",
    "print(type(d)) #verificando o data type do que foi criado"
   ]
  },
  {
   "cell_type": "markdown",
   "metadata": {},
   "source": [
    "#### date.today()\n",
    "O método ``today()`` retorna a data local atual."
   ]
  },
  {
   "cell_type": "code",
   "execution_count": 8,
   "metadata": {},
   "outputs": [
    {
     "name": "stdout",
     "output_type": "stream",
     "text": [
      "2024-06-12\n"
     ]
    }
   ],
   "source": [
    "from datetime import date\n",
    "\n",
    "print(date.today()) #Data em que escrevo este resumo"
   ]
  },
  {
   "cell_type": "markdown",
   "metadata": {},
   "source": [
    "<hr>\n",
    "\n",
    "### Objetos datetime\n",
    "Trata-se de um único objeto contendo as informações de um objeto ``date`` e um objeto ``time`` ao mesmo tempo.\n",
    "<br>Com isso, você pode obter a data, bem como hora, minuto, segundo, microssegundo, fuso-horário(opcional)\n",
    "\n",
    "**Sintaxe do construtor:**:\n",
    "```python\n",
    "class datetime.datetime(year, month, day, hour=0, minute=0, second=0, microsecond=0, tzinfo=None, *, fold=0)\n",
    "```\n",
    "\n"
   ]
  },
  {
   "cell_type": "code",
   "execution_count": 12,
   "metadata": {},
   "outputs": [
    {
     "name": "stdout",
     "output_type": "stream",
     "text": [
      "2024-06-12 21:16:00\n"
     ]
    }
   ],
   "source": [
    "#Se utilizar o método today() com um objeto datetime, obterá tanto a data atual quando a hora atual\n",
    "from datetime import datetime\n",
    "\n",
    "print(datetime(2024, 6, 12, 21,16))"
   ]
  },
  {
   "cell_type": "markdown",
   "metadata": {},
   "source": [
    "<hr>\n",
    "\n",
    "### Objetos time\n",
    "Representa um horário, podendo levar como atributo hora, minuto, segundo, microssegundo, fuso-horário\n",
    "\n",
    "**Sintaxe do construtor:**:\n",
    "```python\n",
    "class datetime.time(hour=0, minute=0, second=0, microsecond=0, tzinfo=None, *, fold=0)\n",
    "```\n"
   ]
  },
  {
   "cell_type": "code",
   "execution_count": 13,
   "metadata": {},
   "outputs": [
    {
     "name": "stdout",
     "output_type": "stream",
     "text": [
      "21:20:30\n"
     ]
    }
   ],
   "source": [
    "from datetime import time\n",
    "\n",
    "print(time(21,20,30))"
   ]
  }
 ],
 "metadata": {
  "kernelspec": {
   "display_name": "Python 3",
   "language": "python",
   "name": "python3"
  },
  "language_info": {
   "codemirror_mode": {
    "name": "ipython",
    "version": 3
   },
   "file_extension": ".py",
   "mimetype": "text/x-python",
   "name": "python",
   "nbconvert_exporter": "python",
   "pygments_lexer": "ipython3",
   "version": "3.12.4"
  }
 },
 "nbformat": 4,
 "nbformat_minor": 2
}
