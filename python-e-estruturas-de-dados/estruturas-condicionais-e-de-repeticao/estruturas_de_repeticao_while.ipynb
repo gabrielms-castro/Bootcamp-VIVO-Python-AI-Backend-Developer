{
 "cells": [
  {
   "cell_type": "markdown",
   "metadata": {},
   "source": [
    "# Estruturas de Repetição\n",
    "\n",
    "\n",
    "## 2. While\n",
    "\n",
    "Repete um bloco de código enquanto a condição lógica fornecida for ``True``\n",
    "\n",
    "**Quando usar?** Quando não sabemos a quantidade de vezes que o código deve ser executado.\n",
    "\n",
    "Como no laço ``for``, no ``while`` também é possível utilizar ``break``, ``continue`` e ``else``\n",
    "\n",
    "<font color='red'>**Atenção!**</font><br>\n",
    "Laços de repetição ``while`` podem criar loops infinitos, tome cuidado ao estabelecer a condição lógica.<br>\n",
    "Se necessário, pressione ``ctrl + c`` no terminal para interromper a execução do código e acionar o ``KeyboardInterrupt``<br>\n",
    "Utilizar ``break`` também é uma boa prática para evitar um loop infinito indesejado."
   ]
  },
  {
   "cell_type": "code",
   "execution_count": 7,
   "metadata": {},
   "outputs": [
    {
     "name": "stdout",
     "output_type": "stream",
     "text": [
      "Extrato!\n",
      "Obrigado por utilizar nossos serviços! Até logo!\n"
     ]
    }
   ],
   "source": [
    "opcao = -1\n",
    "\n",
    "while opcao != 0:\n",
    "    opcao = int(input(\"Escolha a operação desejada:\\n[1]Sacar \\n[2]Extrato \\n [3]Sair\"))\n",
    "\n",
    "    if opcao == 1:\n",
    "        print(\"Sacando!\")\n",
    "        opcao = 0\n",
    "\n",
    "    elif opcao == 2:\n",
    "        print(\"Extrato!\")\n",
    "        opcao = 0\n",
    "\n",
    "    elif opcao == 3:\n",
    "        print(\"Saindo!\")\n",
    "        break\n",
    "\n",
    "    else:\n",
    "        print(\"Opção inválida! Selecione uma opção existente.\")\n",
    "else:\n",
    "    print(\"Obrigado por utilizar nossos serviços! Até logo!\")"
   ]
  }
 ],
 "metadata": {
  "kernelspec": {
   "display_name": "Python 3",
   "language": "python",
   "name": "python3"
  },
  "language_info": {
   "codemirror_mode": {
    "name": "ipython",
    "version": 3
   },
   "file_extension": ".py",
   "mimetype": "text/x-python",
   "name": "python",
   "nbconvert_exporter": "python",
   "pygments_lexer": "ipython3",
   "version": "3.12.3"
  }
 },
 "nbformat": 4,
 "nbformat_minor": 2
}
