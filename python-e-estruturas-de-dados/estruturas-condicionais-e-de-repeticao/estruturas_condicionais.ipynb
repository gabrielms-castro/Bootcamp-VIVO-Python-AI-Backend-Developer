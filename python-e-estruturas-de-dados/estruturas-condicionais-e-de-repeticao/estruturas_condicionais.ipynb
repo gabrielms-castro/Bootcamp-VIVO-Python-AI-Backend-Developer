{
 "cells": [
  {
   "cell_type": "markdown",
   "metadata": {},
   "source": [
    "## Estruturas Condicionais\n",
    "\n",
    "### O que são?\n",
    "Estruturas que permitem desvio de fluxo quando determinada expressão lógica é atendida.\n",
    "\n",
    "Sempre que queremos que algo seja executado especificamente após atendida uma condição lógica, nós usamos o a declaração ``if``(que literalmente significa \"se\" ao traduzir)\n",
    "\n",
    "\n",
    "### 1. if\n",
    "Cria uma estrutura condicional simples de um único desvio. Se a proposição lógica retornar **True**, o bloco do if será executado"
   ]
  },
  {
   "cell_type": "code",
   "execution_count": 1,
   "metadata": {},
   "outputs": [
    {
     "name": "stdout",
     "output_type": "stream",
     "text": [
      "Saque realizado\n",
      "Novo saldo: R$ 1850\n"
     ]
    }
   ],
   "source": [
    "saldo = 2000\n",
    "saque = 150\n",
    "\n",
    "if saldo >= saque:\n",
    "    saldo -= saque\n",
    "    print(\"Saque realizado\")\n",
    "    print(\"Novo saldo: R$\", saldo)\n"
   ]
  },
  {
   "cell_type": "markdown",
   "metadata": {},
   "source": [
    "Perceba que o **if** apenas executa o código quando a condição retornar True. O código abaixo retorna False e por isso nada é executado."
   ]
  },
  {
   "cell_type": "code",
   "execution_count": 2,
   "metadata": {},
   "outputs": [],
   "source": [
    "saldo = 2000\n",
    "saque = 2100\n",
    "\n",
    "if saldo >= saque:\n",
    "    saldo -= saque\n",
    "    print(\"Saque realizado\")\n",
    "    print(\"Novo saldo: R$\", saldo)\n"
   ]
  },
  {
   "cell_type": "markdown",
   "metadata": {},
   "source": [
    "Se quisermos que o código execute algo quando a expressão a ser testada no if resultar em False, precisamos acrescentar outro bloco a nossa estrutura condicional: o **else**\n",
    "\n",
    "### 2. if-else\n",
    "Permite a criação de uma estrutura condicional de dois devios.\n",
    "Se a expressão lógica retornar **True**, o bloco do if será executado. Caso contrário, o bloco do else será executado.\n"
   ]
  },
  {
   "cell_type": "code",
   "execution_count": 3,
   "metadata": {},
   "outputs": [
    {
     "name": "stdout",
     "output_type": "stream",
     "text": [
      "Saldo insuficiente. Não foi possível realizar a operação.\n"
     ]
    }
   ],
   "source": [
    "saldo = 2000\n",
    "saque = 2100\n",
    "\n",
    "if saldo >= saque:#verifica se tem saldo suficiente\n",
    "    saldo -= saque #atualiza o saldo do cliente\n",
    "    print(\"Saque realizado\")\n",
    "    print(\"Novo saldo: R$\", saldo)\n",
    "else: #caso o cliente não tenha saldo suficiente, o bloco else é acionado\n",
    "    print(\"Saldo insuficiente. Não foi possível realizar a operação.\")"
   ]
  },
  {
   "cell_type": "markdown",
   "metadata": {},
   "source": [
    "### 3. if-elif-else\n",
    "Em algumas situações, é necessário testar mais condições lógicas caso o if retorne False. Pode ser o caso de vários cenários e assim, é preciso mais de dois devios(if-else).\n",
    "\n",
    "O **if-elif-else** atende esse objetivo.\n",
    "\n",
    "Ao contrário do else, que não testa uma proposição lógica e já executa direto quando o if retornar False, o elif te permite testar uma outra expressão lógica.\n",
    "\n",
    "**obs**: Você pode inserir quantos elifs você quiser, mas não é uma boa prática criar uma estrutura muito grande."
   ]
  },
  {
   "cell_type": "code",
   "execution_count": 4,
   "metadata": {},
   "outputs": [
    {
     "name": "stdout",
     "output_type": "stream",
     "text": [
      "seu saldo é de: R$ 2000\n"
     ]
    }
   ],
   "source": [
    "opcao = 2 #1 para saque, 2 para exrato\n",
    "if opcao == 1:\n",
    "    print(\"Saque realizado\")\n",
    "elif opcao == 2:\n",
    "    print(\"seu saldo é de: R$\",saldo)\n",
    "else:\n",
    "    print(\"Opção inválida\")"
   ]
  },
  {
   "cell_type": "markdown",
   "metadata": {},
   "source": [
    "### 4. if aninhado (Nested If)\n",
    "É possível colocar declarações **``if``** dentro de outros **``if``**"
   ]
  },
  {
   "cell_type": "code",
   "execution_count": 5,
   "metadata": {},
   "outputs": [
    {
     "name": "stdout",
     "output_type": "stream",
     "text": [
      "Saque realizado com sucesso! \n",
      "Atenção! Você utilizou seu cheque especial.\n"
     ]
    }
   ],
   "source": [
    "conta_normal = True\n",
    "conta_universitaria = False\n",
    "\n",
    "saldo = 2000\n",
    "cheque_especial = 400\n",
    "saque = 2100\n",
    "\n",
    "if conta_normal:\n",
    "    if saque <= saldo:\n",
    "        print(\"Saque realizado com sucesso!\")\n",
    "    elif saque <= (saldo + cheque_especial):\n",
    "        print(\"Saque realizado com sucesso! \\nAtenção! Você utilizou seu cheque especial.\")\n",
    "    else:\n",
    "        print(\"Saldo insuficiente. Não foi possível realizar a operação.\")\n"
   ]
  },
  {
   "cell_type": "markdown",
   "metadata": {},
   "source": [
    "**Obs:** fique a vontade para fazer download dos arquivos e alterar as variáveis para testar a estrutura condicional.\n",
    "\n",
    "### 5. if ternário (Short Hand If)\n",
    "É possível criar um ````if```` (e até mesmo um if-else) em apenas uma linha.\n",
    "\n",
    "Para apenas 1 if, utilize a seguinte ordem:\n",
    "\n",
    "    if -> proposição lógica -> o que deve ser feito"
   ]
  },
  {
   "cell_type": "code",
   "execution_count": 6,
   "metadata": {},
   "outputs": [
    {
     "name": "stdout",
     "output_type": "stream",
     "text": [
      "'a' é maior do que 'b'\n"
     ]
    }
   ],
   "source": [
    "a = 5\n",
    "b = 2\n",
    "\n",
    "if a > b: print(\"'a' é maior do que 'b'\")"
   ]
  },
  {
   "cell_type": "markdown",
   "metadata": {},
   "source": [
    "\n",
    "Se sua declaração for um ``if-else``, a ordem muda um pouco:\n",
    "\n",
    "    o que deve ser feito se o if for verdadeiro -> if -> proposição lógica -> else -> o que deve ser feito se retornar else\n",
    "\n",
    "**perceba** que é basicamente um \"faça X **se** isso for atendido, **senão** faça Y\""
   ]
  },
  {
   "cell_type": "code",
   "execution_count": 7,
   "metadata": {},
   "outputs": [
    {
     "name": "stdout",
     "output_type": "stream",
     "text": [
      "b é maior que a\n"
     ]
    }
   ],
   "source": [
    "a = 5\n",
    "b = 7\n",
    "\n",
    "print(\"a é maior que b\") if a > b else print(\"b é maior que a\")"
   ]
  },
  {
   "cell_type": "code",
   "execution_count": 8,
   "metadata": {},
   "outputs": [
    {
     "data": {
      "text/plain": [
       "'Saque efetuado'"
      ]
     },
     "execution_count": 8,
     "metadata": {},
     "output_type": "execute_result"
    }
   ],
   "source": [
    "saldo = 500\n",
    "saque = 100\n",
    "\n",
    "\"Saque efetuado\" if saldo >= saque else \"Saldo insuficiente\""
   ]
  },
  {
   "cell_type": "code",
   "execution_count": 9,
   "metadata": {},
   "outputs": [
    {
     "data": {
      "text/plain": [
       "'Saldo insuficiente'"
      ]
     },
     "execution_count": 9,
     "metadata": {},
     "output_type": "execute_result"
    }
   ],
   "source": [
    "saldo = 500\n",
    "saque = 501\n",
    "\n",
    "\"Saque efetuado\" if saldo >= saque else \"Saldo insuficiente\""
   ]
  },
  {
   "cell_type": "markdown",
   "metadata": {},
   "source": [
    "### Declaração Pass (pass statement)\n",
    "\n",
    "É possível declarar uma declaração pass, que não faz nada.\n",
    "\n",
    "Geralmente é utlizada como um **espaço reservado para código futuro** ou seja, você ainda não terminou seu código, então utiliza ``pass`` para que ele não retorne nenhum erro.\n",
    "\n",
    "Digamos que você esteja criando uma estrutura condicional ou uma função mas ainda não sabe exatamente o código que ela executará quando for chamada. Utilize a palavra reservada ``pass`` para que não retorne um ``SyntaxError``\n",
    "\n",
    "Veja abaixo:"
   ]
  },
  {
   "cell_type": "code",
   "execution_count": 13,
   "metadata": {},
   "outputs": [],
   "source": [
    "if saldo < saque:\n",
    "    pass\n",
    "\n",
    "#o interpretador executa perfeitamente"
   ]
  },
  {
   "cell_type": "code",
   "execution_count": 14,
   "metadata": {},
   "outputs": [
    {
     "ename": "SyntaxError",
     "evalue": "incomplete input (2693092316.py, line 3)",
     "output_type": "error",
     "traceback": [
      "\u001b[1;36m  Cell \u001b[1;32mIn[14], line 3\u001b[1;36m\u001b[0m\n\u001b[1;33m    #observe o SyntaxError abaixo\u001b[0m\n\u001b[1;37m                                 ^\u001b[0m\n\u001b[1;31mSyntaxError\u001b[0m\u001b[1;31m:\u001b[0m incomplete input\n"
     ]
    }
   ],
   "source": [
    "if saldo < saque:\n",
    "\n",
    "#observe o SyntaxError abaixo"
   ]
  },
  {
   "cell_type": "code",
   "execution_count": 12,
   "metadata": {},
   "outputs": [
    {
     "ename": "SyntaxError",
     "evalue": "incomplete input (2332726413.py, line 1)",
     "output_type": "error",
     "traceback": [
      "\u001b[1;36m  Cell \u001b[1;32mIn[12], line 1\u001b[1;36m\u001b[0m\n\u001b[1;33m    def minha_funcao():\u001b[0m\n\u001b[1;37m                       ^\u001b[0m\n\u001b[1;31mSyntaxError\u001b[0m\u001b[1;31m:\u001b[0m incomplete input\n"
     ]
    }
   ],
   "source": [
    "def minha_funcao():"
   ]
  }
 ],
 "metadata": {
  "kernelspec": {
   "display_name": "Python 3",
   "language": "python",
   "name": "python3"
  },
  "language_info": {
   "codemirror_mode": {
    "name": "ipython",
    "version": 3
   },
   "file_extension": ".py",
   "mimetype": "text/x-python",
   "name": "python",
   "nbconvert_exporter": "python",
   "pygments_lexer": "ipython3",
   "version": "3.12.3"
  }
 },
 "nbformat": 4,
 "nbformat_minor": 2
}
