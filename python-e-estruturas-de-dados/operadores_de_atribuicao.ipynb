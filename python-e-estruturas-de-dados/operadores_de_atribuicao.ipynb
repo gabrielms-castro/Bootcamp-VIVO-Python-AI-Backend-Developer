{
 "cells": [
  {
   "cell_type": "markdown",
   "metadata": {},
   "source": [
    "## Operadores de Atribuição\n",
    "\n",
    "### O que é?\n",
    "Operadores de atribuição são usados para atribuir valores a variáveis ou modificar valores de variáveis já existentes.\n",
    "\n",
    "### Quais são os operadores de atribuição?\n",
    "1. **=** (atribuição)\n",
    "2. **+=** (atribuição)\n",
    "\n",
    "### Quais são os tipos de operadores de atribuição?\n",
    "1. Atribuição **=** \n",
    "2. Atribuição com adição **+=** \n",
    "3. Atribuição com subtração **+=**\n",
    "4. Atribuição com divisão **/=**\n",
    "6. Atribuição com multiplicação ***=**\n",
    "6. Atribuição com resto da divisão **%=**\n",
    "7. Atribuição com potenciação ****=**\n",
    "\n",
    "**Você pode mesclar operadores aritméticos com operadores de atribuição para modificar uma varíavel e executar uma operação aritmética. [Veja mais](https://www.w3schools.com/python/python_operators.asp)**\n",
    "\n",
    "**Obs**: Quando você usa um desses operadores, você está gravando o novo valor na variável, não apenas executando uma operação Veja abaixo:"
   ]
  },
  {
   "cell_type": "code",
   "execution_count": 17,
   "metadata": {},
   "outputs": [
    {
     "name": "stdout",
     "output_type": "stream",
     "text": [
      "500\n"
     ]
    }
   ],
   "source": [
    "#uma variável contento 500 como seu valor e logo abaixo uma operação.\n",
    "#observe que ela se mantém 500 ao chamar a função print()\n",
    "saldo = 500\n",
    "\n",
    "saldo * 2\n",
    "\n",
    "print(saldo)"
   ]
  },
  {
   "cell_type": "code",
   "execution_count": 18,
   "metadata": {},
   "outputs": [
    {
     "name": "stdout",
     "output_type": "stream",
     "text": [
      "1000\n"
     ]
    }
   ],
   "source": [
    "#Agora não apenas executarei uma operação aritmética, como também gravarei o novo valor dentro dentro dessa variável\n",
    "saldo = 500\n",
    "\n",
    "saldo *= 2\n",
    "\n",
    "print(saldo)"
   ]
  },
  {
   "cell_type": "markdown",
   "metadata": {},
   "source": [
    "### Algumas operações como exemplo:"
   ]
  },
  {
   "cell_type": "code",
   "execution_count": 19,
   "metadata": {},
   "outputs": [
    {
     "name": "stdout",
     "output_type": "stream",
     "text": [
      "700\n"
     ]
    }
   ],
   "source": [
    "saldo = 500\n",
    "saldo += 200 #é o mesmo que dizer saldo(500) + 200 = 700\n",
    "print(saldo)"
   ]
  },
  {
   "cell_type": "code",
   "execution_count": 20,
   "metadata": {},
   "outputs": [
    {
     "name": "stdout",
     "output_type": "stream",
     "text": [
      "300\n"
     ]
    }
   ],
   "source": [
    "saldo = 500\n",
    "saldo -= 200 #é o mesmo que dizer saldo(500) - 200 = 300\n",
    "print(saldo)"
   ]
  },
  {
   "cell_type": "code",
   "execution_count": 21,
   "metadata": {},
   "outputs": [
    {
     "name": "stdout",
     "output_type": "stream",
     "text": [
      "1000\n"
     ]
    }
   ],
   "source": [
    "saldo = 500\n",
    "saldo *= 2 #é o mesmo que dizer saldo(500)*- 2 = 1000\n",
    "print(saldo)"
   ]
  },
  {
   "cell_type": "code",
   "execution_count": 22,
   "metadata": {},
   "outputs": [
    {
     "name": "stdout",
     "output_type": "stream",
     "text": [
      "250000\n"
     ]
    }
   ],
   "source": [
    "saldo = 500\n",
    "saldo **= 2 #é o mesmo que dizer saldo(500) ** 2 = 250000\n",
    "print(saldo)"
   ]
  }
 ],
 "metadata": {
  "kernelspec": {
   "display_name": "Python 3",
   "language": "python",
   "name": "python3"
  },
  "language_info": {
   "codemirror_mode": {
    "name": "ipython",
    "version": 3
   },
   "file_extension": ".py",
   "mimetype": "text/x-python",
   "name": "python",
   "nbconvert_exporter": "python",
   "pygments_lexer": "ipython3",
   "version": "3.11.5"
  }
 },
 "nbformat": 4,
 "nbformat_minor": 2
}
