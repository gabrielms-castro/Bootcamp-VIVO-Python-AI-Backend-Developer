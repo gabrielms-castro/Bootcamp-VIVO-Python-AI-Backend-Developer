{
 "cells": [
  {
   "cell_type": "markdown",
   "metadata": {},
   "source": [
    "## Operadores de Comparação\n",
    "\n",
    "Operadores que comparam dois valores (maior, igual, menor, diferente)\n",
    "\n",
    "* Igualdade ( == )\n",
    "\n",
    "* Diferença (!= )\n",
    "\n",
    "* Maior que ( > )\n",
    "\n",
    "* Menor que ( < )\n",
    "\n",
    "* Maior ou igual que ( >= )\n",
    "\n",
    "* Menor ou igual que ( <= )\n"
   ]
  },
  {
   "cell_type": "markdown",
   "metadata": {},
   "source": [
    "Vamos definir duas variáveis, saldo e saque, para facilitar a compreensão.\n",
    "\n",
    "Observe que ao usar apenas um símbolo de igual '**=**', o python entende que se está determinando uma variável, não comparando-a.\n",
    "\n",
    "Para comparar se um valor é igual a outro, utilizamos '**==**'"
   ]
  },
  {
   "cell_type": "code",
   "execution_count": 4,
   "metadata": {},
   "outputs": [
    {
     "data": {
      "text/plain": [
       "False"
      ]
     },
     "execution_count": 4,
     "metadata": {},
     "output_type": "execute_result"
    }
   ],
   "source": [
    "#determinando variáveis\n",
    "saldo = 450\n",
    "saque = 200\n",
    "\n",
    "#comparando se uma variável é igual a outra\n",
    "saldo == saque"
   ]
  },
  {
   "cell_type": "markdown",
   "metadata": {},
   "source": [
    "Quando usamos operadores de comparação, é retornado um valor booleano **True** (verdadeiro) ou **False** (falso)"
   ]
  },
  {
   "cell_type": "code",
   "execution_count": 3,
   "metadata": {},
   "outputs": [
    {
     "name": "stdout",
     "output_type": "stream",
     "text": [
      "saldo == saque:  False\n",
      "saldo!= saque:  True\n",
      "saldo > saque:  True\n",
      "saldo < saque:  False\n",
      "saldo >= saque:  True\n",
      "saldo <= saque:  False\n"
     ]
    }
   ],
   "source": [
    "print(\"saldo == saque: \", saldo == saque)\n",
    "\n",
    "print(\"saldo!= saque: \", saldo!= saque)\n",
    "\n",
    "print(\"saldo > saque: \", saldo > saque)\n",
    "\n",
    "print(\"saldo < saque: \", saldo < saque)\n",
    "\n",
    "print(\"saldo >= saque: \", saldo >= saque)\n",
    "\n",
    "print(\"saldo <= saque: \", saldo <= saque)\n"
   ]
  },
  {
   "cell_type": "markdown",
   "metadata": {},
   "source": [
    "Usamos operadores de comparação muitas vezes dentro de uma declaração **If/Else** ou um laço **For** ou **While**\n",
    "\n",
    "Observe o If/Else abaixo apenas para exemplificar como usamos operadores no dia-a-dia.\n"
   ]
  },
  {
   "cell_type": "code",
   "execution_count": 5,
   "metadata": {},
   "outputs": [
    {
     "name": "stdout",
     "output_type": "stream",
     "text": [
      "Operação conclúida\n"
     ]
    }
   ],
   "source": [
    "if saque < saldo:\n",
    "    print(\"Operação conclúida\")\n",
    "else:\n",
    "    print(\"Saldo insuficiente!\")"
   ]
  },
  {
   "cell_type": "markdown",
   "metadata": {},
   "source": [
    "Caso a comparação retorne **True**, será executada a função print(\"Operação concluída\")\n",
    "\n",
    "Se retornasse **False**, o script executaria tudo que estivesse dentro do bloco else."
   ]
  },
  {
   "cell_type": "code",
   "execution_count": 6,
   "metadata": {},
   "outputs": [
    {
     "name": "stdout",
     "output_type": "stream",
     "text": [
      "Saldo insuficiente!\n"
     ]
    }
   ],
   "source": [
    "saque = 900\n",
    "saldo = 200\n",
    "\n",
    "if saque < saldo:\n",
    "    print(\"Operação conclúida\")\n",
    "else:\n",
    "    print(\"Saldo insuficiente!\")"
   ]
  },
  {
   "cell_type": "markdown",
   "metadata": {},
   "source": []
  }
 ],
 "metadata": {
  "kernelspec": {
   "display_name": "Python 3",
   "language": "python",
   "name": "python3"
  },
  "language_info": {
   "codemirror_mode": {
    "name": "ipython",
    "version": 3
   },
   "file_extension": ".py",
   "mimetype": "text/x-python",
   "name": "python",
   "nbconvert_exporter": "python",
   "pygments_lexer": "ipython3",
   "version": "3.11.5"
  }
 },
 "nbformat": 4,
 "nbformat_minor": 2
}
