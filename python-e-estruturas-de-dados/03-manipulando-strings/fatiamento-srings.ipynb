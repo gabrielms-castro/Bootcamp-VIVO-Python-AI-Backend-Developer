{
 "cells": [
  {
   "cell_type": "markdown",
   "metadata": {},
   "source": [
    "# Fatiamento de Strings\n",
    "\n",
    "Técnica utilizada para retornar substrings, informando início, fim e passo\n",
    "\n",
    "``str[start:stop[step]]``\n",
    "\n",
    "O fatiamente utiliza uma forma de indexação, lembre-se que o primeiro lugar na indexação de python é sempre 0."
   ]
  },
  {
   "cell_type": "code",
   "execution_count": 6,
   "metadata": {},
   "outputs": [
    {
     "name": "stdout",
     "output_type": "stream",
     "text": [
      "Hello\n",
      "Hello\n",
      "world!\n"
     ]
    }
   ],
   "source": [
    "string = \"Hello, world!\"\n",
    "print(string[0:5]) #aqui quero que imprima apenas os 5 primeiros caracteres na tela\n",
    "\n",
    "print(string[:5]) #nesse caso, é possível omitir o 0 e indicar apenas a quantidade de caracteres\n",
    "\n",
    "print(string[7:]) #caso seja de determinado caracter até o final, escolha o índice do caracter e deixe em branco após ':'"
   ]
  },
  {
   "cell_type": "code",
   "execution_count": 14,
   "metadata": {},
   "outputs": [
    {
     "name": "stdout",
     "output_type": "stream",
     "text": [
      "world!\n",
      "Hello,\n"
     ]
    }
   ],
   "source": [
    "#Se quiser imprimir a partir dos últimos caracteres, apenas utilize o oposto do índice (negativo)\n",
    "\n",
    "print(string[-6:])\n",
    "\n",
    "print(string[:-7])"
   ]
  },
  {
   "cell_type": "markdown",
   "metadata": {},
   "source": [
    "Fatiamento por indexação é amplamanete utilizado em python para trabalhar com a maioria dos objetos, inclusive na biblioteca Pandas para manipulação de dados. Fixe bem este conceito"
   ]
  },
  {
   "cell_type": "code",
   "execution_count": null,
   "metadata": {},
   "outputs": [],
   "source": []
  }
 ],
 "metadata": {
  "kernelspec": {
   "display_name": "Python 3",
   "language": "python",
   "name": "python3"
  },
  "language_info": {
   "codemirror_mode": {
    "name": "ipython",
    "version": 3
   },
   "file_extension": ".py",
   "mimetype": "text/x-python",
   "name": "python",
   "nbconvert_exporter": "python",
   "pygments_lexer": "ipython3",
   "version": "3.12.3"
  }
 },
 "nbformat": 4,
 "nbformat_minor": 2
}
