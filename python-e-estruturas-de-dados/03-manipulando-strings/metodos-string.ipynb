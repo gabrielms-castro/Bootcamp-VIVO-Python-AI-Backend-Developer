{
 "cells": [
  {
   "cell_type": "markdown",
   "metadata": {},
   "source": [
    "# Métodos da Classe String\n",
    "\n",
    "## Objetivo:\n",
    "* Conhecer métodos para manipular strings\n",
    "* Interpolar valores de variáveis\n",
    "* Entender Fatiamento\n",
    "* Strings de múltiplas linhas\n",
    "\n",
    "### 1. Métodos:\n",
    "\n",
    "**O que são métodos?**<br>Métodos são funções que pertecem a um objeto e servem para realizar operações específicas para este objeto.<br>Essas operações podem acessar e modificar os atributos desse objeto\n",
    "<br>Há dois tipos de métodos: \n",
    "1. **Método de instância**; e\n",
    "2. **Método de classe**\n",
    "\n",
    "Por ora, não explicarei detalhes sobre cada um, apenas entenda que um método altera um comportamento de uma classe, no caso, da classe ``str``\n",
    "\n",
    "**Como utilizar um método?**<br>Você consegue utilizar um método de uma classe através da ``notação de ponto`` seguindo a estrutura abaixo:<br>``Classe.Método()``<br>Percebe que primeiro eu chamei a classe, usei um '.' e depois chamei o método?\n",
    "\n",
    "<font color='green'>Alguns exemplos:</font>"
   ]
  },
  {
   "cell_type": "markdown",
   "metadata": {},
   "source": [
    "### Maiúscula, Minúscula e Título"
   ]
  },
  {
   "cell_type": "code",
   "execution_count": 1,
   "metadata": {},
   "outputs": [
    {
     "name": "stdout",
     "output_type": "stream",
     "text": [
      "GABRIEL\n",
      "gabriel\n",
      "Gabriel\n"
     ]
    }
   ],
   "source": [
    "string = \"GaBRiEL\"\n",
    "\n",
    "#deixar toda minha string em MAIÚSCULA:\n",
    "print(string.upper())\n",
    "\n",
    "#deixar toda minha string em MINÚSCULA:\n",
    "print(string.lower())\n",
    "\n",
    "#Primeira letra em maiúscula e o restante em minúscula:\n",
    "print(string.title())"
   ]
  },
  {
   "cell_type": "markdown",
   "metadata": {},
   "source": [
    "<hr>\n",
    "\n",
    "### Eliminando Espaços em Branco"
   ]
  },
  {
   "cell_type": "code",
   "execution_count": 2,
   "metadata": {},
   "outputs": [
    {
     "name": "stdout",
     "output_type": "stream",
     "text": [
      "dados\n",
      "dados   \n",
      "     dados\n"
     ]
    }
   ],
   "source": [
    "#limpando espaços em branco (muito útil para lidar com dados):\n",
    "string = \"     dados   \" #espaços em branco tanto do lado esquerdo, quanto direito\n",
    "\n",
    "print(string.strip()) #tirar todo espaço em branco da string\n",
    "\n",
    "print(string.lstrip()) #tirar todo espaço em branco do lado esquerdo da string\n",
    "\n",
    "print(string.rstrip()) #tirar todo espaço em branco do lado direito da string\n"
   ]
  },
  {
   "cell_type": "markdown",
   "metadata": {},
   "source": [
    "<hr>\n",
    "\n",
    "### Junções, Jutificado e Centralização:"
   ]
  },
  {
   "cell_type": "code",
   "execution_count": 3,
   "metadata": {},
   "outputs": [
    {
     "name": "stdout",
     "output_type": "stream",
     "text": [
      ".......Python.......\n",
      "Python..............\n",
      "..............Python\n"
     ]
    }
   ],
   "source": [
    "curso = \"Python\"\n",
    "\n",
    "print(curso.center(20, \".\")) #centralizar o curso em 20 caracteres, utilizando '.' para completar\n",
    "\n",
    "print(curso.ljust(20, \".\")) #lado esquerdo\n",
    "\n",
    "print(curso.rjust(20, \".\")) #lado direito"
   ]
  },
  {
   "cell_type": "code",
   "execution_count": 4,
   "metadata": {},
   "outputs": [
    {
     "name": "stdout",
     "output_type": "stream",
     "text": [
      "P.y.t.h.o.n\n",
      "P y t h o n\n",
      "P espaço y espaço t espaço h espaço o espaço n\n"
     ]
    }
   ],
   "source": [
    "print(\".\".join(curso)) #o que queremos juntar na string, no caso '.'. Funciona com todo tipo de iterável\n",
    "\n",
    "print(\" \".join(curso))\n",
    "\n",
    "print(\" espaço \".join(curso))\n",
    "\n",
    "#funciona como se fosse um for"
   ]
  },
  {
   "cell_type": "markdown",
   "metadata": {},
   "source": [
    "<hr>Imagine que você tem que limpar alguns dados e se depara com uma frase cheia de espaços em branco.<br>\n",
    "\n",
    "Já que o ``.join`` iterage com qualquer iterável, uma opção válida seria transformar essa frase numa lista usando o método ``.split()`` para depois utilizar o ``.join()``<br>"
   ]
  },
  {
   "cell_type": "code",
   "execution_count": 5,
   "metadata": {},
   "outputs": [
    {
     "name": "stdout",
     "output_type": "stream",
     "text": [
      "['dados', 'são', 'o', 'novo', 'pretóleo']\n"
     ]
    }
   ],
   "source": [
    "#transforme sua frase em lista\n",
    "string_frase = \"   dados são    o novo pretóleo  \"\n",
    "frase_lista = string_frase.split()\n",
    "print(frase_lista)"
   ]
  },
  {
   "cell_type": "code",
   "execution_count": 6,
   "metadata": {},
   "outputs": [
    {
     "name": "stdout",
     "output_type": "stream",
     "text": [
      "dados são o novo pretóleo\n"
     ]
    }
   ],
   "source": [
    "#acrescente os espaços em branco corretamente:\n",
    "print(\" \".join(frase_lista))"
   ]
  },
  {
   "cell_type": "markdown",
   "metadata": {},
   "source": [
    "Se quiser saber sobre mais métodos com strings, visite o link abaixo ou a documentação oficial do Python\n",
    "\n",
    "[W3Schools - Python Strings](https://www.w3schools.com/python/python_ref_string.asp)"
   ]
  }
 ],
 "metadata": {
  "kernelspec": {
   "display_name": "Python 3",
   "language": "python",
   "name": "python3"
  },
  "language_info": {
   "codemirror_mode": {
    "name": "ipython",
    "version": 3
   },
   "file_extension": ".py",
   "mimetype": "text/x-python",
   "name": "python",
   "nbconvert_exporter": "python",
   "pygments_lexer": "ipython3",
   "version": "3.12.3"
  }
 },
 "nbformat": 4,
 "nbformat_minor": 2
}
