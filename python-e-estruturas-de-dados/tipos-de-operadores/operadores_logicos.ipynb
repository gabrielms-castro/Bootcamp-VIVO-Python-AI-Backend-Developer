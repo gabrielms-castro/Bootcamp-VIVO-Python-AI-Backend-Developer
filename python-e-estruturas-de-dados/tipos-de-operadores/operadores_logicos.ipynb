{
 "cells": [
  {
   "cell_type": "markdown",
   "metadata": {},
   "source": [
    "# Operadores Lógicos\n",
    "\n",
    "Usados para combinar declarações condicionais. Use em conjunto com operadores de comparação ([Saiba mais](https://github.com/gabrielms-castro/dio-python-ai-backend-developer/blob/main/python-e-estruturas-de-dados/tipos-de-operadores/operadores_de_comparacao.ipynb)) para montar uma expressão lógica.\n",
    "\n",
    "## Tipos de operadores lógicos:\n",
    "* and\n",
    "* or\n",
    "* not\n",
    "\n",
    "### Operador and (E)\n",
    "Retorna **True** quando ambas proposições lógicas são **VERDADEIRAS**\n",
    "|p|q|p **and** q|\n",
    "|-|-|-|\n",
    "|True|True|**True**|\n",
    "|True|False|False|\n",
    "|False|True|False|\n",
    "|False|False|False|\n",
    "\n",
    "### Operador or (OU)\n",
    "Retorna **True** quando pelo menos uma das proposições lógicas é **VERDADEIRA**\n",
    "\n",
    "|p|q|p **or** q|\n",
    "|-|-|-|\n",
    "|True|True|**True**|\n",
    "|True|False|**True**|\n",
    "|False|True|**True**|\n",
    "|False|False|False|\n",
    "\n",
    "### Operador not (NEGAÇÃO)\n",
    "Reverte o resultado booleano original. Se originalmente era para retornar True, ao utilizar **not**, o resultado retornado será **False**\n",
    "\n",
    "|p|q|p **and** q|**not** (p **and** q)|\n",
    "|-|-|-|-|\n",
    "|True|True|True|False|\n",
    "|True|False|False|True|\n",
    "|False|True|False|True|\n",
    "|False|False|False|True|\n",
    "\n",
    "Perceba que ao negar a proposição original, todo resultado foi invertido.\n",
    "\n",
    "Vamos para alguns exemplos práticos:\n",
    "\n"
   ]
  },
  {
   "cell_type": "code",
   "execution_count": 1,
   "metadata": {},
   "outputs": [
    {
     "name": "stdout",
     "output_type": "stream",
     "text": [
      "True\n",
      "True\n",
      "True\n"
     ]
    }
   ],
   "source": [
    "saldo = 500\n",
    "saque = 200\n",
    "limite = 1000\n",
    "\n",
    "#operador and\n",
    "print(saldo >= saque)\n",
    "print(saque <= limite)\n",
    "print(saldo >= saque and saque <= limite)"
   ]
  },
  {
   "cell_type": "code",
   "execution_count": 2,
   "metadata": {},
   "outputs": [
    {
     "name": "stdout",
     "output_type": "stream",
     "text": [
      "True\n",
      "False\n",
      "True\n"
     ]
    }
   ],
   "source": [
    "# operador or\n",
    "print(saldo >= saque)\n",
    "print(saque >= limite)\n",
    "print(saldo >= saque or saque >= limite)"
   ]
  },
  {
   "cell_type": "code",
   "execution_count": 6,
   "metadata": {},
   "outputs": [
    {
     "name": "stdout",
     "output_type": "stream",
     "text": [
      "True\n"
     ]
    }
   ],
   "source": [
    "# operador de negação not\n",
    "\n",
    "minha_lista = [] #uma lista vazia sempre retornará False\n",
    "\n",
    "# ao negar uma lista vazia, seu resultado booleano será True\n",
    "print(not minha_lista)"
   ]
  },
  {
   "cell_type": "code",
   "execution_count": 7,
   "metadata": {},
   "outputs": [
    {
     "data": {
      "text/plain": [
       "True"
      ]
     },
     "execution_count": 7,
     "metadata": {},
     "output_type": "execute_result"
    }
   ],
   "source": [
    "not 100 > 150"
   ]
  },
  {
   "cell_type": "code",
   "execution_count": 8,
   "metadata": {},
   "outputs": [
    {
     "data": {
      "text/plain": [
       "True"
      ]
     },
     "execution_count": 8,
     "metadata": {},
     "output_type": "execute_result"
    }
   ],
   "source": [
    "#strings vazias também retornam False. Ao nega-las, seu resulta passa para True\n",
    "\n",
    "not \"\""
   ]
  },
  {
   "cell_type": "markdown",
   "metadata": {},
   "source": [
    "**Para boas práticas, utilize parêntesis a fim de melhorar a legibilidade do seu código.**"
   ]
  },
  {
   "cell_type": "code",
   "execution_count": 10,
   "metadata": {},
   "outputs": [
    {
     "data": {
      "text/plain": [
       "True"
      ]
     },
     "execution_count": 10,
     "metadata": {},
     "output_type": "execute_result"
    }
   ],
   "source": [
    "saldo = 1000\n",
    "saque = 250\n",
    "limite = 200\n",
    "conta_especial = True\n",
    "\n",
    "(saldo >= saque and saque <= limite) or (conta_especial and saldo >= saque)"
   ]
  },
  {
   "cell_type": "markdown",
   "metadata": {},
   "source": [
    "**Salve suas condições em variáveis para melhorar mais ainda seu código:**"
   ]
  },
  {
   "cell_type": "code",
   "execution_count": 12,
   "metadata": {},
   "outputs": [
    {
     "data": {
      "text/plain": [
       "True"
      ]
     },
     "execution_count": 12,
     "metadata": {},
     "output_type": "execute_result"
    }
   ],
   "source": [
    "conta_normal_saldo_suficiente = saldo >= saque and saque <= limite\n",
    "conta_especial_saldo_suficiente = conta_especial and saldo >= saque\n",
    "\n",
    "#perceba que no nosso exemplo, para que fazer o saque seja possível, uma das duas lógicas deve ser verdadeira\n",
    "\n",
    "conta_normal_saldo_suficiente or conta_especial_saldo_suficiente\n",
    "\n",
    "#o resultado True demonstra que o cliente pode efetuar o saque de sua conta, no caso definido em 250,00"
   ]
  }
 ],
 "metadata": {
  "kernelspec": {
   "display_name": "Python 3",
   "language": "python",
   "name": "python3"
  },
  "language_info": {
   "codemirror_mode": {
    "name": "ipython",
    "version": 3
   },
   "file_extension": ".py",
   "mimetype": "text/x-python",
   "name": "python",
   "nbconvert_exporter": "python",
   "pygments_lexer": "ipython3",
   "version": "3.12.3"
  }
 },
 "nbformat": 4,
 "nbformat_minor": 2
}
