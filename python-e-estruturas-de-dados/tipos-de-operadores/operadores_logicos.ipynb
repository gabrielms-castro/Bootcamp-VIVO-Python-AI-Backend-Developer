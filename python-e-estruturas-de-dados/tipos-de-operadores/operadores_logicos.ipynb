{
 "cells": [
  {
   "cell_type": "markdown",
   "metadata": {},
   "source": [
    "# Operadores Lógicos\n",
    "\n",
    "Usados para combinar declarações condicionais. Use em conjunto com operadores de comparação ([Saiba mais](https://github.com/gabrielms-castro/dio-python-ai-backend-developer/blob/main/python-e-estruturas-de-dados/tipos-de-operadores/operadores_de_comparacao.ipynb)) para montar uma expressão lógica.\n",
    "\n",
    "## Tipos de operadores lógicos:\n",
    "* and\n",
    "* or\n",
    "* not\n",
    "\n",
    "### Operador and (E)\n",
    "Retorna **True** quando ambas proposições lógicas são **VERDADEIRAS**\n",
    "|p|q|resultado|\n",
    "|-|-|-|\n",
    "|True|True|True|\n",
    "|True|False|False|\n",
    "|False|True|False|\n",
    "|False|False|False|"
   ]
  },
  {
   "cell_type": "code",
   "execution_count": 1,
   "metadata": {},
   "outputs": [
    {
     "data": {
      "text/plain": [
       "True"
      ]
     },
     "execution_count": 1,
     "metadata": {},
     "output_type": "execute_result"
    }
   ],
   "source": [
    "saldo = 500\n",
    "saque = 200\n",
    "limite = 1000\n",
    "\n",
    "saldo >= saque and saque <= limite"
   ]
  },
  {
   "cell_type": "code",
   "execution_count": null,
   "metadata": {},
   "outputs": [],
   "source": []
  }
 ],
 "metadata": {
  "kernelspec": {
   "display_name": "Python 3",
   "language": "python",
   "name": "python3"
  },
  "language_info": {
   "codemirror_mode": {
    "name": "ipython",
    "version": 3
   },
   "file_extension": ".py",
   "mimetype": "text/x-python",
   "name": "python",
   "nbconvert_exporter": "python",
   "pygments_lexer": "ipython3",
   "version": "3.12.3"
  }
 },
 "nbformat": 4,
 "nbformat_minor": 2
}
