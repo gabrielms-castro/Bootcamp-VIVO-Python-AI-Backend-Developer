{
 "cells": [
  {
   "cell_type": "markdown",
   "metadata": {},
   "source": [
    "## Operadores Aritméticos:\n",
    "Executam operações matemáticas"
   ]
  },
  {
   "cell_type": "code",
   "execution_count": 8,
   "metadata": {},
   "outputs": [
    {
     "name": "stdout",
     "output_type": "stream",
     "text": [
      "2\n",
      "3\n",
      "30\n",
      "3.0\n",
      "6\n",
      "1.0\n",
      "25\n"
     ]
    }
   ],
   "source": [
    "#Adição ( + )\n",
    "print(1 + 1)\n",
    "\n",
    "# Subtração ( - )\n",
    "print(4 - 1)\n",
    "\n",
    "#Multiplicação ( * )\n",
    "print(5 * 6)\n",
    "\n",
    "# Divisão ( / )\n",
    "print(12 / 4)\n",
    "\n",
    "# Divisão Inteira ( // )\n",
    "print(12 // 2)\n",
    "\n",
    "# Resto da Divisão ( % ) - também conhecido como MÓDULO\n",
    "print(6 % 2.5)\n",
    "\n",
    "# Potenciação ( ** )\n",
    "print(5 ** 2)"
   ]
  },
  {
   "cell_type": "markdown",
   "metadata": {},
   "source": [
    "**Python segue a convenção geral para executar a ordem das operações**\n",
    "* Parêntesis\n",
    "* Expoêntes\n",
    "* Multiplicações e divisões (da esquerda para direita)\n",
    "* Somas e Subtrações (da esquerda para direita)\n"
   ]
  },
  {
   "cell_type": "code",
   "execution_count": 18,
   "metadata": {},
   "outputs": [
    {
     "name": "stdout",
     "output_type": "stream",
     "text": [
      "1\n",
      "6\n",
      "50\n",
      "10000\n",
      "20.0\n"
     ]
    }
   ],
   "source": [
    "print( 5 - 2 * 2)\n",
    "\n",
    "print((5 - 2) * 2)\n",
    "\n",
    "print(5 ** 2 * 2)\n",
    "\n",
    "print(10 ** (2 * 2))\n",
    "\n",
    "print(10 / 2 * 4)"
   ]
  },
  {
   "cell_type": "code",
   "execution_count": null,
   "metadata": {},
   "outputs": [],
   "source": []
  }
 ],
 "metadata": {
  "kernelspec": {
   "display_name": "Python 3",
   "language": "python",
   "name": "python3"
  },
  "language_info": {
   "codemirror_mode": {
    "name": "ipython",
    "version": 3
   },
   "file_extension": ".py",
   "mimetype": "text/x-python",
   "name": "python",
   "nbconvert_exporter": "python",
   "pygments_lexer": "ipython3",
   "version": "3.11.5"
  }
 },
 "nbformat": 4,
 "nbformat_minor": 2
}
