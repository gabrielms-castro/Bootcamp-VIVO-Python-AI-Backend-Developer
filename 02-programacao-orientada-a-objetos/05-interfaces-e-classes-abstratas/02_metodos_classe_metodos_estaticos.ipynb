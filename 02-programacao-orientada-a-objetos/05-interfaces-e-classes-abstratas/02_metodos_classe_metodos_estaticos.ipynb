{
 "cells": [
  {
   "cell_type": "markdown",
   "metadata": {},
   "source": [
    "# Métodos de Classe e Métodos Estáticos\n",
    "\n",
    "**Métodos de Classe:**\n",
    "<br>Recebem um primeiro parâmetro que aponta para a classe (permite acessar o estado da classe);\n",
    "<br>Pode acessar/modificar o estado da classe;\n",
    "<br>Métodos de Classe estão ligados à classe, não ao objeto.\n",
    "<br>Parecido com o ```self```, mas por convenção, é chamado de ```cls```\n",
    "\n",
    "**Métodos Estáticos:**\n",
    "<br>Não recebe o primeiro argumento explícito como referência a uma classe.\n",
    "<br>Não pode acessar/modificar o estado da classe\n",
    "<br>É um método vinculado à classe e não ao objeto da classe.\n",
    "\n",
    "## Quanto utilizar um método de classe ou estático?\n",
    "* Usamos métodos de classe para **criar métodos de fábrica**\n",
    "* Usamos métodos estáticos para **criar funções utilitárias**\n",
    "\n",
    "### Métodos de Classe:\n",
    "Os métodos de fábrica são métodos usados para criar instâncias de uma classe.\n",
    "<br>Recebem a própria classe como primeiro argumento (por convenção, pelo ```cls``` que se equipa ao ```self```)\n",
    "<br>Eles oferecem uma forma de encapsular a lógica de criação de objetos, permitindo maior flexibilidade e controle sobre o processo de instanciamento.\n",
    "\n",
    "Abaixo, o decorador ```@classmethod``` transforma a função ```calc_idade```em um método da classe ```Pessoa```\n"
   ]
  },
  {
   "cell_type": "code",
   "execution_count": 1,
   "metadata": {},
   "outputs": [
    {
     "name": "stdout",
     "output_type": "stream",
     "text": [
      "Gabriel, 29\n",
      "Pedro, 51\n"
     ]
    }
   ],
   "source": [
    "class Pessoa:\n",
    "    def __init__(self, nome, idade):\n",
    "        self.nome = nome\n",
    "        self.idade = idade\n",
    "    \n",
    "    def __str__(self):\n",
    "        return f\"{self.nome}, {self.idade}\"\n",
    "    \n",
    "    @classmethod #transforma a função em um metodo da classe\n",
    "    def calc_idade(cls, nome, ano_nascimento):\n",
    "        from datetime import date\n",
    "        idade = date.today().year - ano_nascimento\n",
    "        return cls(nome, idade)\n",
    "\n",
    "#Uso de metodos de classe:\n",
    "pessoa1 = Pessoa(\"Gabriel\", 29) #você pode instanciar a classe diretamente (aqui já temos a idade)\n",
    "pessoa2 = Pessoa.calc_idade(\"Pedro\", 1973) # Usando método de fábrica para instanciar e entregar a idade\n",
    "\n",
    "print(pessoa1)\n",
    "print(pessoa2)\n",
    "\n",
    "    \n"
   ]
  },
  {
   "cell_type": "markdown",
   "metadata": {},
   "source": [
    "### Métodos Estáticos:\n",
    "Métodos que não recebem a instância, nem a classe como argumento;\n",
    "<br>Definidor pelo decorador ```@staticmethod``` \n",
    "<br>Não recebem um primeiro argumento, como ```self```ou ```cls```\n",
    "<br>Funcionam como funções normais (**funções utilitárias**)\n",
    "\n",
    "**Características**:\n",
    "* Não têm acesso aos atributos da instância (self) ou da classe (cls).\n",
    "* São chamados usando a classe ou uma instância da classe.\n",
    "* São usados para tarefas que não dependem de dados da instância ou da classe.\n",
    "\n",
    "Abaixo, o método estático ```maior_de_idade```pega o método de classe ```calc_idade```como argumento e retorna se a pessoa é maior de idade ou não, mas poderia ser algo mais simples, como a classe ```Calculadora``` logo após."
   ]
  },
  {
   "cell_type": "code",
   "execution_count": 2,
   "metadata": {},
   "outputs": [
    {
     "data": {
      "text/plain": [
       "'Maior de Idade'"
      ]
     },
     "execution_count": 2,
     "metadata": {},
     "output_type": "execute_result"
    }
   ],
   "source": [
    "class Pessoa:\n",
    "    def __init__(self, nome, idade):\n",
    "        self.nome = nome\n",
    "        self.idade = idade\n",
    "    \n",
    "    def __str__(self):\n",
    "        return f\"{self.nome}, {self.idade}\"\n",
    "    \n",
    "    @classmethod #transforma a função em um metodo da classe\n",
    "    def calc_idade(cls, nome, ano_nascimento):\n",
    "        from datetime import date\n",
    "        idade = date.today().year - ano_nascimento\n",
    "        return cls(nome, idade)\n",
    "    \n",
    "    @staticmethod\n",
    "    def maior_de_idade(idade):\n",
    "        if not idade >= 18:\n",
    "            return \"Menor de Idade\"\n",
    "        return \"Maior de Idade\"\n",
    "\n",
    "#Uso dos métodos estáticos:\n",
    "pessoa = Pessoa.calc_idade(\"Mario\",1966)\n",
    "Pessoa.maior_de_idade(pessoa.idade)"
   ]
  },
  {
   "cell_type": "code",
   "execution_count": 3,
   "metadata": {},
   "outputs": [
    {
     "name": "stdout",
     "output_type": "stream",
     "text": [
      "18\n",
      "8\n"
     ]
    }
   ],
   "source": [
    "class Calculadora:\n",
    "    \n",
    "    @staticmethod\n",
    "    def somar(a, b):\n",
    "        return a + b\n",
    "    \n",
    "    @staticmethod\n",
    "    def subtrair(a, b):\n",
    "        return a - b\n",
    "    \n",
    "# Uso dos métodos estáticos:\n",
    "# Deve-se chamar a classe e o nome do método\n",
    "print(Calculadora.somar(10, 8)) \n",
    "print(Calculadora.subtrair(20, 12)) \n"
   ]
  }
 ],
 "metadata": {
  "kernelspec": {
   "display_name": "Python 3",
   "language": "python",
   "name": "python3"
  },
  "language_info": {
   "codemirror_mode": {
    "name": "ipython",
    "version": 3
   },
   "file_extension": ".py",
   "mimetype": "text/x-python",
   "name": "python",
   "nbconvert_exporter": "python",
   "pygments_lexer": "ipython3",
   "version": "3.12.3"
  }
 },
 "nbformat": 4,
 "nbformat_minor": 2
}
