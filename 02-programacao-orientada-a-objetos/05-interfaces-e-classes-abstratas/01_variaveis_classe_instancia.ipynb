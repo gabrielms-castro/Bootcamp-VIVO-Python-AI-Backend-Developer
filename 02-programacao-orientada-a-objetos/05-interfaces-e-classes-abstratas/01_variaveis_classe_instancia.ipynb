{
 "cells": [
  {
   "cell_type": "markdown",
   "metadata": {},
   "source": [
    "# Variáveis de Classe e de Instância\n",
    "\n",
    "Todos os objetos nascem com o mesmo número de atributos de classe e de instância.\n",
    "\n",
    "Atributos de Instância são diferentes(únicos) para cada objeto (cada objeto tem uma cópia)\n",
    "\n",
    "Atributos de Classe são compartilhados entre os objetos."
   ]
  },
  {
   "cell_type": "code",
   "execution_count": 5,
   "metadata": {},
   "outputs": [
    {
     "name": "stdout",
     "output_type": "stream",
     "text": [
      "Nome:       Gabriel\n",
      "Matrícula:  1234\n",
      "Curso:      Engenharia de Software\n"
     ]
    }
   ],
   "source": [
    "class Estudante:\n",
    "    \n",
    "    #Isso é um atributo da classe (Todos os objetos criados a partir da classe terão este atributo)\n",
    "    curso = \"Engenharia de Software\" \n",
    "    \n",
    "    def __init__(self, nome, matricula):\n",
    "        \n",
    "        #Esses são atributos da instância (cada objeto terá um valor de atributo diferente)\n",
    "        self.nome = nome\n",
    "        self.matricula = matricula\n",
    "    \n",
    "    def __str__(self):\n",
    "        return f\"{'Nome:':<{12}}{self.nome}\\n{'Matrícula:':<{12}}{self.matricula}\\n{'Curso:':<{12}}{self.curso}\"\n",
    "\n",
    "\n",
    "estudante = Estudante(\"Gabriel\", 1234)\n",
    "print(estudante)"
   ]
  },
  {
   "cell_type": "markdown",
   "metadata": {},
   "source": [
    "<hr>\n",
    "\n",
    "Atributos de Instância, quando alterados de um objeto, não afetam os demais"
   ]
  },
  {
   "cell_type": "code",
   "execution_count": 13,
   "metadata": {},
   "outputs": [
    {
     "name": "stdout",
     "output_type": "stream",
     "text": [
      "Nome:       Gabriel\n",
      "Matrícula:  2\n",
      "Curso:      Engenharia de Software \n",
      " --------------------\n",
      "Nome:       Paulo\n",
      "Matrícula:  1\n",
      "Curso:      Engenharia de Software \n",
      " --------------------\n",
      "=========================\n",
      "Nome:       Gabriel\n",
      "Matrícula:  1000\n",
      "Curso:      Arquitetura de Dados \n",
      " --------------------\n",
      "Nome:       Paulo\n",
      "Matrícula:  1\n",
      "Curso:      Arquitetura de Dados \n",
      " --------------------\n"
     ]
    }
   ],
   "source": [
    "obj1 = Estudante(\"Gabriel\", 0o002)\n",
    "obj2 = Estudante(\"Paulo\", 0o001)\n",
    "\n",
    "def exibir_valores_atributos(*objetos):\n",
    "    for obj in objetos:\n",
    "        print(obj,\"\\n\",\"-\"*20) #é o mesmo que printar o objeto diretamente: acionará o __str__(self) e mostrará seus valores\n",
    "\n",
    "exibir_valores_atributos(obj1, obj2)\n",
    "\n",
    "print(\"=\"*25)\n",
    "\n",
    "obj1.matricula = 1000 #altero apenas o valor do atributo do obj1, mantendo o obj2 intacto.\n",
    "Estudante.curso = \"Arquitetura de Dados\" #Vamos aproveitar para alterar o valor do atributo de classe de todos os objetos\n",
    "\n",
    "exibir_valores_atributos(obj1,obj2)\n",
    "\n"
   ]
  },
  {
   "cell_type": "markdown",
   "metadata": {},
   "source": [
    "Se outro objeto da classe Estudante for criado após a alteração feita ```Estudante.curso = \"Arquitetura de Dados\"```, <br>esse objeto novo conterá o valor da última alteração, ignorando o originalmente atribuíto ao definir a classe Estudante."
   ]
  },
  {
   "cell_type": "code",
   "execution_count": 14,
   "metadata": {},
   "outputs": [
    {
     "name": "stdout",
     "output_type": "stream",
     "text": [
      "Nome:       Gabriel\n",
      "Matrícula:  1000\n",
      "Curso:      Arquitetura de Dados \n",
      " --------------------\n",
      "Nome:       Paulo\n",
      "Matrícula:  1\n",
      "Curso:      Arquitetura de Dados \n",
      " --------------------\n",
      "Nome:       Milena\n",
      "Matrícula:  3\n",
      "Curso:      Arquitetura de Dados \n",
      " --------------------\n"
     ]
    }
   ],
   "source": [
    "obj3 = Estudante(\"Milena\", 0o003)\n",
    "\n",
    "exibir_valores_atributos(obj1,obj2,obj3)"
   ]
  },
  {
   "cell_type": "code",
   "execution_count": null,
   "metadata": {},
   "outputs": [],
   "source": []
  }
 ],
 "metadata": {
  "kernelspec": {
   "display_name": "Python 3",
   "language": "python",
   "name": "python3"
  },
  "language_info": {
   "codemirror_mode": {
    "name": "ipython",
    "version": 3
   },
   "file_extension": ".py",
   "mimetype": "text/x-python",
   "name": "python",
   "nbconvert_exporter": "python",
   "pygments_lexer": "ipython3",
   "version": "3.12.4"
  }
 },
 "nbformat": 4,
 "nbformat_minor": 2
}
