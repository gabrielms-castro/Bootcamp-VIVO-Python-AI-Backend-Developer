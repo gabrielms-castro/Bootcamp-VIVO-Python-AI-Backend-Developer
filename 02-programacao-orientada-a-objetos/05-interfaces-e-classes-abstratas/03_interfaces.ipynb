{
 "cells": [
  {
   "cell_type": "markdown",
   "metadata": {},
   "source": [
    "# Interfaces\n",
    "\n",
    "Definem **O QUE** uma classe deve fazer, mas **NÃO DEFINEM COMO**\n",
    "\n",
    "Uma interface define um contrato onde são declarados métodos e suas assinaturas.\n",
    "\n",
    "Utilizamos **classes abstratas** em Python para criar contratos\n",
    "\n",
    "Obs: Classes Abstrtatas **Não** podem ser instanciadas"
   ]
  },
  {
   "cell_type": "markdown",
   "metadata": {},
   "source": [
    "## Criando Classes Abstratas com o módulo ABC\n",
    "\n",
    "Python **NÃO** fornece classes abstratas, sendo necessário importar um módulo chamado ABC (*Abstract Base Classes*)\n",
    "\n",
    "O módulo ``abc`` funciona **decorando** métodos da classe base através do decorador ``@abstractmethod`` e, em seguida, registra classes concretas como implementação da classe base."
   ]
  },
  {
   "cell_type": "code",
   "execution_count": 18,
   "metadata": {},
   "outputs": [
    {
     "name": "stdout",
     "output_type": "stream",
     "text": [
      "Ligando TV...\n",
      "Desligando TV...\n",
      "Ligando Ar Condicionado...\n",
      "Desligando Ar Condicionado...\n"
     ]
    }
   ],
   "source": [
    "from abc import ABC, abstractmethod\n",
    "\n",
    "class ControleRemoto(ABC): #Essa classe não pode mais ser instanciada diretamente, pois agora é uma classe abstrata \n",
    "    \n",
    "    #Os métodos abstratos são definidos no decorador @abstractmethod\n",
    "    #E devem ser implementados nas classes concretas, que no caso é a classe ControleTV()\n",
    "    @abstractmethod\n",
    "    def ligar(self):\n",
    "        pass\n",
    "    \n",
    "    @abstractmethod\n",
    "    def desligar(self):\n",
    "        pass\n",
    "\n",
    "class ControleTV(ControleRemoto):\n",
    "\n",
    "    def ligar(self):\n",
    "        print(\"Ligando TV...\")\n",
    "    \n",
    "    def desligar(self):\n",
    "        print(\"Desligando TV...\")\n",
    "\n",
    "#Outra classe concreta, que herda de ControleRemoto (classe abstrata) e deve levar os métodos para que possa funcionar\n",
    "class ControleArCondicionado(ControleRemoto):\n",
    "    def ligar(self):\n",
    "        print(\"Ligando Ar Condicionado...\")\n",
    "    \n",
    "    def desligar(self):\n",
    "        print(\"Desligando Ar Condicionado...\")\n",
    "        \n",
    "\n",
    "controle_tv =ControleTV()\n",
    "controle_tv.ligar()\n",
    "controle_tv.desligar()\n",
    "\n",
    "controle_ar_condicionado = ControleArCondicionado()\n",
    "controle_ar_condicionado.ligar()\n",
    "controle_ar_condicionado.desligar()"
   ]
  },
  {
   "cell_type": "markdown",
   "metadata": {},
   "source": [
    "Quando um método abstrato é definido, as classes filhas são obrigadas a implementá-lo. Assim, o mesmo método terá comportamentos diferentes a depender do tipo de classe que o chama.\n",
    "<br>Essa obrigatoriedade passa **maior segurança** para implementar Polimorfismo\n"
   ]
  },
  {
   "cell_type": "code",
   "execution_count": null,
   "metadata": {},
   "outputs": [],
   "source": []
  }
 ],
 "metadata": {
  "kernelspec": {
   "display_name": "Python 3",
   "language": "python",
   "name": "python3"
  },
  "language_info": {
   "codemirror_mode": {
    "name": "ipython",
    "version": 3
   },
   "file_extension": ".py",
   "mimetype": "text/x-python",
   "name": "python",
   "nbconvert_exporter": "python",
   "pygments_lexer": "ipython3",
   "version": "3.12.3"
  }
 },
 "nbformat": 4,
 "nbformat_minor": 2
}
