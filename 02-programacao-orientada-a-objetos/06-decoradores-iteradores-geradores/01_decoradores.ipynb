{
 "cells": [
  {
   "cell_type": "code",
   "execution_count": null,
   "metadata": {},
   "outputs": [],
   "source": []
  },
  {
   "cell_type": "markdown",
   "metadata": {},
   "source": [
    "## Inner Functions\n",
    "\n",
    "É possível definir funções dentro de outras funções"
   ]
  },
  {
   "cell_type": "code",
   "execution_count": 4,
   "metadata": {},
   "outputs": [
    {
     "name": "stdout",
     "output_type": "stream",
     "text": [
      "Filho 1\n",
      "Filho 2\n"
     ]
    }
   ],
   "source": [
    "def pai():\n",
    "    def filho1():\n",
    "        print('Filho 1')\n",
    "    def filho2():\n",
    "        print('Filho 2')\n",
    "    \n",
    "    filho1()\n",
    "    filho2()\n",
    "\n",
    "pai()"
   ]
  },
  {
   "cell_type": "markdown",
   "metadata": {},
   "source": [
    "## Retornando Funções de Funções\n",
    "\n",
    "Você pode usar funções como valores de retorno de uma função"
   ]
  },
  {
   "cell_type": "code",
   "execution_count": 5,
   "metadata": {},
   "outputs": [
    {
     "data": {
      "text/plain": [
       "16"
      ]
     },
     "execution_count": 5,
     "metadata": {},
     "output_type": "execute_result"
    }
   ],
   "source": [
    "def calcular(operador):\n",
    "    def somar(x, y):\n",
    "        return x + y\n",
    "    \n",
    "    def subtrair(x, y):\n",
    "        return x - y\n",
    "    \n",
    "    if operador == \"+\":\n",
    "        return somar\n",
    "    else:\n",
    "        return subtrair\n",
    "    \n",
    "print(calcular(\"+\")(9,7)"
   ]
  },
  {
   "cell_type": "code",
   "execution_count": null,
   "metadata": {},
   "outputs": [],
   "source": []
  }
 ],
 "metadata": {
  "kernelspec": {
   "display_name": "Python 3",
   "language": "python",
   "name": "python3"
  },
  "language_info": {
   "codemirror_mode": {
    "name": "ipython",
    "version": 3
   },
   "file_extension": ".py",
   "mimetype": "text/x-python",
   "name": "python",
   "nbconvert_exporter": "python",
   "pygments_lexer": "ipython3",
   "version": "3.12.3"
  }
 },
 "nbformat": 4,
 "nbformat_minor": 2
}
