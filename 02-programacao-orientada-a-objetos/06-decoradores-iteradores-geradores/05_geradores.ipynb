{
 "cells": [
  {
   "cell_type": "markdown",
   "metadata": {},
   "source": [
    "# Geradores\n",
    "\n",
    "São tipos especiais de **Iteradores**, porém ao contrário de listas ou outros iteráveis, **Geradores não armazenam valores na memória**.\n",
    "\n",
    "São definidos usando **funçõe regulares**, utilizando a palavra reservada ``yield`` no lugar de ``return``.\n",
    "\n",
    "Uma das maiores vantagens de utilizar Gerador é a **extrema otimização de memória** e recurso computacional.\n",
    "<hr>\n",
    "\n",
    "\n",
    "\n"
   ]
  },
  {
   "cell_type": "markdown",
   "metadata": {},
   "source": [
    "## Características:\n",
    "\n",
    "* Uma vez que um item é consumido, ele não pode ser acessado novamente;\n",
    "* O estado interno de um gerador é mantido entre chamadas;\n",
    "* O ``yield`` pausa a execução do gerador e este é retomado de onde parou na próxima vez que for chamado.\n",
    "\n",
    "### Yield vs. Return\n",
    "* ``yield`` **RETORNA** um valor ao chamador e **PAUSA** a execução da função, permitindo que seja **retomada de onde parou**;\n",
    "* ``return`` **ENCERRA** a execução da função e retorna um valor.\n",
    "<hr>"
   ]
  },
  {
   "cell_type": "markdown",
   "metadata": {},
   "source": [
    "## Exemplo de Caso: Recuperar dados de uma API\n",
    "Como seria utilizar um Gerador para recuperar dados de uma API?\n",
    "* Solicitar dados por página(paginação);\n",
    "* Fornecer um produto por vez entre as chamadas;\n",
    "* Após retornar todos os produtos de uma página, verificar por novas páginas;\n",
    "* Tratar o consumo da API como um objeto do tipo ``lista`` Python"
   ]
  },
  {
   "cell_type": "code",
   "execution_count": 7,
   "metadata": {},
   "outputs": [
    {
     "name": "stdout",
     "output_type": "stream",
     "text": [
      "Essence Mascara Lash Princess\n",
      "Eyeshadow Palette with Mirror\n",
      "Powder Canister\n",
      "Red Lipstick\n",
      "Red Nail Polish\n",
      "Calvin Klein CK One\n",
      "Chanel Coco Noir Eau De\n",
      "Dior J'adore\n",
      "Dolce Shine Eau de\n",
      "Gucci Bloom Eau de\n",
      "Annibale Colombo Bed\n",
      "Annibale Colombo Sofa\n",
      "Bedside Table African Cherry\n",
      "Knoll Saarinen Executive Conference Chair\n",
      "Wooden Bathroom Sink With Mirror\n",
      "Apple\n",
      "Beef Steak\n",
      "Cat Food\n",
      "Chicken Meat\n",
      "Cooking Oil\n",
      "Cucumber\n",
      "Dog Food\n",
      "Eggs\n",
      "Fish Steak\n",
      "Green Bell Pepper\n",
      "Green Chili Pepper\n",
      "Honey Jar\n",
      "Ice Cream\n",
      "Juice\n",
      "Kiwi\n"
     ]
    }
   ],
   "source": [
    "import requests\n",
    "\n",
    "def fetch_products(api_url, max_pages=100):\n",
    "    page = 1\n",
    "    \n",
    "    while page <= max_pages:\n",
    "        response = requests.get(f\"{api_url}?page={page}\")\n",
    "        data = response.json()\n",
    "        \n",
    "        for product in data[\"products\"]:\n",
    "            yield product\n",
    "        \n",
    "        if 'next_page' not in data:\n",
    "            break\n",
    "        \n",
    "        page += 1\n",
    "        \n",
    "for product in fetch_products(\"https://dummyjson.com/products\"):\n",
    "    print(product['title'])"
   ]
  },
  {
   "cell_type": "markdown",
   "metadata": {},
   "source": [
    "<hr>\n",
    "\n",
    "Gerador simples que recebe uma lista de números e multiplica cada um deles por 3:"
   ]
  },
  {
   "cell_type": "code",
   "execution_count": 17,
   "metadata": {},
   "outputs": [
    {
     "name": "stdout",
     "output_type": "stream",
     "text": [
      "3\n",
      "6\n",
      "9\n",
      "12\n",
      "15\n"
     ]
    }
   ],
   "source": [
    "def meu_gerador(lista_numeros):\n",
    "    for i in lista_numeros:\n",
    "        yield i * 3\n",
    "    \n",
    "for num in meu_gerador_2(lista_numeros=[1, 2, 3, 4, 5]):\n",
    "    print(num)"
   ]
  },
  {
   "cell_type": "markdown",
   "metadata": {},
   "source": [
    "## Quando escolher entre Geradores e Iteradores?\n",
    "\n",
    "Embora ambos podem parecer iguais, cada um tem uma vantagem e deve ser escolhido a depender do problema a ser solucionado.\n",
    "\n",
    "* Use **Geradores** quando for lidar com **TAREFAS SIMPLES**, onde não é necessário criar toda uma classe para isso;\n",
    "\n",
    "* Use **Iteradores** quando a tarefa não for tão simples, complexo e que requer algo mais sofisticado\n",
    "<br>**Exemplo**: Criar uma nova estrutura de dados(criar uma Árvore Binária)\n",
    "\n",
    "Além disso, **Geradores** também podem ser utilizados para:\n",
    "1. Processar grandes arquivos de dados \n",
    "2. Gerar sequências grandes ou infinitas;\n",
    "3. Implementar pipelines de dados\n",
    "4. Leitura de logs ou stream em tempo real"
   ]
  },
  {
   "cell_type": "code",
   "execution_count": 26,
   "metadata": {},
   "outputs": [
    {
     "name": "stdout",
     "output_type": "stream",
     "text": [
      "0\n",
      "2\n",
      "4\n",
      "6\n",
      "8\n",
      "10\n"
     ]
    }
   ],
   "source": [
    "def pares_infinitos():\n",
    "    numero = 0\n",
    "    while True:\n",
    "        yield numero\n",
    "        numero += 2\n",
    "        \n",
    "for n in pares_infinitos():\n",
    "    if n > 10: # valor arbitrário apenas para encerrar o loop\n",
    "        break\n",
    "    print(n)"
   ]
  },
  {
   "cell_type": "markdown",
   "metadata": {},
   "source": [
    "<hr>\n",
    "\n",
    "## Geradores e Expressões\n",
    "\n",
    "Existe uma forma de criar geradores de maneira concisa, as **expressões geradoras**. Bem parecidas com **compreensão de lista**, mas utilizando parentesis no lugar dos colchetes"
   ]
  },
  {
   "cell_type": "code",
   "execution_count": 30,
   "metadata": {},
   "outputs": [
    {
     "name": "stdout",
     "output_type": "stream",
     "text": [
      "0\n",
      "1\n",
      "4\n",
      "9\n",
      "16\n",
      "25\n",
      "36\n",
      "49\n",
      "64\n",
      "81\n"
     ]
    }
   ],
   "source": [
    "gerador = ( x * x for x in range(10))\n",
    "for n in gerador:\n",
    "    print(n)"
   ]
  },
  {
   "cell_type": "code",
   "execution_count": null,
   "metadata": {},
   "outputs": [],
   "source": []
  }
 ],
 "metadata": {
  "kernelspec": {
   "display_name": "Python 3",
   "language": "python",
   "name": "python3"
  },
  "language_info": {
   "codemirror_mode": {
    "name": "ipython",
    "version": 3
   },
   "file_extension": ".py",
   "mimetype": "text/x-python",
   "name": "python",
   "nbconvert_exporter": "python",
   "pygments_lexer": "ipython3",
   "version": "3.12.4"
  }
 },
 "nbformat": 4,
 "nbformat_minor": 2
}
