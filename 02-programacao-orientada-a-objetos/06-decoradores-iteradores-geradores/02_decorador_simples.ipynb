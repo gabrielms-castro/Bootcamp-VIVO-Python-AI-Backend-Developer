{
 "cells": [
  {
   "cell_type": "markdown",
   "metadata": {},
   "source": [
    "## Decoradores\n",
    "\n",
    "Um decorador é uma forma de adicionar uma funcionalidade a um objeto existente sem alterar a estrutura deste. Tipicamente, são aplicados a **funções**. \n",
    "\n",
    "Os decoradores são utilizados para executar algum bloco de código antes da função desejada e depois de executar esta função também."
   ]
  },
  {
   "cell_type": "markdown",
   "metadata": {},
   "source": [
    "### Decorador Simples\n",
    "Abaixo, temos nossa função ```decorador()```. No lugar dos *prints*, utiliza-se algum bloco de código que você queira executar antes e depois da função principal.\n"
   ]
  },
  {
   "cell_type": "code",
   "execution_count": 5,
   "metadata": {},
   "outputs": [
    {
     "name": "stdout",
     "output_type": "stream",
     "text": [
      "decorador:\t\tAntes de executar a função decorada\n",
      "função principal:\tExecutando a função decorada\n",
      "decorador:\t\tDepois de executar a função decorada\n"
     ]
    }
   ],
   "source": [
    "def decorador(funcao):\n",
    "    def envelope():\n",
    "        print(\"decorador:\\t\\tAntes de executar a função decorada\")\n",
    "        funcao()\n",
    "        print(\"decorador:\\t\\tDepois de executar a função decorada\")\n",
    "        \n",
    "    return envelope\n",
    "\n",
    "#função a ser decorada\n",
    "def funcao_decorada():\n",
    "    print(\"função principal:\\tExecutando a função decorada\")\n",
    "\n",
    "funcao_decorada = decorador(funcao_decorada)\n",
    "funcao_decorada()\n",
    "        "
   ]
  },
  {
   "cell_type": "markdown",
   "metadata": {},
   "source": [
    "Outra forma de utilizar um decorador é através de **Açúcar Sintático**(Sintatic Sugar). Dessa forma, você simplifica a sintaxe do seu código, objetendo uma legibilidade melhor atráves da sintaxe ```@nome_decorador``` antes de definir a função que você quer aplicar o decorador.\n"
   ]
  },
  {
   "cell_type": "code",
   "execution_count": 8,
   "metadata": {},
   "outputs": [
    {
     "name": "stdout",
     "output_type": "stream",
     "text": [
      "decorador:\t\tAntes de executar a função decorada\n",
      "função principal:\tExecutando a função decorada 2 com sintatic sugar\n",
      "decorador:\t\tDepois de executar a função decorada\n"
     ]
    }
   ],
   "source": [
    "@decorador\n",
    "def funcao_decorada_2():\n",
    "    print(\"função principal:\\tExecutando a função decorada 2 com sintatic sugar\")\n",
    "\n",
    "funcao_decorada_2()"
   ]
  },
  {
   "cell_type": "code",
   "execution_count": null,
   "metadata": {},
   "outputs": [],
   "source": []
  }
 ],
 "metadata": {
  "kernelspec": {
   "display_name": "Python 3",
   "language": "python",
   "name": "python3"
  },
  "language_info": {
   "codemirror_mode": {
    "name": "ipython",
    "version": 3
   },
   "file_extension": ".py",
   "mimetype": "text/x-python",
   "name": "python",
   "nbconvert_exporter": "python",
   "pygments_lexer": "ipython3",
   "version": "3.12.3"
  }
 },
 "nbformat": 4,
 "nbformat_minor": 2
}
