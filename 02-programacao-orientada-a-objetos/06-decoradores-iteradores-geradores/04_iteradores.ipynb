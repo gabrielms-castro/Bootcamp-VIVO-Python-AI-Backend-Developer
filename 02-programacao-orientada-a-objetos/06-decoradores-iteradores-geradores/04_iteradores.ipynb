{
 "cells": [
  {
   "cell_type": "markdown",
   "metadata": {},
   "source": [
    "## Iteradores\n",
    "**Índice**:\n",
    "* O que é;\n",
    "* Quando usar\n",
    "\n",
    "<hr>\n",
    "Um iterador é um objeto que contém um número contável de valores que podem ser iterados, permitindo que seja percorrido cada um desses valores individualmente. Existem dois métodos especiais que permitem a iteração de objetos:\n",
    "\n",
    "\n",
    "1. ``__iter__()``\n",
    "2. ``__next__()``\n",
    "\n",
    "### Iteradores vs. Iteráveis\n",
    "**Iteráveis** são objetos que contêm um número contável de valores. \n",
    "\n",
    "Exemplos: Listas, tuplas, dicionários e conjuntos são exemplos de objetos iteráveis. \n",
    "\n",
    "Esses objetos possuem o método iter(), que é utilizado para obter um iterador.\n",
    "\n"
   ]
  },
  {
   "cell_type": "code",
   "execution_count": 11,
   "metadata": {},
   "outputs": [
    {
     "name": "stdout",
     "output_type": "stream",
     "text": [
      "maçã\n",
      "banana\n",
      "mamão\n"
     ]
    }
   ],
   "source": [
    "\n",
    "tupla = (\"maçã\",\"banana\",\"mamão\")\n",
    "iterador = iter(tupla)\n",
    "\n",
    "print(next(iterador))\n",
    "print(next(iterador))\n",
    "print(next(iterador))   "
   ]
  },
  {
   "cell_type": "markdown",
   "metadata": {},
   "source": [
    "Se você entar iterar uma quantidade de vezes maior do que o número de itens do seu iterável, recebera um erro de ``StopIteration``"
   ]
  },
  {
   "cell_type": "code",
   "execution_count": 4,
   "metadata": {},
   "outputs": [
    {
     "name": "stdout",
     "output_type": "stream",
     "text": [
      "1\n",
      "2\n",
      "3\n"
     ]
    },
    {
     "ename": "StopIteration",
     "evalue": "",
     "output_type": "error",
     "traceback": [
      "\u001b[1;31m---------------------------------------------------------------------------\u001b[0m",
      "\u001b[1;31mStopIteration\u001b[0m                             Traceback (most recent call last)",
      "Cell \u001b[1;32mIn[4], line 5\u001b[0m\n\u001b[0;32m      3\u001b[0m \u001b[38;5;28mprint\u001b[39m(\u001b[38;5;28mnext\u001b[39m(it)) \n\u001b[0;32m      4\u001b[0m \u001b[38;5;28mprint\u001b[39m(\u001b[38;5;28mnext\u001b[39m(it)) \n\u001b[1;32m----> 5\u001b[0m \u001b[38;5;28mprint\u001b[39m(\u001b[38;5;28;43mnext\u001b[39;49m\u001b[43m(\u001b[49m\u001b[43mit\u001b[49m\u001b[43m)\u001b[49m)\n",
      "\u001b[1;31mStopIteration\u001b[0m: "
     ]
    }
   ],
   "source": [
    "it = iter([1, 2, 3]) \n",
    "print(next(it)) \n",
    "print(next(it)) \n",
    "print(next(it)) \n",
    "print(next(it))"
   ]
  },
  {
   "cell_type": "markdown",
   "metadata": {},
   "source": [
    "**Iteradores** são objetos que implementam os métodos ``__iter__()`` e ``__next__()``. \n",
    "\n",
    "Eles são utilizados para acessar os elementos de um iterável, um de cada vez.\n",
    "<br>\n",
    "<br>\n",
    "<br>\n",
    "\n",
    "\n",
    "<hr>\n",
    "\n",
    "### Criando um Iterador\n",
    "Para definir um objeto/classe como iterador, é necessário utilizar os métodos especiais citados\n",
    "1. ``__iter__()``\n",
    " Este método deve retornar o próprio objeto iterador. É utilizado para inicializar qualquer dado necessário para a iteração.\n",
    "\n",
    "2. ``__next__()``\n",
    "Este método deve retornar o próximo item da sequência. Quando não houver mais itens para retornar, ele deve levantar a exceção ``StopIteration``.\n",
    "\n",
    "### Exceção StopIteration\n",
    "Para que seu código não caia num **loop infinito**, deve ser utilizado a exceção ``raise StopIteration ``dentro do método especial ``__next__()``\n",
    "<br>\n",
    "<br>\n",
    "<br>\n",
    "No código abaixo, defini um objeto iterador que conta de 1 em 1 a depender do limite estabelecido:"
   ]
  },
  {
   "cell_type": "code",
   "execution_count": 12,
   "metadata": {},
   "outputs": [
    {
     "name": "stdout",
     "output_type": "stream",
     "text": [
      "1\n",
      "2\n",
      "3\n",
      "4\n",
      "5\n"
     ]
    }
   ],
   "source": [
    "class Contador():\n",
    "    def __init__(self, limite):\n",
    "        self.limite = limite\n",
    "        self.contador = 0\n",
    "    \n",
    "    # deve retornar o próprio objeto iterador por meio do 'return self'\n",
    "    def __iter__(self):\n",
    "        self.contador = 0 #reinicia o contador sempre que iterar\n",
    "        return self\n",
    "\n",
    "    #retorna o próximo valor da sequência\n",
    "    def __next__(self):\n",
    "        if self.contador < self.limite: #se o contador definido < que o limite, acrescente 1(faça algo)\n",
    "            self.contador += 1\n",
    "            return self.contador\n",
    "        else:\n",
    "            raise StopIteration #exceção para pausar a iteração quando atingir uma condição\n",
    "\n",
    "contador = Contador(5)\n",
    "\n",
    "for i in contador:\n",
    "    print(i)"
   ]
  },
  {
   "cell_type": "markdown",
   "metadata": {},
   "source": [
    "Outro jeito de iterar entre os itens de uma lista criando um objeto iterador:"
   ]
  },
  {
   "cell_type": "code",
   "execution_count": 3,
   "metadata": {},
   "outputs": [
    {
     "name": "stdout",
     "output_type": "stream",
     "text": [
      "1\n",
      "2\n",
      "3\n",
      "4\n",
      "5\n"
     ]
    }
   ],
   "source": [
    "class MeuIterador():\n",
    "    def __init__(self, lista):\n",
    "        self.lista = lista\n",
    "        self.indice = 0\n",
    "    \n",
    "    def __iter__(self):\n",
    "        self.indice = 0 #reinicializar o índice\n",
    "        return self\n",
    "    \n",
    "    def __next__(self):\n",
    "        if self.indice < len(self.lista):\n",
    "            item_atual = self.lista[self.indice]\n",
    "            self.indice += 1 \n",
    "            return item_atual\n",
    "        else:\n",
    "            raise StopIteration\n",
    "\n",
    "list = [1,2,3,4,5]\n",
    "\n",
    "meu_iter = MeuIterador(list)\n",
    "\n",
    "\n",
    "for item in meu_iter:\n",
    "    print(item)"
   ]
  },
  {
   "cell_type": "markdown",
   "metadata": {},
   "source": [
    "<hr>\n",
    "\n",
    "### Quando usar?\n",
    "Principalmente, utilizar um objeto iterador é muito útil para otimizar **uso de memória** porque eles produzem 1 item por vez, em vez de criar e armazenar um conjunto inteiro de itens que consumiria memória de forma desnecessária.\n",
    "\n",
    "1. **Manipulação de Grandes Conjuntos de Dados**:\n",
    "<br>\n",
    "<br>Para manipular conjuntos de dados que não cabem na memória, usar iteradores permite o processo de 1 item por vez, evitando o carregamento de todo *dataset* de uma vez\n",
    "<br>**Exemplo**: Carregamento de arquivos, banco de dados, streaming etc.\n",
    "<br>\n",
    "<br>\n",
    "\n",
    "2. **Criação Estrutras de Dados Personalizada**:\n",
    "<br>\n",
    "<br>Quando se faz necessário criar uma estrutura de dados iterável que não existe no python nativo: **Árvores, Listas Encadeadas, Filas**.\n",
    "<br>Com os métodos especiais ``__iter__()`` e ``__next__()``, você pode definir como a iteração ocorrerá, respeitando a estrutura de dado. \n",
    "<br>\n",
    "<br>\n",
    "\n",
    "3. **Eficiência e Desempenho**:\n",
    "<br>\n",
    "<br>Útil para criar pipelines de processamento onde cada etapa consome e produz dados sob demanda\n",
    "<br>\n",
    "<br>\n",
    "\n",
    "4. **Lazy Evaluation(Avaliação Preguiçosa)**:\n",
    "<br>\n",
    "<br>Economizar recursos computacionar adiando a avaliação de uma expressão (como uma compreensão de listas ou um Gerador) até que seu valor seja necessário.\n",
    "<br>Com os métodos especiais ``__iter__()`` e ``__next__()``, você pode definir como a iteração ocorrerá, respeitando a estrutura de dado. \n",
    "<br>\n",
    "<br>\n",
    "\n",
    "5. **Processamento Sequencial**:\n",
    "<br>\n",
    "<br>Quando você precisa processar itens em sequência porque a ordem importa\n",
    "<br>**Exemplo**: Filas de Tarefas, Streaming de dados em tempo real\n",
    "<br>\n",
    "\n",
    "\n",
    "\n",
    "\n"
   ]
  },
  {
   "cell_type": "markdown",
   "metadata": {},
   "source": []
  }
 ],
 "metadata": {
  "kernelspec": {
   "display_name": "Python 3",
   "language": "python",
   "name": "python3"
  },
  "language_info": {
   "codemirror_mode": {
    "name": "ipython",
    "version": 3
   },
   "file_extension": ".py",
   "mimetype": "text/x-python",
   "name": "python",
   "nbconvert_exporter": "python",
   "pygments_lexer": "ipython3",
   "version": "3.12.4"
  }
 },
 "nbformat": 4,
 "nbformat_minor": 2
}
