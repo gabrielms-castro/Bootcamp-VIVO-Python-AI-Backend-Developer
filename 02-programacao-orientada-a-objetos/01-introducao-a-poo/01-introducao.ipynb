{
 "cells": [
  {
   "cell_type": "markdown",
   "metadata": {},
   "source": [
    "# Programação Orientada a Objetos (POO)\n",
    "\n",
    "**O que é POO?**\n",
    "<br>Um paradigma de programação que estrutura o código abstraindo problemas em objetos do mundo real.\n",
    "\n",
    "Com orientação a objetos, facilita-se o entendimento do código, torna mais **modular**\n",
    "\n",
    "Para trabalhar com POO é necessário entender 2 conceitos: **Classes** e **Objetos**\n",
    "\n",
    "**Paradigma de Programação:**\n",
    "<br>É um estilo de programação, não uma linguagem. É a forma como você usa o código para **solucionar problemas**\n",
    "\n",
    "* **Exemplo**:<p>**Problema:** Beber água <p>**Solução 1:** Utilizar um copo <p>**Solução 2:** Utilizar uma garrafa\n",
    "\n",
    "Pense em cada solução como se fosse um tipo de paradigma diferente. Meios diferentes para solucionar um problema\n",
    "\n",
    "**Alguns Paradigmas:**\n",
    "* Imperativo/Procedural;\n",
    "* Funcional\n",
    "* Orientada a Eventos\n",
    "* Orientada a Objetos\n"
   ]
  },
  {
   "cell_type": "code",
   "execution_count": null,
   "metadata": {},
   "outputs": [],
   "source": []
  }
 ],
 "metadata": {
  "language_info": {
   "name": "python"
  }
 },
 "nbformat": 4,
 "nbformat_minor": 2
}
