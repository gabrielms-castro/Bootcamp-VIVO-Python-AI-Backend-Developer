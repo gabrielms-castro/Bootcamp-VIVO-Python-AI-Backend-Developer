{
 "cells": [
  {
   "cell_type": "markdown",
   "metadata": {},
   "source": [
    "# Crie um programa POO\n",
    "\n",
    "João tem uma bicicletaria e gostaria de registrar as venfas de duas bicicletas. Crie um programa onde João informe: **cor**, **modelo**, **ano**, e **valor** da bicicleta vendida.\n",
    "\n",
    "<br>Uma bicicleta pode **buzinar**, **parar** e **correr**. Adicione esses comportamentos!\n"
   ]
  },
  {
   "cell_type": "code",
   "execution_count": 15,
   "metadata": {},
   "outputs": [
    {
     "name": "stdout",
     "output_type": "stream",
     "text": [
      "Plim Plim!\n",
      "Parando bicicleta...\n",
      "Bicileta parada\n",
      "Vrummmmm!!!\n",
      "vermelha\n",
      "caloi\n",
      "2024\n",
      "1500\n",
      "Bicicleta: cor=vermelha, modelo=caloi, ano=2024, valor=1500 \n"
     ]
    }
   ],
   "source": [
    "class Bicicleta:\n",
    "    def __init__(self, cor, modelo, ano, valor):\n",
    "        self.cor = cor\n",
    "        self.modelo = modelo\n",
    "        self.ano = ano\n",
    "        self.valor = valor\n",
    "\n",
    "    def buzinar(self):\n",
    "        print(\"Plim Plim!\")\n",
    "\n",
    "    def parar(self):\n",
    "        print(\"Parando bicicleta...\")\n",
    "        print(\"Bicileta parada\")\n",
    "\n",
    "    def correr(self):\n",
    "        print(\"Vrummmmm!!!\")\n",
    "\n",
    "    # Acessar os atributos de uma classe\n",
    "    # def __str__(self):\n",
    "    #     return f\"Bicicleta: cor: {self.cor}, modelo: {self.modelo}, ano: {self.ano}, valor= {self.valor}\"\n",
    "\n",
    "    def __str__(self):\n",
    "        return f\"{self.__class__.__name__}: {', '.join([f'{chave}={valor}' for chave, valor in self.__dict__.items()])} \"\n",
    "\n",
    "\n",
    "caloi = Bicicleta(\"vermelha\", \"caloi\", 2024, 1500)\n",
    "caloi.buzinar()\n",
    "caloi.parar()\n",
    "caloi.correr()\n",
    "\n",
    "# Acessar os atributos de uma classe\n",
    "print(caloi.cor)\n",
    "print(caloi.modelo)\n",
    "print(caloi.ano)\n",
    "print(caloi.valor)\n",
    "\n",
    "print(caloi)\n"
   ]
  },
  {
   "cell_type": "code",
   "execution_count": null,
   "metadata": {},
   "outputs": [],
   "source": []
  }
 ],
 "metadata": {
  "kernelspec": {
   "display_name": "Python 3",
   "language": "python",
   "name": "python3"
  },
  "language_info": {
   "codemirror_mode": {
    "name": "ipython",
    "version": 3
   },
   "file_extension": ".py",
   "mimetype": "text/x-python",
   "name": "python",
   "nbconvert_exporter": "python",
   "pygments_lexer": "ipython3",
   "version": "3.12.3"
  }
 },
 "nbformat": 4,
 "nbformat_minor": 2
}
