{
 "cells": [
  {
   "cell_type": "markdown",
   "metadata": {},
   "source": [
    "# Herança Múltipla\n"
   ]
  },
  {
   "cell_type": "code",
   "execution_count": 19,
   "metadata": {},
   "outputs": [],
   "source": [
    "class Animais:\n",
    "    \n",
    "    def __init__(self, numero_patas):    \n",
    "        self.numero_patas = numero_patas\n",
    "\n",
    "    def __str__(self):\n",
    "        return f\"{self.__class__.__name__}: {', '.join([f'{chave}={valor}' for chave, valor in self.__dict__.items()])}\"\n",
    "\n",
    "\n"
   ]
  },
  {
   "cell_type": "code",
   "execution_count": 20,
   "metadata": {},
   "outputs": [],
   "source": [
    "class Mamiferos(Animais):\n",
    "    \n",
    "    def __init__(self, cor_pelo, **kwargs):\n",
    "        super().__init__(**kwargs) #chama o construtor pai\n",
    "        \n",
    "        self.cor_pelo = cor_pelo\n",
    "\n",
    "class Cachorro(Mamiferos):\n",
    "    pass\n",
    "\n",
    "class Gato(Mamiferos):\n",
    "    pass\n",
    "\n",
    "class Leão(Mamiferos):\n",
    "    pass"
   ]
  },
  {
   "cell_type": "code",
   "execution_count": 21,
   "metadata": {},
   "outputs": [],
   "source": [
    "class Aves(Animais):\n",
    "    \n",
    "    def __init__(self, cor_bico, **kwargs):\n",
    "        super().__init__(**kwargs) #chama o construtor pai\n",
    "        \n",
    "        self.cor_bico = cor_bico\n",
    "\n",
    "\n"
   ]
  },
  {
   "cell_type": "markdown",
   "metadata": {},
   "source": [
    "**Herança Múltipla em prática:** Herdando características de duas classes distintas"
   ]
  },
  {
   "cell_type": "code",
   "execution_count": 22,
   "metadata": {},
   "outputs": [],
   "source": [
    "class Ornitorrinco(Mamiferos,Aves):\n",
    "    pass\n",
    "    "
   ]
  },
  {
   "cell_type": "code",
   "execution_count": 27,
   "metadata": {},
   "outputs": [
    {
     "name": "stdout",
     "output_type": "stream",
     "text": [
      "Ornitorrinco: numero_patas=4, cor_bico=Preto, cor_pelo=Marrom\n"
     ]
    }
   ],
   "source": [
    "ornitorrinco = Ornitorrinco(numero_patas=4, cor_bico=\"Preto\", cor_pelo=\"Marrom\")\n",
    "print(ornitorrinco)"
   ]
  },
  {
   "cell_type": "code",
   "execution_count": 29,
   "metadata": {},
   "outputs": [
    {
     "name": "stdout",
     "output_type": "stream",
     "text": [
      "Gato: numero_patas=4, cor_pelo=Cinza\n"
     ]
    }
   ],
   "source": [
    "gato = Gato(numero_patas=4, cor_pelo=\"Cinza\")\n",
    "print(gato)"
   ]
  },
  {
   "cell_type": "code",
   "execution_count": 30,
   "metadata": {},
   "outputs": [
    {
     "name": "stdout",
     "output_type": "stream",
     "text": [
      "bar\n"
     ]
    }
   ],
   "source": [
    "class Foo:\n",
    "    def hello(self):\n",
    "        print(self.__class__.__name__.lower())\n",
    "\n",
    "\n",
    "class Bar(Foo):\n",
    "    def hello(self):\n",
    "        return super().hello()\n",
    "\n",
    "\n",
    "bar = Bar()\n",
    "bar.hello()"
   ]
  },
  {
   "cell_type": "code",
   "execution_count": null,
   "metadata": {},
   "outputs": [],
   "source": []
  }
 ],
 "metadata": {
  "kernelspec": {
   "display_name": "Python 3",
   "language": "python",
   "name": "python3"
  },
  "language_info": {
   "codemirror_mode": {
    "name": "ipython",
    "version": 3
   },
   "file_extension": ".py",
   "mimetype": "text/x-python",
   "name": "python",
   "nbconvert_exporter": "python",
   "pygments_lexer": "ipython3",
   "version": "3.12.3"
  }
 },
 "nbformat": 4,
 "nbformat_minor": 2
}
