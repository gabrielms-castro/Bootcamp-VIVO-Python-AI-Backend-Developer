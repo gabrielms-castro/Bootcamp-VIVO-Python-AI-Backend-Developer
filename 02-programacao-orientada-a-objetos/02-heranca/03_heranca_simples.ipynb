{
 "cells": [
  {
   "cell_type": "markdown",
   "metadata": {},
   "source": [
    "# Herança Simples"
   ]
  },
  {
   "cell_type": "code",
   "execution_count": 34,
   "metadata": {},
   "outputs": [],
   "source": [
    "class Veiculo:\n",
    "    def __init__(self, cor, placa, numero_rodas):\n",
    "        self.cor = cor \n",
    "        self.placa = placa\n",
    "        self.numero_rodas = numero_rodas\n",
    "    \n",
    "    def ligar_motor(self):\n",
    "        print(\"Ligando o motor...\")\n",
    "        print(\"Motor ligado!\")\n",
    "    \n",
    "    def acelerar(self):\n",
    "        print(\"Acelerando o veículo...\")\n",
    "        print(\"Veículo em movimento!\")\n",
    "        \n",
    "    def frear(self):\n",
    "        print(\"Freando o veículo...\")\n",
    "        print(\"Veículo parado!\")\n",
    " \n",
    "    def __str__(self):\n",
    "        return f\"{self.__class__.__name__}: {', '.join([f'{chave}={valor}' for chave, valor in self.__dict__.items()])}\"\n",
    "\n",
    "\n",
    "class Motocicleta(Veiculo):\n",
    "    pass\n",
    "        \n",
    "\n",
    "\n",
    "class Carro(Veiculo):\n",
    "    pass\n",
    "\n",
    "\n",
    "class Caminhao(Veiculo):\n",
    "    def __init__(self, cor, placa, numero_rodas, carregado):\n",
    "        super().__init__(cor, placa, numero_rodas) # Chama o construtor da classe pai\n",
    "        self.carregado = carregado\n",
    "        \n",
    "    def esta_carregado(self):\n",
    "        print(f'Carregado?\\t{\"Sim\" if self.carregado else \"Não\"}')\n",
    "    \n",
    "    \n"
   ]
  },
  {
   "cell_type": "code",
   "execution_count": 35,
   "metadata": {},
   "outputs": [
    {
     "name": "stdout",
     "output_type": "stream",
     "text": [
      "Motocicleta: cor=vermelha, placa=ABC-1234, numero_rodas=2\n",
      "Ligando o motor...\n",
      "Motor ligado!\n"
     ]
    }
   ],
   "source": [
    "moto = Motocicleta(\"vermelha\", \"ABC-1234\", 2)\n",
    "print(moto)\n",
    "\n",
    "moto.ligar_motor()"
   ]
  },
  {
   "cell_type": "code",
   "execution_count": 36,
   "metadata": {},
   "outputs": [
    {
     "name": "stdout",
     "output_type": "stream",
     "text": [
      "Carro: cor=branca, placa=DEF-5678, numero_rodas=4\n",
      "Ligando o motor...\n",
      "Motor ligado!\n"
     ]
    }
   ],
   "source": [
    "carro = Carro(\"branca\", \"DEF-5678\", 4)\n",
    "print(carro)\n",
    "carro.ligar_motor()"
   ]
  },
  {
   "cell_type": "code",
   "execution_count": 37,
   "metadata": {},
   "outputs": [
    {
     "name": "stdout",
     "output_type": "stream",
     "text": [
      "Ligando o motor...\n",
      "Motor ligado!\n",
      "Carregado?\tSim\n",
      "Caminhao: cor=azul, placa=GHI-9012, numero_rodas=8, carregado=True\n"
     ]
    }
   ],
   "source": [
    "caminhao = Caminhao(\"azul\", \"GHI-9012\", 8, True)\n",
    "\n",
    "caminhao.ligar_motor()\n",
    "caminhao.esta_carregado()\n",
    "\n",
    "print(caminhao)"
   ]
  },
  {
   "cell_type": "code",
   "execution_count": null,
   "metadata": {},
   "outputs": [],
   "source": []
  }
 ],
 "metadata": {
  "kernelspec": {
   "display_name": "Python 3",
   "language": "python",
   "name": "python3"
  },
  "language_info": {
   "codemirror_mode": {
    "name": "ipython",
    "version": 3
   },
   "file_extension": ".py",
   "mimetype": "text/x-python",
   "name": "python",
   "nbconvert_exporter": "python",
   "pygments_lexer": "ipython3",
   "version": "3.12.4"
  }
 },
 "nbformat": 4,
 "nbformat_minor": 2
}
