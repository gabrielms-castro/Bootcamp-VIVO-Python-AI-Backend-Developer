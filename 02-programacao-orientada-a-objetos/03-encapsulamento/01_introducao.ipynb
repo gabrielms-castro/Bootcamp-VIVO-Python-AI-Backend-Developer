{
 "cells": [
  {
   "cell_type": "markdown",
   "metadata": {},
   "source": [
    "# Encapsulamento\n",
    "\n",
    "Descreve a ideia de agrupar dados e os métodos que manipulam esses dados em uma unidade.\n",
    "<br>O encapsulamento, uma das bases de POO, implica em aplicar restrição ao acesso direto a variáveis e métodos, evitando modificação acidental de dados.\n",
    "<br>Para evitar essa modificação acidental, a variável só pode ser alterada pelo método desse objeto."
   ]
  },
  {
   "cell_type": "markdown",
   "metadata": {},
   "source": [
    "## Recursos Publicos/Privados\n",
    "\n",
    "Em Python não há palavra reservada para definir o nível de acesso aos atributos e métodos da classe. <br>Sendo assim, utiliza-se convenções no nome do recurso para definir se ele deve ser considerado **público** ou **privado**\n",
    "<br>Todos os recursos são **públicos**, a menos que o nome deste recurso inicie com um *underline*.\n",
    "\n",
    "Obs: Ao deparar-se com  uma variável ou método que utiliza *underline* antes do nome, isso indicará que ela **não deve ter seu valor manipulado diretamente** ou **invocar o método fora do escopo da classe**.\n",
    "\n",
    "### Recurso Privado:\n",
    "Pode ser acessado fora da classe;\n",
    "Utiliza, **por convenção**, um *underline* ```_nome_do_recurso``` antes do nome da variável para indicar que aquela variável não deve ser alterada fora da classe.\n",
    "\n"
   ]
  },
  {
   "cell_type": "code",
   "execution_count": 1,
   "metadata": {},
   "outputs": [],
   "source": [
    "class Conta:\n",
    "    def __init__(self, saldo=0):\n",
    "        self._saldo = saldo #atributo saldo foi definido como privado\n",
    "\n",
    "    def depositar(self, valor):\n",
    "        pass\n",
    "\n",
    "    def sacar(self, valor):\n",
    "        pass"
   ]
  },
  {
   "cell_type": "code",
   "execution_count": 2,
   "metadata": {},
   "outputs": [
    {
     "name": "stdout",
     "output_type": "stream",
     "text": [
      "100\n",
      "200\n"
     ]
    }
   ],
   "source": [
    "conta = Conta(100)\n",
    "print(conta._saldo) #forma errada de acessar o atributo privado\n",
    "\n",
    "#pior ainda, é manipular diretamente o valor do atributo\n",
    "conta._saldo += 100\n",
    "print(conta._saldo)"
   ]
  },
  {
   "cell_type": "code",
   "execution_count": 3,
   "metadata": {},
   "outputs": [],
   "source": [
    "#Aqui vamos manipular o atributo 'saldo' dentro da classe Conta e através de seus métodos 'depositar' e 'sacar'\n",
    "class Conta:\n",
    "    def __init__(self,numero_agencia, saldo=0, ):\n",
    "        self._saldo = saldo\n",
    "        self.numero_agencia = numero_agencia\n",
    "\n",
    "    def depositar(self, valor):\n",
    "        # Regras de deposito\n",
    "        # ...\n",
    "        self._saldo += valor\n",
    "\n",
    "    def sacar(self, valor):\n",
    "        # Regras de saque\n",
    "        # ...\n",
    "        self._saldo -= valor\n",
    "    \n",
    "    #O jeito correto de vermos o saldo da nossa conta é através de um método que retorna o valor do saldo\n",
    "    def extrato(self):\n",
    "        return self._saldo"
   ]
  },
  {
   "cell_type": "code",
   "execution_count": 4,
   "metadata": {},
   "outputs": [
    {
     "data": {
      "text/plain": [
       "250"
      ]
     },
     "execution_count": 4,
     "metadata": {},
     "output_type": "execute_result"
    }
   ],
   "source": [
    "conta = Conta(\"0001\", 100)\n",
    "conta.depositar(150)\n",
    "\n",
    "#Agora sim, podemos usar o método 'extrato' pela classe 'Conta' que foi definido na variável 'conta'\n",
    "conta.extrato()\n"
   ]
  },
  {
   "cell_type": "markdown",
   "metadata": {},
   "source": [
    "### Proprerties\n",
    "\n",
    "O método ``property()`` pega um método e o transforma numa propriedade.\n",
    "<br>Com esse método, nós criamos um atributo gerenciado no Python\n",
    "\n",
    "Ele deve ser utilizado antes da definição de um método como ``@property``"
   ]
  },
  {
   "cell_type": "code",
   "execution_count": 5,
   "metadata": {},
   "outputs": [
    {
     "name": "stdout",
     "output_type": "stream",
     "text": [
      "10\n"
     ]
    }
   ],
   "source": [
    "class Foo:\n",
    "    def __init__(self, x=None):\n",
    "        self._x = x\n",
    "        \n",
    "    @property\n",
    "    def x(self):\n",
    "        return self._x or 0\n",
    "\n",
    "foo = Foo(10)\n",
    "print(foo.x)"
   ]
  },
  {
   "cell_type": "code",
   "execution_count": 6,
   "metadata": {},
   "outputs": [
    {
     "ename": "AttributeError",
     "evalue": "property 'x' of 'Foo' object has no setter",
     "output_type": "error",
     "traceback": [
      "\u001b[1;31m---------------------------------------------------------------------------\u001b[0m",
      "\u001b[1;31mAttributeError\u001b[0m                            Traceback (most recent call last)",
      "Cell \u001b[1;32mIn[6], line 2\u001b[0m\n\u001b[0;32m      1\u001b[0m \u001b[38;5;66;03m#E se tentarmos manipular o atributo 'x' diretamente?\u001b[39;00m\n\u001b[1;32m----> 2\u001b[0m \u001b[43mfoo\u001b[49m\u001b[38;5;241;43m.\u001b[39;49m\u001b[43mx\u001b[49m \u001b[38;5;241m=\u001b[39m \u001b[38;5;241m20\u001b[39m\n\u001b[0;32m      3\u001b[0m \u001b[38;5;28mprint\u001b[39m(foo\u001b[38;5;241m.\u001b[39mx)\n",
      "\u001b[1;31mAttributeError\u001b[0m: property 'x' of 'Foo' object has no setter"
     ]
    }
   ],
   "source": [
    "#E se tentarmos manipular o atributo 'x' diretamente?\n",
    "foo.x = 20\n",
    "print(foo.x)"
   ]
  },
  {
   "cell_type": "markdown",
   "metadata": {},
   "source": [
    "<hr>\n",
    "\n",
    "Retornará um ``AttributeError``, já que não podemos settar o atributo x diretamente. \n",
    "\n",
    "Para isso, utilizamos outro decorator: ``setter``\n",
    "\n",
    "Obs: Não utilizamos ``return`` em um setter"
   ]
  },
  {
   "cell_type": "code",
   "execution_count": null,
   "metadata": {},
   "outputs": [],
   "source": [
    "class Foo:\n",
    "    def __init__(self, x=None):\n",
    "        self._x = x\n",
    "        \n",
    "    @property\n",
    "    def x(self):\n",
    "        return self._x or 0\n",
    "    \n",
    "    @x.setter\n",
    "    def x(self, value):\n",
    "        self._x += value\n",
    "\n",
    "foo = Foo(10)\n",
    "print(foo.x)\n",
    "\n",
    "foo.x = 100\n",
    "print(foo.x)"
   ]
  },
  {
   "cell_type": "markdown",
   "metadata": {},
   "source": [
    "Outra propriedade é o ``deleter``. Ela determina o que será feito ao nosso atributo quando utilizarmos ``del``"
   ]
  },
  {
   "cell_type": "code",
   "execution_count": null,
   "metadata": {},
   "outputs": [],
   "source": [
    "class Foo:\n",
    "    def __init__(self, x=None):\n",
    "        self._x = x\n",
    "        \n",
    "    @property\n",
    "    def x(self):\n",
    "        return self._x or 0\n",
    "    \n",
    "    @x.setter\n",
    "    def x(self, value):\n",
    "        self._x += value\n",
    "        \n",
    "    @x.deleter\n",
    "    def x(self):\n",
    "        self._x = 0 #podemos definir um novo valor para o atributo 'x' caso 'x' seja deletado, invés de simplesmente apagar o atributo\n",
    "        \n",
    "foo = Foo(10)\n",
    "print(foo.x)\n",
    "\n",
    "foo.x = 100\n",
    "print(foo.x)\n",
    "\n",
    "del foo.x\n",
    "print(foo.x)"
   ]
  },
  {
   "cell_type": "markdown",
   "metadata": {},
   "source": [
    "Importante destacar que não precisamos utilizar ``property`` se o atributo não deve respeitar nenhuma **regra de negócio**. Isso apenas complicaria a escrita do código, deixando algo desnecessariamente complexo."
   ]
  },
  {
   "cell_type": "code",
   "execution_count": null,
   "metadata": {},
   "outputs": [],
   "source": [
    "class Pessoa:\n",
    "    def __init__(self, nome, ano_nascimento):\n",
    "        self.nome = nome\n",
    "        self._ano_nascimento = ano_nascimento\n",
    "    \n",
    "    @property\n",
    "    def idade(self):\n",
    "        _ano_atual = 2024\n",
    "        return _ano_atual - self._ano_nascimento\n",
    "    \n",
    "pessoa = Pessoa(\"Joaquim\", 1968)\n",
    "print(pessoa.nome)\n",
    "print(pessoa.idade) #Como utilizamos o 'property' no 'def idade()', nós o transformamos num atributo. Por isso acessamos sem o '()'\n",
    "                    # Geralmente acessamos um método como 'pessoa.idade()', mas aqui nosso método foi transformado num atributo, então tiramos o parenteses."
   ]
  },
  {
   "cell_type": "code",
   "execution_count": null,
   "metadata": {},
   "outputs": [],
   "source": []
  }
 ],
 "metadata": {
  "kernelspec": {
   "display_name": "Python 3",
   "language": "python",
   "name": "python3"
  },
  "language_info": {
   "codemirror_mode": {
    "name": "ipython",
    "version": 3
   },
   "file_extension": ".py",
   "mimetype": "text/x-python",
   "name": "python",
   "nbconvert_exporter": "python",
   "pygments_lexer": "ipython3",
   "version": "3.12.4"
  }
 },
 "nbformat": 4,
 "nbformat_minor": 2
}
