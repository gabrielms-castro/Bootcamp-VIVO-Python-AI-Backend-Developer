{
 "cells": [
  {
   "cell_type": "markdown",
   "metadata": {},
   "source": [
    "### Decorador com Argumento\n",
    "\n",
    "Para que a função a receber o decorador possa levar argumentos, a forma mais prática para que isso ocorra dinamicamente, é estabelecer ``*args`` e ``**kwargs`` no argumento da função interna (**envelope()** ou **wrapper()**). \n",
    "\n",
    "**``*args`` e ``**kwargs`` aceitará um número arbitrário de argumentos posicionais e de palavras-chave**"
   ]
  },
  {
   "cell_type": "code",
   "execution_count": 3,
   "metadata": {},
   "outputs": [
    {
     "name": "stdout",
     "output_type": "stream",
     "text": [
      "decorador:\t\tAntes de executar a função decorada\n",
      "Oi, Marcos\n",
      "decorador:\t\tDepois de executar a função decorada\n"
     ]
    }
   ],
   "source": [
    "def decorador(func):\n",
    "    def envelope(*args, **kwargs):\n",
    "        print(\"decorador:\\t\\tAntes de executar a função decorada\")\n",
    "        func(*args, **kwargs)\n",
    "        print(\"decorador:\\t\\tDepois de executar a função decorada\")\n",
    "    return envelope\n",
    "\n",
    "@decorador\n",
    "def dizer_oi(nome):\n",
    "    print( f\"Oi, {nome}\")\n",
    "\n",
    "dizer_oi(\"Marcos\")"
   ]
  },
  {
   "cell_type": "markdown",
   "metadata": {},
   "source": [
    "### Retornando Valores de Funções Decoradas\n",
    "\n",
    "O decorador pode decidir se retorna o valor da função decorada, ou não. Para que o valor seja retornado, a função interna(envelope), deve retornar o valor da função decorada."
   ]
  },
  {
   "cell_type": "code",
   "execution_count": 11,
   "metadata": {},
   "outputs": [
    {
     "name": "stdout",
     "output_type": "stream",
     "text": [
      "Estou aprendendo >>> PYTHON <<<\n"
     ]
    }
   ],
   "source": [
    "def decorador(func):  \n",
    "    def envelope(*args, **kwargs):\n",
    "        resultado = func(*args, **kwargs) #Salve a função decorada em uma variável\n",
    "        return resultado                  #Retorne a variável  \n",
    "    return envelope                       #Retorne o envelope\n",
    "\n",
    "@decorador\n",
    "def aprender(tecnologia):\n",
    "    return f\"Estou aprendendo >>> {tecnologia.upper()} <<<\"\n",
    "\n",
    "print(aprender(\"python\"))"
   ]
  },
  {
   "cell_type": "markdown",
   "metadata": {},
   "source": [
    "### Introspecção\n",
    "\n",
    "**Instrospecção** é a capacidade de um objeto saber sobre seus próprios atributos em tempo de execução.\n",
    "Quando criamos um decorador com um envelope da forma acima, a função decorada perde sua introspecção, o que poderá dificultar, posteriormente, a identificação de bugs e problemas no código.\n",
    "Outro ponto importante de manter a instrospecção de um objeto é garantir sua segurança e monitoramento, garantindo que ele esteja se comportando como deveria durante a execução.\n",
    "\n",
    "Para manter essa capacidade, importe o módulo ``functools`` e decore seu **envelope()** com o ``@functools.wraps()``"
   ]
  },
  {
   "cell_type": "code",
   "execution_count": 15,
   "metadata": {},
   "outputs": [
    {
     "data": {
      "text/plain": [
       "'envelope'"
      ]
     },
     "execution_count": 15,
     "metadata": {},
     "output_type": "execute_result"
    }
   ],
   "source": [
    "#Tentando utlizar introspecção na função aprender()\n",
    "aprender.__name__\n",
    "\n",
    "#Perceba que o output será o nome da função envelope e não o nome que deveria: aprender()"
   ]
  },
  {
   "cell_type": "code",
   "execution_count": 17,
   "metadata": {},
   "outputs": [
    {
     "data": {
      "text/plain": [
       "'aprender'"
      ]
     },
     "execution_count": 17,
     "metadata": {},
     "output_type": "execute_result"
    }
   ],
   "source": [
    "import functools\n",
    "def decorador(func): \n",
    "    @functools.wraps(func) \n",
    "    def envelope(*args, **kwargs):\n",
    "        resultado = func(*args, **kwargs) #Salve a função decorada em uma variável\n",
    "        return resultado                  #Retorne a variável  \n",
    "    return envelope                       #Retorne o envelope\n",
    "\n",
    "@decorador\n",
    "def aprender(tecnologia):\n",
    "    return f\"Estou aprendendo >>> {tecnologia.upper()} <<<\"\n",
    "\n",
    "#Tentando utlizar introspecção na função aprender() mantendo sua introspecção\n",
    "#Agora ela retorna o nome verdadeiro da função decorada e não seu envelope\n",
    "aprender.__name__"
   ]
  }
 ],
 "metadata": {
  "kernelspec": {
   "display_name": "Python 3",
   "language": "python",
   "name": "python3"
  },
  "language_info": {
   "codemirror_mode": {
    "name": "ipython",
    "version": 3
   },
   "file_extension": ".py",
   "mimetype": "text/x-python",
   "name": "python",
   "nbconvert_exporter": "python",
   "pygments_lexer": "ipython3",
   "version": "3.12.4"
  }
 },
 "nbformat": 4,
 "nbformat_minor": 2
}
