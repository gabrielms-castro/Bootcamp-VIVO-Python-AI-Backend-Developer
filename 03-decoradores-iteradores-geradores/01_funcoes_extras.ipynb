{
 "cells": [
  {
   "cell_type": "markdown",
   "metadata": {},
   "source": [
    "Funções são consideradas **objetos de primeira classe**, pois podem ser passadas e usadas como argumentos para outras funções\n",
    "\n",
    "Funções podem ser:\n",
    "1. atribuídas a variáveis;\n",
    "2. passadas como argumentos para outras funções;\n",
    "3. retornadas por outras funções (**Inner Functions**);\n",
    "4. armazenadas em estruturas de dados;\n",
    "\n"
   ]
  },
  {
   "cell_type": "markdown",
   "metadata": {},
   "source": [
    "### Atribuindo a variáveis"
   ]
  },
  {
   "cell_type": "code",
   "execution_count": 1,
   "metadata": {},
   "outputs": [
    {
     "name": "stdout",
     "output_type": "stream",
     "text": [
      "12\n"
     ]
    }
   ],
   "source": [
    "def somar(x, y):\n",
    "    return x + y\n",
    "\n",
    "#atribuindo somar() a uma variável\n",
    "resultado = somar(10,2)\n",
    "print(resultado)"
   ]
  },
  {
   "cell_type": "markdown",
   "metadata": {},
   "source": [
    "<hr>\n",
    "\n",
    "### Utilizando funções como argumentos para outras funções"
   ]
  },
  {
   "cell_type": "code",
   "execution_count": 2,
   "metadata": {},
   "outputs": [
    {
     "name": "stdout",
     "output_type": "stream",
     "text": [
      "Iniciando...\n",
      "Executando a função mensagem()...\n",
      "Olá, João\n",
      "-------------------------\n",
      "Iniciando...\n",
      "Executando a função mensagem_2()\n",
      "Olá, Gustavo\n"
     ]
    }
   ],
   "source": [
    "def primeira_mensagem(nome):\n",
    "    print(\"Executando a função mensagem()...\")\n",
    "    return f\"Olá, {nome}\"\n",
    "\n",
    "def segunda_mensagem(nome):\n",
    "    print(\"Executando a função mensagem_2()\")\n",
    "    return f\"Olá, {nome}\"\n",
    "\n",
    "def executar_script(funcao, nome):\n",
    "    print(\"Iniciando...\")\n",
    "    return print(funcao(nome))\n",
    "\n",
    "executar_script(primeira_mensagem, \"João\")\n",
    "print(f\"{'-'*25}\")\n",
    "executar_script(segunda_mensagem, \"Gustavo\")"
   ]
  },
  {
   "cell_type": "markdown",
   "metadata": {},
   "source": [
    "<hr>\n",
    "\n",
    "### Inner Functions\n",
    "\n",
    "É possível definir funções dentro de outras funções"
   ]
  },
  {
   "cell_type": "code",
   "execution_count": 5,
   "metadata": {},
   "outputs": [
    {
     "name": "stdout",
     "output_type": "stream",
     "text": [
      "Filho 1\n",
      "Filho 2\n"
     ]
    }
   ],
   "source": [
    "def pai():\n",
    "    \n",
    "    def filho1():\n",
    "        print('Filho 1')\n",
    "        \n",
    "    def filho2():\n",
    "        print('Filho 2')\n",
    "    \n",
    "    filho1()\n",
    "    filho2()\n",
    "\n",
    "pai()"
   ]
  },
  {
   "cell_type": "markdown",
   "metadata": {},
   "source": [
    "<hr>\n",
    "\n",
    "### Retornando Funções de Funções\n",
    "\n",
    "Você pode usar funções como valores de retorno de uma função"
   ]
  },
  {
   "cell_type": "code",
   "execution_count": 11,
   "metadata": {},
   "outputs": [
    {
     "name": "stdout",
     "output_type": "stream",
     "text": [
      "25\n",
      "5\n",
      "150\n",
      "1.5\n"
     ]
    }
   ],
   "source": [
    "def calcular(operador):\n",
    "    def somar(x, y):\n",
    "        return x + y\n",
    "    \n",
    "    def subtrair(x, y):\n",
    "        return x - y\n",
    "    \n",
    "    def multiplicar(x, y):\n",
    "        return x * y\n",
    "    \n",
    "    def dividir(x, y):\n",
    "        return x / y\n",
    "    \n",
    "    match operador:\n",
    "        case \"+\":\n",
    "            return somar\n",
    "    match operador:\n",
    "        case \"-\":\n",
    "            return subtrair\n",
    "    match operador:\n",
    "        case \"*\":\n",
    "            return multiplicar\n",
    "    match operador:\n",
    "        case \"/\":\n",
    "            return dividir\n",
    "    \n",
    "\n",
    "print(calcular(\"+\")(15,10))\n",
    "print(calcular(\"-\")(15,10))\n",
    "print(calcular(\"*\")(15,10))\n",
    "print(calcular(\"/\")(15,10))\n"
   ]
  }
 ],
 "metadata": {
  "kernelspec": {
   "display_name": "Python 3",
   "language": "python",
   "name": "python3"
  },
  "language_info": {
   "codemirror_mode": {
    "name": "ipython",
    "version": 3
   },
   "file_extension": ".py",
   "mimetype": "text/x-python",
   "name": "python",
   "nbconvert_exporter": "python",
   "pygments_lexer": "ipython3",
   "version": "3.12.4"
  }
 },
 "nbformat": 4,
 "nbformat_minor": 2
}
